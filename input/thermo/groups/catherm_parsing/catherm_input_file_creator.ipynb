{
 "cells": [
  {
   "cell_type": "code",
   "execution_count": 21,
   "metadata": {
    "collapsed": true
   },
   "outputs": [],
   "source": [
    "from rmgpy.rmg.main import RMG\n",
    "from IPython.display import display\n",
    "import json"
   ]
  },
  {
   "cell_type": "code",
   "execution_count": 22,
   "metadata": {
    "collapsed": true
   },
   "outputs": [],
   "source": [
    "inputFile = '../polycyclic_qm_inputs/input_total.py'\n",
    "rmg = RMG()\n",
    "rmg.loadThermoInput(inputFile)"
   ]
  },
  {
   "cell_type": "markdown",
   "metadata": {},
   "source": [
    "## Create cantherm input file automatically"
   ]
  },
  {
   "cell_type": "code",
   "execution_count": 23,
   "metadata": {
    "collapsed": true
   },
   "outputs": [],
   "source": [
    "cantherm_input_template = \"\"\"\n",
    "#!/usr/bin/env python\n",
    "# encoding: utf-8\n",
    "\n",
    "modelChemistry = \"M06-2X\"\n",
    "frequencyScaleFactor = 0.99\n",
    "useHinderedRotors = False\n",
    "useBondCorrections = False\n",
    "\n",
    "species('%s', '%s', '%s.py')\n",
    "\n",
    "statmech('%s')\n",
    "thermo('%s', 'NASA')\n",
    "\"\"\""
   ]
  },
  {
   "cell_type": "code",
   "execution_count": 24,
   "metadata": {
    "collapsed": true
   },
   "outputs": [],
   "source": [
    "import os\n",
    "main_path = os.path.abspath('../polycyclic_cantherm_inputs/')\n",
    "# create folder for each species\n",
    "for spec in rmg.initialSpecies[1:]:\n",
    "    spec_path = os.path.join(main_path, spec.label)\n",
    "    if not os.path.exists(spec_path): os.mkdir(spec_path)\n",
    "    \n",
    "    # Write input file to disk\n",
    "    inputFile = open(os.path.join(spec_path,'input.py'),'w')\n",
    "    inputFile.write(cantherm_input_template % (spec.label, spec.molecule[0].toSMILES(), spec.label, spec.label, spec.label))\n",
    "    inputFile.close()"
   ]
  },
  {
   "cell_type": "markdown",
   "metadata": {},
   "source": [
    "## Create cantherm species file automatically"
   ]
  },
  {
   "cell_type": "code",
   "execution_count": 25,
   "metadata": {
    "collapsed": true
   },
   "outputs": [],
   "source": [
    "cantherm_speciesFile_template = \"\"\"\n",
    "#!/usr/bin/env python\n",
    "# -*- coding: utf-8 -*-\n",
    "\n",
    "atoms = %s\n",
    "\n",
    "bonds = %s\n",
    "\n",
    "linear = %s\n",
    "\n",
    "externalSymmetry = %s\n",
    "\n",
    "spinMultiplicity = %s\n",
    "\n",
    "opticalIsomers = %s\n",
    "\n",
    "energy = {\n",
    "    'M06-2X': GaussianLog('%s.log'),\n",
    "}\n",
    "\n",
    "geometry = GaussianLog('%s.log')\n",
    "\n",
    "frequencies = GaussianLog('%s.log')\n",
    "\n",
    "rotors = []\n",
    "\"\"\""
   ]
  },
  {
   "cell_type": "code",
   "execution_count": 26,
   "metadata": {
    "collapsed": false
   },
   "outputs": [],
   "source": [
    "for spec in rmg.initialSpecies[1:]:\n",
    "    molecule = spec.molecule[0]\n",
    "    atoms = {}\n",
    "    for atom in molecule.vertices:\n",
    "        if atom.symbol not in atoms:\n",
    "            atoms[atom.symbol] = 1\n",
    "        else:\n",
    "            atoms[atom.symbol] += 1\n",
    "    \n",
    "    # collect bonds in molecule\n",
    "    bond_list = []\n",
    "    for atom1 in molecule.vertices:\n",
    "        for atom2, bond in molecule.getBonds(atom1).iteritems():\n",
    "            bond_list.append(bond)\n",
    "    bond_set = set(bond_list)\n",
    "    \n",
    "    # generate bonds dict\n",
    "    bonds = {}\n",
    "    for bond in bond_set:\n",
    "        bond_key = ''\n",
    "        if bond.order == 'S':\n",
    "            bond_key = bond.atom1.symbol + '-' + bond.atom2.symbol\n",
    "        elif bond.order == 'D':\n",
    "            bond_key = bond.atom1.symbol + '=' + bond.atom2.symbol\n",
    "        elif bond.order == 'T':\n",
    "            bond_key = bond.atom1.symbol + '#' + bond.atom2.symbol\n",
    "        if bond_key == '':\n",
    "            print 'bond order of {0} cannot be parsed!'.format(bond)\n",
    "        else:\n",
    "            if bond_key not in bonds:\n",
    "                bonds[bond_key] = 1\n",
    "            else:\n",
    "                bonds[bond_key] += 1\n",
    "    \n",
    "    # write into species.py\n",
    "    spec_path = os.path.join(main_path, spec.label)\n",
    "    speciesFile = open(os.path.join(spec_path,'{0}.py'.format(spec.label)),'w')\n",
    "    speciesFile.write(cantherm_speciesFile_template % (atoms, bonds, False, 1, 1, 1, spec.label, spec.label, spec.label))\n",
    "    speciesFile.close()"
   ]
  },
  {
   "cell_type": "markdown",
   "metadata": {},
   "source": [
    "## Copy log file into right folder"
   ]
  },
  {
   "cell_type": "code",
   "execution_count": 27,
   "metadata": {
    "collapsed": true
   },
   "outputs": [],
   "source": [
    "import shutil"
   ]
  },
  {
   "cell_type": "code",
   "execution_count": 29,
   "metadata": {
    "collapsed": false
   },
   "outputs": [
    {
     "name": "stdout",
     "output_type": "stream",
     "text": [
      "s1_3_5_diene_1_3: log file is missing!\n",
      "s1_5_5_ane: log file is missing!\n",
      "s1_5_6_diene_1_3: log file is missing!\n",
      "s1_6_6_diene_2_8: log file is missing!\n",
      "s2_5_6_ene_m: log file is missing!\n"
     ]
    }
   ],
   "source": [
    "log_folder = os.path.abspath('../polycyclic_qm_logs/')\n",
    "for spec in rmg.initialSpecies[1:]:\n",
    "    log_src = os.path.join(log_folder, '{0}.log'.format(spec.label))\n",
    "    log_dst = os.path.join(main_path, spec.label, '{0}.log'.format(spec.label))\n",
    "    if os.path.exists(log_src):\n",
    "        shutil.copy(log_src, log_dst)\n",
    "    else:\n",
    "        print spec.label + ': log file is missing!'"
   ]
  },
  {
   "cell_type": "code",
   "execution_count": null,
   "metadata": {
    "collapsed": true
   },
   "outputs": [],
   "source": []
  }
 ],
 "metadata": {
  "kernelspec": {
   "display_name": "Python 2",
   "language": "python",
   "name": "python2"
  },
  "language_info": {
   "codemirror_mode": {
    "name": "ipython",
    "version": 2
   },
   "file_extension": ".py",
   "mimetype": "text/x-python",
   "name": "python",
   "nbconvert_exporter": "python",
   "pygments_lexer": "ipython2",
   "version": "2.7.10"
  }
 },
 "nbformat": 4,
 "nbformat_minor": 0
}
