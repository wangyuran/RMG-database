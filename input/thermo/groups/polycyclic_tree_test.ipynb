{
 "cells": [
  {
   "cell_type": "code",
   "execution_count": 1,
   "metadata": {
    "collapsed": true
   },
   "outputs": [],
   "source": [
    "from rmgpy import settings\n",
    "from rmgpy.data.rmg import RMGDatabase\n",
    "from rmgpy.species import Species\n",
    "from IPython.display import display\n",
    "from rmgpy.rmg.main import RMG\n",
    "from rmgpy.cantherm.output import prettify"
   ]
  },
  {
   "cell_type": "code",
   "execution_count": 2,
   "metadata": {
    "collapsed": true
   },
   "outputs": [],
   "source": [
    "database = RMGDatabase()"
   ]
  },
  {
   "cell_type": "code",
   "execution_count": 3,
   "metadata": {
    "collapsed": true
   },
   "outputs": [],
   "source": [
    "database.load(settings['database.directory'], thermoLibraries='none',\\\n",
    "             kineticsFamilies='none', kineticsDepositories='none', reactionLibraries = [])\n",
    "\n",
    "thermoDatabase = database.thermo"
   ]
  },
  {
   "cell_type": "code",
   "execution_count": 4,
   "metadata": {
    "collapsed": false
   },
   "outputs": [],
   "source": [
    "inputFile = 'polycyclic_qm_inputs/input_total.py'\n",
    "rmg = RMG()\n",
    "rmg.loadThermoInput(inputFile)"
   ]
  },
  {
   "cell_type": "code",
   "execution_count": 5,
   "metadata": {
    "collapsed": false,
    "scrolled": false
   },
   "outputs": [
    {
     "data": {
      "image/png": "[encoded data removed]",
      "text/plain": [
       "Species(index=15, label=\"s1_4_4_ene_1\", molecule=[Molecule(SMILES=\"C1=CC2(C1)CCC2\")], molecularWeight=(94.1543,'amu'), energyTransferModel=SingleExponentialDown(alpha0=(3.5886,'kJ/mol'), T0=(300,'K'), n=0.85))"
      ]
     },
     "metadata": {},
     "output_type": "display_data"
    },
    {
     "name": "stdout",
     "output_type": "stream",
     "text": [
      "s1_4_4_ene_1\n",
      "s1_4_4_ene_1 s1_4_4_ene\n",
      "**********************\n"
     ]
    },
    {
     "data": {
      "image/png": "[encoded data removed]",
      "text/plain": [
       "Species(index=16, label=\"s1_4_4_diene_1_5\", molecule=[Molecule(SMILES=\"C1=CC2(C=CC2)C1\")], molecularWeight=(92.1384,'amu'), energyTransferModel=SingleExponentialDown(alpha0=(3.5886,'kJ/mol'), T0=(300,'K'), n=0.85))"
      ]
     },
     "metadata": {},
     "output_type": "display_data"
    },
    {
     "name": "stdout",
     "output_type": "stream",
     "text": [
      "s1_4_4_diene_1_5\n",
      "s1_4_4_diene_1_5 s1_4_4_diene\n",
      "**********************\n"
     ]
    },
    {
     "data": {
      "image/png": "[encoded data removed]",
      "text/plain": [
       "Species(index=29, label=\"s1_4_6_diene_1_4\", molecule=[Molecule(SMILES=\"C1=CC2(C=CC1)CCC2\")], molecularWeight=(120.192,'amu'), energyTransferModel=SingleExponentialDown(alpha0=(3.5886,'kJ/mol'), T0=(300,'K'), n=0.85))"
      ]
     },
     "metadata": {},
     "output_type": "display_data"
    },
    {
     "name": "stdout",
     "output_type": "stream",
     "text": [
      "s1_4_6_diene_1_4\n",
      "s1_4_6_diene_1_4 PolycyclicRing\n",
      "**********************\n"
     ]
    },
    {
     "data": {
      "image/png": "[encoded data removed]",
      "text/plain": [
       "Species(index=102, label=\"s2_5_6_diene_0_6\", molecule=[Molecule(SMILES=\"C1=CC2CCCC=C2C1\")], molecularWeight=(120.192,'amu'), energyTransferModel=SingleExponentialDown(alpha0=(3.5886,'kJ/mol'), T0=(300,'K'), n=0.85))"
      ]
     },
     "metadata": {},
     "output_type": "display_data"
    },
    {
     "name": "stdout",
     "output_type": "stream",
     "text": [
      "s2_5_6_diene_0_6\n",
      "s2_5_6_diene_0_6 PolycyclicRing\n",
      "**********************\n"
     ]
    },
    {
     "data": {
      "image/png": "[encoded data removed]",
      "text/plain": [
       "Species(index=106, label=\"s2_5_6_diene_1_6\", molecule=[Molecule(SMILES=\"C1=CC2CC=CC2CC1\")], molecularWeight=(120.192,'amu'), energyTransferModel=SingleExponentialDown(alpha0=(3.5886,'kJ/mol'), T0=(300,'K'), n=0.85))"
      ]
     },
     "metadata": {},
     "output_type": "display_data"
    },
    {
     "name": "stdout",
     "output_type": "stream",
     "text": [
      "s2_5_6_diene_1_6\n",
      "s2_5_6_diene_1_6 PolycyclicRing\n",
      "**********************\n"
     ]
    }
   ],
   "source": [
    "for spec in rmg.initialSpecies:\n",
    "    mole = spec.molecule[0]\n",
    "    estimatedThermo = thermoDatabase.computeGroupAdditivityThermo(mole)\n",
    "    ringGroups, polycyclicGroups = thermoDatabase.getRingGroupsFromComments(estimatedThermo)\n",
    "    assert len(polycyclicGroups) == 1\n",
    "    if spec.label != polycyclicGroups[0].label:\n",
    "        display(spec)\n",
    "        print spec.label\n",
    "        print spec.label, polycyclicGroups[0].label\n",
    "        print '**********************'"
   ]
  },
  {
   "cell_type": "code",
   "execution_count": null,
   "metadata": {
    "collapsed": true
   },
   "outputs": [],
   "source": []
  }
 ],
 "metadata": {
  "kernelspec": {
   "display_name": "Python 2",
   "language": "python",
   "name": "python2"
  },
  "language_info": {
   "codemirror_mode": {
    "name": "ipython",
    "version": 2
   },
   "file_extension": ".py",
   "mimetype": "text/x-python",
   "name": "python",
   "nbconvert_exporter": "python",
   "pygments_lexer": "ipython2",
   "version": "2.7.11"
  }
 },
 "nbformat": 4,
 "nbformat_minor": 0
}
