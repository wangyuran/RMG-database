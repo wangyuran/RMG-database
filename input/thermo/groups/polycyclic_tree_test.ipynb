{
 "cells": [
  {
   "cell_type": "code",
   "execution_count": 1,
   "metadata": {
    "collapsed": true
   },
   "outputs": [],
   "source": [
    "from rmgpy import settings\n",
    "from rmgpy.data.rmg import RMGDatabase\n",
    "from rmgpy.species import Species\n",
    "from IPython.display import display\n",
    "from rmgpy.rmg.main import RMG\n",
    "from rmgpy.cantherm.output import prettify"
   ]
  },
  {
   "cell_type": "code",
   "execution_count": 2,
   "metadata": {
    "collapsed": true
   },
   "outputs": [],
   "source": [
    "database = RMGDatabase()"
   ]
  },
  {
   "cell_type": "code",
   "execution_count": 3,
   "metadata": {
    "collapsed": true
   },
   "outputs": [],
   "source": [
    "database.load(settings['database.directory'], thermoLibraries='none',\\\n",
    "             kineticsFamilies='none', kineticsDepositories='none', reactionLibraries = [])\n",
    "\n",
    "thermoDatabase = database.thermo"
   ]
  },
  {
   "cell_type": "markdown",
   "metadata": {},
   "source": [
    "## Check exact match to leaves"
   ]
  },
  {
   "cell_type": "code",
   "execution_count": 4,
   "metadata": {
    "collapsed": false
   },
   "outputs": [],
   "source": [
    "inputFile = 'polycyclic_qm_inputs/input_total.py'\n",
    "rmg = RMG()\n",
    "rmg.loadThermoInput(inputFile)"
   ]
  },
  {
   "cell_type": "code",
   "execution_count": 5,
   "metadata": {
    "collapsed": false
   },
   "outputs": [],
   "source": [
    "for spec in rmg.initialSpecies:\n",
    "    mole = spec.molecule[0]\n",
    "    estimatedThermo = thermoDatabase.computeGroupAdditivityThermo(mole)\n",
    "    ringGroups, polycyclicGroups = thermoDatabase.getRingGroupsFromComments(estimatedThermo)\n",
    "    assert len(polycyclicGroups) == 1\n",
    "    if spec.label != polycyclicGroups[0].label:\n",
    "        display(spec)\n",
    "        print spec.label\n",
    "        print spec.label, polycyclicGroups[0].label\n",
    "        print '**********************'"
   ]
  },
  {
   "cell_type": "markdown",
   "metadata": {},
   "source": [
    "## Check average match to nodes"
   ]
  },
  {
   "cell_type": "code",
   "execution_count": 8,
   "metadata": {
    "collapsed": true
   },
   "outputs": [],
   "source": [
    "from rmgpy.cantherm.output import prettify\n",
    "inputFile2 = 'polycyclic_qm_inputs/input_nodes.py'\n",
    "rmg2 = RMG()\n",
    "rmg2.loadThermoInput(inputFile2)"
   ]
  },
  {
   "cell_type": "code",
   "execution_count": 11,
   "metadata": {
    "collapsed": false
   },
   "outputs": [
    {
     "data": {
      "image/png": "[encoded data removed]",
      "text/plain": [
       "Species(index=1, label=\"s3_6_6_ene_yne_1_8\", molecule=[Molecule(SMILES=\"C1#CC2=CC(C1)CCC2\")], molecularWeight=(118.176,'amu'), energyTransferModel=SingleExponentialDown(alpha0=(3.5886,'kJ/mol'), T0=(300,'K'), n=0.85))"
      ]
     },
     "metadata": {},
     "output_type": "display_data"
    },
    {
     "name": "stdout",
     "output_type": "stream",
     "text": [
      "s3_6_6_ene_yne_1_8\n",
      "s3_6_6_ene_yne_1_8 s3_6_6\n",
      "ThermoData(\n",
      "    Tdata = ([300, 400, 500, 600, 800, 1000, 1500], 'K'),\n",
      "    Cpdata = ([0, 0, 0, 0, 0, 0, 0], 'cal/(mol*K)'),\n",
      "    H298 = (0, 'kcal/mol'),\n",
      "    S298 = (0, 'cal/(mol*K)'),\n",
      "    comment = 'polycyclic(s3_6_6)',\n",
      ")\n",
      "**********************\n"
     ]
    },
    {
     "data": {
      "image/png": "[encoded data removed]",
      "text/plain": [
       "Species(index=2, label=\"s3_6_6_a\", molecule=[Molecule(SMILES=\"C1=CC2=CC(C=1)CCC2\")], molecularWeight=(118.176,'amu'), energyTransferModel=SingleExponentialDown(alpha0=(3.5886,'kJ/mol'), T0=(300,'K'), n=0.85))"
      ]
     },
     "metadata": {},
     "output_type": "display_data"
    },
    {
     "name": "stdout",
     "output_type": "stream",
     "text": [
      "s3_6_6_a\n",
      "s3_6_6_a s3_6_6\n",
      "ThermoData(\n",
      "    Tdata = ([300, 400, 500, 600, 800, 1000, 1500], 'K'),\n",
      "    Cpdata = ([0, 0, 0, 0, 0, 0, 0], 'cal/(mol*K)'),\n",
      "    H298 = (0, 'kcal/mol'),\n",
      "    S298 = (0, 'cal/(mol*K)'),\n",
      "    comment = 'polycyclic(s3_6_6)',\n",
      ")\n",
      "**********************\n"
     ]
    }
   ],
   "source": [
    "for spec in rmg2.initialSpecies:\n",
    "    mole = spec.molecule[0]\n",
    "    estimatedThermo = thermoDatabase.computeGroupAdditivityThermo(mole)\n",
    "    \n",
    "    ringGroups, polycyclicGroups = thermoDatabase.getRingGroupsFromComments(estimatedThermo)\n",
    "    assert len(polycyclicGroups) == 1\n",
    "    if spec.label != polycyclicGroups[0].label:\n",
    "        display(spec)\n",
    "        print spec.label\n",
    "        print spec.label, polycyclicGroups[0].label\n",
    "        print prettify(repr(polycyclicGroups[0].data))\n",
    "        print '**********************'"
   ]
  }
 ],
 "metadata": {
  "kernelspec": {
   "display_name": "Python 2",
   "language": "python",
   "name": "python2"
  },
  "language_info": {
   "codemirror_mode": {
    "name": "ipython",
    "version": 2
   },
   "file_extension": ".py",
   "mimetype": "text/x-python",
   "name": "python",
   "nbconvert_exporter": "python",
   "pygments_lexer": "ipython2",
   "version": "2.7.11"
  }
 },
 "nbformat": 4,
 "nbformat_minor": 0
}
