{
 "cells": [
  {
   "cell_type": "code",
   "execution_count": 1,
   "metadata": {
    "collapsed": true
   },
   "outputs": [],
   "source": [
    "from rmgpy.rmg.main import RMG\n",
    "from IPython.display import display"
   ]
  },
  {
   "cell_type": "code",
   "execution_count": 2,
   "metadata": {
    "collapsed": true
   },
   "outputs": [],
   "source": [
    "inputFile = 'polycyclic_qm_inputs/input_total.py'"
   ]
  },
  {
   "cell_type": "code",
   "execution_count": 3,
   "metadata": {
    "collapsed": true
   },
   "outputs": [],
   "source": [
    "rmg = RMG()\n",
    "rmg.loadThermoInput(inputFile)"
   ]
  },
  {
   "cell_type": "code",
   "execution_count": 4,
   "metadata": {
    "collapsed": false
   },
   "outputs": [],
   "source": [
    "def extractPolycyclicGroups(molecule):\n",
    "    \"\"\"\n",
    "    Extract polycyclic functional groups from a real molecule\n",
    "    \"\"\"\n",
    "    struct = molecule.copy(deep=True)\n",
    "    # Saturate the structure if it is a radical\n",
    "    if struct.isRadical():\n",
    "        struct.saturate()\n",
    "    struct.deleteHydrogens()\n",
    "    \n",
    "    polyRings = struct.getPolycyclicRings()\n",
    "    groups = [convertCycleToGroup(ring) for ring in polyRings]\n",
    "    \n",
    "    return groups\n",
    "                \n",
    "def convertCycleToGroup(cycle):\n",
    "    \"\"\"\n",
    "    This function converts a list of atoms in a cycle to a functional Group object\n",
    "    \"\"\"\n",
    "    from rmgpy.molecule.group import GroupAtom, GroupBond, Group\n",
    "    \n",
    "    # Create GroupAtom object for each atom in the cycle, label the first one in the cycle with a *\n",
    "    groupAtoms = {}\n",
    "    bonds = []\n",
    "    for atom in cycle:\n",
    "        groupAtoms[atom] = GroupAtom(atomType=[atom.atomType],\n",
    "                                     radicalElectrons=[0],\n",
    "                                     label='*' if cycle.index(atom)==0 else '')\n",
    "                \n",
    "    group = Group(atoms=groupAtoms.values())            \n",
    "    \n",
    "    # Create GroupBond for each bond between atoms in the cycle, but not outside of the cycle\n",
    "    for atom in cycle:\n",
    "        for bondedAtom, bond in atom.edges.iteritems():\n",
    "            if bondedAtom in cycle:\n",
    "                # create a group bond with the same bond order as in the original molecule,\n",
    "                # if it hasn't already been created\n",
    "                if not group.hasBond(groupAtoms[atom],groupAtoms[bondedAtom]):\n",
    "                    group.addBond(GroupBond(groupAtoms[atom],groupAtoms[bondedAtom],order=[bond.order]))\n",
    "            else:\n",
    "                pass\n",
    "        \n",
    "    group.update()\n",
    "    \n",
    "    return group"
   ]
  },
  {
   "cell_type": "code",
   "execution_count": 5,
   "metadata": {
    "collapsed": true
   },
   "outputs": [
    {
     "data": {
      "image/png": "[encoded data removed]",
      "text/plain": [
       "Species(index=1, label=\"s1_3_3_ane\", molecule=[Molecule(SMILES=\"C1CC12CC2\")], molecularWeight=(68.117,'amu'), energyTransferModel=SingleExponentialDown(alpha0=(3.5886,'kJ/mol'), T0=(300,'K'), n=0.85))"
      ]
     },
     "metadata": {},
     "output_type": "display_data"
    },
    {
     "name": "stdout",
     "output_type": "stream",
     "text": [
      "s1_3_3_ane\n",
      "1 * Cs u0 {2,S} {5,S}\n",
      "2   Cs u0 {1,S} {5,S}\n",
      "3   Cs u0 {4,S} {5,S}\n",
      "4   Cs u0 {3,S} {5,S}\n",
      "5   Cs u0 {1,S} {2,S} {3,S} {4,S}\n",
      "\n",
      "**********************\n"
     ]
    },
    {
     "data": {
      "image/png": "[encoded data removed]",
      "text/plain": [
       "Species(index=2, label=\"s1_3_3_ene\", molecule=[Molecule(SMILES=\"C1=CC12CC2\")], molecularWeight=(66.1011,'amu'), energyTransferModel=SingleExponentialDown(alpha0=(3.5886,'kJ/mol'), T0=(300,'K'), n=0.85))"
      ]
     },
     "metadata": {},
     "output_type": "display_data"
    },
    {
     "name": "stdout",
     "output_type": "stream",
     "text": [
      "s1_3_3_ene\n",
      "1 * Cd u0 {3,S} {5,D}\n",
      "2   Cs u0 {3,S} {4,S}\n",
      "3   Cs u0 {1,S} {2,S} {4,S} {5,S}\n",
      "4   Cs u0 {2,S} {3,S}\n",
      "5   Cd u0 {1,D} {3,S}\n",
      "\n",
      "**********************\n"
     ]
    },
    {
     "data": {
      "image/png": "[encoded data removed]",
      "text/plain": [
       "Species(index=3, label=\"s1_3_4_ane\", molecule=[Molecule(SMILES=\"C1CC2(C1)CC2\")], molecularWeight=(82.1436,'amu'), energyTransferModel=SingleExponentialDown(alpha0=(3.5886,'kJ/mol'), T0=(300,'K'), n=0.85))"
      ]
     },
     "metadata": {},
     "output_type": "display_data"
    },
    {
     "name": "stdout",
     "output_type": "stream",
     "text": [
      "s1_3_4_ane\n",
      "1 * Cs u0 {2,S} {6,S}\n",
      "2   Cs u0 {1,S} {6,S}\n",
      "3   Cs u0 {5,S} {6,S}\n",
      "4   Cs u0 {5,S} {6,S}\n",
      "5   Cs u0 {3,S} {4,S}\n",
      "6   Cs u0 {1,S} {2,S} {3,S} {4,S}\n",
      "\n",
      "**********************\n"
     ]
    },
    {
     "data": {
      "image/png": "[encoded data removed]",
      "text/plain": [
       "Species(index=4, label=\"s1_3_4_ene\", molecule=[Molecule(SMILES=\"C1=CC2(C1)CC2\")], molecularWeight=(80.1277,'amu'), energyTransferModel=SingleExponentialDown(alpha0=(3.5886,'kJ/mol'), T0=(300,'K'), n=0.85))"
      ]
     },
     "metadata": {},
     "output_type": "display_data"
    },
    {
     "name": "stdout",
     "output_type": "stream",
     "text": [
      "s1_3_4_ene\n",
      "1 * Cd u0 {4,S} {6,D}\n",
      "2   Cs u0 {3,S} {5,S}\n",
      "3   Cs u0 {2,S} {4,S} {5,S} {6,S}\n",
      "4   Cs u0 {1,S} {3,S}\n",
      "5   Cs u0 {2,S} {3,S}\n",
      "6   Cd u0 {1,D} {3,S}\n",
      "\n",
      "**********************\n"
     ]
    },
    {
     "data": {
      "image/png": "[encoded data removed]",
      "text/plain": [
       "Species(index=5, label=\"s1_3_5_ane\", molecule=[Molecule(SMILES=\"C1CCC2(C1)CC2\")], molecularWeight=(96.1702,'amu'), energyTransferModel=SingleExponentialDown(alpha0=(3.5886,'kJ/mol'), T0=(300,'K'), n=0.85))"
      ]
     },
     "metadata": {},
     "output_type": "display_data"
    },
    {
     "name": "stdout",
     "output_type": "stream",
     "text": [
      "s1_3_5_ane\n",
      "1 * Cs u0 {3,S} {5,S}\n",
      "2   Cs u0 {3,S} {6,S}\n",
      "3   Cs u0 {1,S} {2,S} {4,S} {6,S}\n",
      "4   Cs u0 {3,S} {7,S}\n",
      "5   Cs u0 {1,S} {7,S}\n",
      "6   Cs u0 {2,S} {3,S}\n",
      "7   Cs u0 {4,S} {5,S}\n",
      "\n",
      "**********************\n"
     ]
    },
    {
     "data": {
      "image/png": "[encoded data removed]",
      "text/plain": [
       "Species(index=6, label=\"s1_3_5_ene_1\", molecule=[Molecule(SMILES=\"C1=CC2(CC1)CC2\")], molecularWeight=(94.1543,'amu'), energyTransferModel=SingleExponentialDown(alpha0=(3.5886,'kJ/mol'), T0=(300,'K'), n=0.85))"
      ]
     },
     "metadata": {},
     "output_type": "display_data"
    },
    {
     "name": "stdout",
     "output_type": "stream",
     "text": [
      "s1_3_5_ene_1\n",
      "1 * Cs u0 {5,S} {6,S}\n",
      "2   Cd u0 {3,D} {6,S}\n",
      "3   Cd u0 {2,D} {5,S}\n",
      "4   Cs u0 {5,S} {7,S}\n",
      "5   Cs u0 {1,S} {3,S} {4,S} {7,S}\n",
      "6   Cs u0 {1,S} {2,S}\n",
      "7   Cs u0 {4,S} {5,S}\n",
      "\n",
      "**********************\n"
     ]
    },
    {
     "data": {
      "image/png": "[encoded data removed]",
      "text/plain": [
       "Species(index=7, label=\"s1_3_5_ene_2\", molecule=[Molecule(SMILES=\"C1=CCC2(C1)CC2\")], molecularWeight=(94.1543,'amu'), energyTransferModel=SingleExponentialDown(alpha0=(3.5886,'kJ/mol'), T0=(300,'K'), n=0.85))"
      ]
     },
     "metadata": {},
     "output_type": "display_data"
    },
    {
     "name": "stdout",
     "output_type": "stream",
     "text": [
      "s1_3_5_ene_2\n",
      "1 * Cs u0 {3,S} {5,S}\n",
      "2   Cd u0 {6,S} {7,D}\n",
      "3   Cs u0 {1,S} {4,S} {5,S} {6,S}\n",
      "4   Cs u0 {3,S} {7,S}\n",
      "5   Cs u0 {1,S} {3,S}\n",
      "6   Cs u0 {2,S} {3,S}\n",
      "7   Cd u0 {2,D} {4,S}\n",
      "\n",
      "**********************\n"
     ]
    },
    {
     "data": {
      "image/png": "[encoded data removed]",
      "text/plain": [
       "Species(index=8, label=\"s1_3_5_diene_1_3\", molecule=[Molecule(SMILES=\"C1C=CC2(C=1)CC2\")], molecularWeight=(92.1384,'amu'), energyTransferModel=SingleExponentialDown(alpha0=(3.5886,'kJ/mol'), T0=(300,'K'), n=0.85))"
      ]
     },
     "metadata": {},
     "output_type": "display_data"
    },
    {
     "name": "stdout",
     "output_type": "stream",
     "text": [
      "s1_3_5_diene_1_3\n",
      "1 * Cs u0 {2,S} {6,S}\n",
      "2   Cs u0 {1,S} {6,S}\n",
      "3   Cd u0 {4,D} {6,S}\n",
      "4   Cd u0 {3,D} {5,S}\n",
      "5   Cd u0 {4,S} {7,D}\n",
      "6   Cs u0 {1,S} {2,S} {3,S} {7,S}\n",
      "7   Cd u0 {5,D} {6,S}\n",
      "\n",
      "**********************\n"
     ]
    },
    {
     "data": {
      "image/png": "[encoded data removed]",
      "text/plain": [
       "Species(index=9, label=\"s1_3_6_ane\", molecule=[Molecule(SMILES=\"C1CCC2(CC1)CC2\")], molecularWeight=(110.197,'amu'), energyTransferModel=SingleExponentialDown(alpha0=(3.5886,'kJ/mol'), T0=(300,'K'), n=0.85))"
      ]
     },
     "metadata": {},
     "output_type": "display_data"
    },
    {
     "name": "stdout",
     "output_type": "stream",
     "text": [
      "s1_3_6_ane\n",
      "1 * Cs u0 {2,S} {3,S} {6,S} {8,S}\n",
      "2   Cs u0 {1,S} {3,S}\n",
      "3   Cs u0 {1,S} {2,S}\n",
      "4   Cs u0 {6,S} {7,S}\n",
      "5   Cs u0 {7,S} {8,S}\n",
      "6   Cs u0 {1,S} {4,S}\n",
      "7   Cs u0 {4,S} {5,S}\n",
      "8   Cs u0 {1,S} {5,S}\n",
      "\n",
      "**********************\n"
     ]
    },
    {
     "data": {
      "image/png": "[encoded data removed]",
      "text/plain": [
       "Species(index=10, label=\"s1_3_6_ene_1\", molecule=[Molecule(SMILES=\"C1=CC2(CCC1)CC2\")], molecularWeight=(108.181,'amu'), energyTransferModel=SingleExponentialDown(alpha0=(3.5886,'kJ/mol'), T0=(300,'K'), n=0.85))"
      ]
     },
     "metadata": {},
     "output_type": "display_data"
    },
    {
     "name": "stdout",
     "output_type": "stream",
     "text": [
      "s1_3_6_ene_1\n",
      "1 * Cs u0 {4,S} {7,S}\n",
      "2   Cd u0 {7,S} {8,D}\n",
      "3   Cs u0 {5,S} {6,S}\n",
      "4   Cs u0 {1,S} {6,S}\n",
      "5   Cs u0 {3,S} {6,S}\n",
      "6   Cs u0 {3,S} {4,S} {5,S} {8,S}\n",
      "7   Cs u0 {1,S} {2,S}\n",
      "8   Cd u0 {2,D} {6,S}\n",
      "\n",
      "**********************\n"
     ]
    },
    {
     "data": {
      "image/png": "[encoded data removed]",
      "text/plain": [
       "Species(index=11, label=\"s1_3_6_ene_2\", molecule=[Molecule(SMILES=\"C1=CCC2(CC1)CC2\")], molecularWeight=(108.181,'amu'), energyTransferModel=SingleExponentialDown(alpha0=(3.5886,'kJ/mol'), T0=(300,'K'), n=0.85))"
      ]
     },
     "metadata": {},
     "output_type": "display_data"
    },
    {
     "name": "stdout",
     "output_type": "stream",
     "text": [
      "s1_3_6_ene_2\n",
      "1 * Cs u0 {7,S} {8,S}\n",
      "2   Cs u0 {3,S} {5,S}\n",
      "3   Cd u0 {2,S} {6,D}\n",
      "4   Cs u0 {6,S} {8,S}\n",
      "5   Cs u0 {2,S} {8,S}\n",
      "6   Cd u0 {3,D} {4,S}\n",
      "7   Cs u0 {1,S} {8,S}\n",
      "8   Cs u0 {1,S} {4,S} {5,S} {7,S}\n",
      "\n",
      "**********************\n"
     ]
    },
    {
     "data": {
      "image/png": "[encoded data removed]",
      "text/plain": [
       "Species(index=12, label=\"s1_3_6_diene_1_4\", molecule=[Molecule(SMILES=\"C1=CC2(C=CC1)CC2\")], molecularWeight=(106.165,'amu'), energyTransferModel=SingleExponentialDown(alpha0=(3.5886,'kJ/mol'), T0=(300,'K'), n=0.85))"
      ]
     },
     "metadata": {},
     "output_type": "display_data"
    },
    {
     "name": "stdout",
     "output_type": "stream",
     "text": [
      "s1_3_6_diene_1_4\n",
      "1   Cd u0 {4,D} {6,S}\n",
      "2   Cd u0 {3,D} {5,S}\n",
      "3   Cd u0 {2,D} {6,S}\n",
      "4   Cd u0 {1,D} {5,S}\n",
      "5   Cs u0 {2,S} {4,S}\n",
      "6   Cs u0 {1,S} {3,S} {7,S} {8,S}\n",
      "7 * Cs u0 {6,S} {8,S}\n",
      "8   Cs u0 {6,S} {7,S}\n",
      "\n",
      "**********************\n"
     ]
    },
    {
     "data": {
      "image/png": "[encoded data removed]",
      "text/plain": [
       "Species(index=13, label=\"s1_3_6_diene_1_3\", molecule=[Molecule(SMILES=\"C1C=CC2(CC=1)CC2\")], molecularWeight=(106.165,'amu'), energyTransferModel=SingleExponentialDown(alpha0=(3.5886,'kJ/mol'), T0=(300,'K'), n=0.85))"
      ]
     },
     "metadata": {},
     "output_type": "display_data"
    },
    {
     "name": "stdout",
     "output_type": "stream",
     "text": [
      "s1_3_6_diene_1_3\n",
      "1 * Cd u0 {3,S} {4,D}\n",
      "2   Cd u0 {7,S} {8,D}\n",
      "3   Cs u0 {1,S} {7,S}\n",
      "4   Cd u0 {1,D} {8,S}\n",
      "5   Cs u0 {6,S} {7,S}\n",
      "6   Cs u0 {5,S} {7,S}\n",
      "7   Cs u0 {2,S} {3,S} {5,S} {6,S}\n",
      "8   Cd u0 {2,D} {4,S}\n",
      "\n",
      "**********************\n"
     ]
    },
    {
     "data": {
      "image/png": "[encoded data removed]",
      "text/plain": [
       "Species(index=14, label=\"s1_4_4_ane\", molecule=[Molecule(SMILES=\"C1CC2(C1)CCC2\")], molecularWeight=(96.1702,'amu'), energyTransferModel=SingleExponentialDown(alpha0=(3.5886,'kJ/mol'), T0=(300,'K'), n=0.85))"
      ]
     },
     "metadata": {},
     "output_type": "display_data"
    },
    {
     "name": "stdout",
     "output_type": "stream",
     "text": [
      "s1_4_4_ane\n",
      "1 * Cs u0 {2,S} {4,S}\n",
      "2   Cs u0 {1,S} {7,S}\n",
      "3   Cs u0 {4,S} {5,S}\n",
      "4   Cs u0 {1,S} {3,S} {6,S} {7,S}\n",
      "5   Cs u0 {3,S} {6,S}\n",
      "6   Cs u0 {4,S} {5,S}\n",
      "7   Cs u0 {2,S} {4,S}\n",
      "\n",
      "**********************\n"
     ]
    },
    {
     "data": {
      "image/png": "[encoded data removed]",
      "text/plain": [
       "Species(index=15, label=\"s1_4_4_ene_1\", molecule=[Molecule(SMILES=\"C1=CC2(C1)CCC2\")], molecularWeight=(94.1543,'amu'), energyTransferModel=SingleExponentialDown(alpha0=(3.5886,'kJ/mol'), T0=(300,'K'), n=0.85))"
      ]
     },
     "metadata": {},
     "output_type": "display_data"
    },
    {
     "name": "stdout",
     "output_type": "stream",
     "text": [
      "s1_4_4_ene_1\n",
      "1 * Cs u0 {2,S} {3,S} {4,S} {5,S}\n",
      "2   Cs u0 {1,S} {6,S}\n",
      "3   Cs u0 {1,S} {6,S}\n",
      "4   Cs u0 {1,S} {7,S}\n",
      "5   Cd u0 {1,S} {7,D}\n",
      "6   Cs u0 {2,S} {3,S}\n",
      "7   Cd u0 {4,S} {5,D}\n",
      "\n",
      "**********************\n"
     ]
    },
    {
     "data": {
      "image/png": "[encoded data removed]",
      "text/plain": [
       "Species(index=16, label=\"s1_4_4_diene_1_5\", molecule=[Molecule(SMILES=\"C1=CC2(C=CC2)C1\")], molecularWeight=(92.1384,'amu'), energyTransferModel=SingleExponentialDown(alpha0=(3.5886,'kJ/mol'), T0=(300,'K'), n=0.85))"
      ]
     },
     "metadata": {},
     "output_type": "display_data"
    },
    {
     "name": "stdout",
     "output_type": "stream",
     "text": [
      "s1_4_4_diene_1_5\n",
      "1 * Cs u0 {2,S} {6,S}\n",
      "2   Cd u0 {1,S} {5,D}\n",
      "3   Cd u0 {4,S} {7,D}\n",
      "4   Cs u0 {3,S} {6,S}\n",
      "5   Cd u0 {2,D} {6,S}\n",
      "6   Cs u0 {1,S} {4,S} {5,S} {7,S}\n",
      "7   Cd u0 {3,D} {6,S}\n",
      "\n",
      "**********************\n"
     ]
    },
    {
     "data": {
      "image/png": "[encoded data removed]",
      "text/plain": [
       "Species(index=17, label=\"s1_4_5_ane\", molecule=[Molecule(SMILES=\"C1CCC2(C1)CCC2\")], molecularWeight=(110.197,'amu'), energyTransferModel=SingleExponentialDown(alpha0=(3.5886,'kJ/mol'), T0=(300,'K'), n=0.85))"
      ]
     },
     "metadata": {},
     "output_type": "display_data"
    },
    {
     "name": "stdout",
     "output_type": "stream",
     "text": [
      "s1_4_5_ane\n",
      "1 * Cs u0 {5,S} {8,S}\n",
      "2   Cs u0 {3,S} {4,S}\n",
      "3   Cs u0 {2,S} {7,S}\n",
      "4   Cs u0 {2,S} {5,S}\n",
      "5   Cs u0 {1,S} {4,S} {6,S} {7,S}\n",
      "6   Cs u0 {5,S} {8,S}\n",
      "7   Cs u0 {3,S} {5,S}\n",
      "8   Cs u0 {1,S} {6,S}\n",
      "\n",
      "**********************\n"
     ]
    },
    {
     "data": {
      "image/png": "[encoded data removed]",
      "text/plain": [
       "Species(index=18, label=\"s1_4_5_ene_1\", molecule=[Molecule(SMILES=\"C1=CC2(CC1)CCC2\")], molecularWeight=(108.181,'amu'), energyTransferModel=SingleExponentialDown(alpha0=(3.5886,'kJ/mol'), T0=(300,'K'), n=0.85))"
      ]
     },
     "metadata": {},
     "output_type": "display_data"
    },
    {
     "name": "stdout",
     "output_type": "stream",
     "text": [
      "s1_4_5_ene_1\n",
      "1 * Cs u0 {3,S} {4,S}\n",
      "2   Cs u0 {5,S} {6,S}\n",
      "3   Cs u0 {1,S} {5,S} {6,S} {7,S}\n",
      "4   Cs u0 {1,S} {8,S}\n",
      "5   Cs u0 {2,S} {3,S}\n",
      "6   Cs u0 {2,S} {3,S}\n",
      "7   Cd u0 {3,S} {8,D}\n",
      "8   Cd u0 {4,S} {7,D}\n",
      "\n",
      "**********************\n"
     ]
    },
    {
     "data": {
      "image/png": "[encoded data removed]",
      "text/plain": [
       "Species(index=19, label=\"s1_4_5_ene_2\", molecule=[Molecule(SMILES=\"C1=CCC2(C1)CCC2\")], molecularWeight=(108.181,'amu'), energyTransferModel=SingleExponentialDown(alpha0=(3.5886,'kJ/mol'), T0=(300,'K'), n=0.85))"
      ]
     },
     "metadata": {},
     "output_type": "display_data"
    },
    {
     "name": "stdout",
     "output_type": "stream",
     "text": [
      "s1_4_5_ene_2\n",
      "1 * Cs u0 {4,S} {8,S}\n",
      "2   Cs u0 {7,S} {8,S}\n",
      "3   Cs u0 {6,S} {8,S}\n",
      "4   Cd u0 {1,S} {7,D}\n",
      "5   Cs u0 {6,S} {8,S}\n",
      "6   Cs u0 {3,S} {5,S}\n",
      "7   Cd u0 {2,S} {4,D}\n",
      "8   Cs u0 {1,S} {2,S} {3,S} {5,S}\n",
      "\n",
      "**********************\n"
     ]
    },
    {
     "data": {
      "image/png": "[encoded data removed]",
      "text/plain": [
       "Species(index=20, label=\"s1_4_5_ene_6\", molecule=[Molecule(SMILES=\"C1=CC2(C1)CCCC2\")], molecularWeight=(108.181,'amu'), energyTransferModel=SingleExponentialDown(alpha0=(3.5886,'kJ/mol'), T0=(300,'K'), n=0.85))"
      ]
     },
     "metadata": {},
     "output_type": "display_data"
    },
    {
     "name": "stdout",
     "output_type": "stream",
     "text": [
      "s1_4_5_ene_6\n",
      "1 * Cd u0 {4,S} {8,D}\n",
      "2   Cs u0 {3,S} {5,S}\n",
      "3   Cs u0 {2,S} {7,S}\n",
      "4   Cs u0 {1,S} {5,S}\n",
      "5   Cs u0 {2,S} {4,S} {6,S} {8,S}\n",
      "6   Cs u0 {5,S} {7,S}\n",
      "7   Cs u0 {3,S} {6,S}\n",
      "8   Cd u0 {1,D} {5,S}\n",
      "\n",
      "**********************\n"
     ]
    },
    {
     "data": {
      "image/png": "[encoded data removed]",
      "text/plain": [
       "Species(index=21, label=\"s1_4_5_diene_1_3\", molecule=[Molecule(SMILES=\"C1C=CC2(C=1)CCC2\")], molecularWeight=(106.165,'amu'), energyTransferModel=SingleExponentialDown(alpha0=(3.5886,'kJ/mol'), T0=(300,'K'), n=0.85))"
      ]
     },
     "metadata": {},
     "output_type": "display_data"
    },
    {
     "name": "stdout",
     "output_type": "stream",
     "text": [
      "s1_4_5_diene_1_3\n",
      "1 * Cd u0 {3,D} {5,S}\n",
      "2   Cs u0 {3,S} {4,S} {7,S} {8,S}\n",
      "3   Cd u0 {1,D} {2,S}\n",
      "4   Cs u0 {2,S} {6,S}\n",
      "5   Cd u0 {1,S} {7,D}\n",
      "6   Cs u0 {4,S} {8,S}\n",
      "7   Cd u0 {2,S} {5,D}\n",
      "8   Cs u0 {2,S} {6,S}\n",
      "\n",
      "**********************\n"
     ]
    },
    {
     "data": {
      "image/png": "[encoded data removed]",
      "text/plain": [
       "Species(index=22, label=\"s1_4_5_diene_1_6\", molecule=[Molecule(SMILES=\"C1=CC2(C=CC2)CC1\")], molecularWeight=(106.165,'amu'), energyTransferModel=SingleExponentialDown(alpha0=(3.5886,'kJ/mol'), T0=(300,'K'), n=0.85))"
      ]
     },
     "metadata": {},
     "output_type": "display_data"
    },
    {
     "name": "stdout",
     "output_type": "stream",
     "text": [
      "s1_4_5_diene_1_6\n",
      "1 * Cd u0 {3,S} {5,D}\n",
      "2   Cs u0 {5,S} {6,S} {7,S} {8,S}\n",
      "3   Cs u0 {1,S} {8,S}\n",
      "4   Cd u0 {6,D} {7,S}\n",
      "5   Cd u0 {1,D} {2,S}\n",
      "6   Cd u0 {2,S} {4,D}\n",
      "7   Cs u0 {2,S} {4,S}\n",
      "8   Cs u0 {2,S} {3,S}\n",
      "\n",
      "**********************\n"
     ]
    },
    {
     "data": {
      "image/png": "[encoded data removed]",
      "text/plain": [
       "Species(index=23, label=\"s1_4_5_diene_2_6\", molecule=[Molecule(SMILES=\"C1=CCC2(C=CC2)C1\")], molecularWeight=(106.165,'amu'), energyTransferModel=SingleExponentialDown(alpha0=(3.5886,'kJ/mol'), T0=(300,'K'), n=0.85))"
      ]
     },
     "metadata": {},
     "output_type": "display_data"
    },
    {
     "name": "stdout",
     "output_type": "stream",
     "text": [
      "s1_4_5_diene_2_6\n",
      "1 * Cd u0 {5,S} {6,D}\n",
      "2   Cs u0 {3,S} {5,S} {6,S} {7,S}\n",
      "3   Cs u0 {2,S} {4,S}\n",
      "4   Cd u0 {3,S} {8,D}\n",
      "5   Cs u0 {1,S} {2,S}\n",
      "6   Cd u0 {1,D} {2,S}\n",
      "7   Cs u0 {2,S} {8,S}\n",
      "8   Cd u0 {4,D} {7,S}\n",
      "\n",
      "**********************\n"
     ]
    },
    {
     "data": {
      "image/png": "[encoded data removed]",
      "text/plain": [
       "Species(index=24, label=\"s1_4_6_ane\", molecule=[Molecule(SMILES=\"C1CCC2(CC1)CCC2\")], molecularWeight=(124.223,'amu'), energyTransferModel=SingleExponentialDown(alpha0=(3.5886,'kJ/mol'), T0=(300,'K'), n=0.85))"
      ]
     },
     "metadata": {},
     "output_type": "display_data"
    },
    {
     "name": "stdout",
     "output_type": "stream",
     "text": [
      "s1_4_6_ane\n",
      "1 * Cs u0 {3,S} {7,S}\n",
      "2   Cs u0 {4,S} {5,S}\n",
      "3   Cs u0 {1,S} {9,S}\n",
      "4   Cs u0 {2,S} {6,S} {8,S} {9,S}\n",
      "5   Cs u0 {2,S} {8,S}\n",
      "6   Cs u0 {4,S} {7,S}\n",
      "7   Cs u0 {1,S} {6,S}\n",
      "8   Cs u0 {4,S} {5,S}\n",
      "9   Cs u0 {3,S} {4,S}\n",
      "\n",
      "**********************\n"
     ]
    },
    {
     "data": {
      "image/png": "[encoded data removed]",
      "text/plain": [
       "Species(index=25, label=\"s1_4_6_ene_1\", molecule=[Molecule(SMILES=\"C1=CC2(CCC1)CCC2\")], molecularWeight=(122.207,'amu'), energyTransferModel=SingleExponentialDown(alpha0=(3.5886,'kJ/mol'), T0=(300,'K'), n=0.85))"
      ]
     },
     "metadata": {},
     "output_type": "display_data"
    },
    {
     "name": "stdout",
     "output_type": "stream",
     "text": [
      "s1_4_6_ene_1\n",
      "1 * Cd u0 {7,D} {8,S}\n",
      "2   Cs u0 {3,S} {8,S}\n",
      "3   Cs u0 {2,S} {9,S}\n",
      "4   Cs u0 {5,S} {6,S}\n",
      "5   Cs u0 {4,S} {8,S}\n",
      "6   Cs u0 {4,S} {7,S}\n",
      "7   Cd u0 {1,D} {6,S}\n",
      "8   Cs u0 {1,S} {2,S} {5,S} {9,S}\n",
      "9   Cs u0 {3,S} {8,S}\n",
      "\n",
      "**********************\n"
     ]
    },
    {
     "data": {
      "image/png": "[encoded data removed]",
      "text/plain": [
       "Species(index=26, label=\"s1_4_6_ene_2\", molecule=[Molecule(SMILES=\"C1=CCC2(CC1)CCC2\")], molecularWeight=(122.207,'amu'), energyTransferModel=SingleExponentialDown(alpha0=(3.5886,'kJ/mol'), T0=(300,'K'), n=0.85))"
      ]
     },
     "metadata": {},
     "output_type": "display_data"
    },
    {
     "name": "stdout",
     "output_type": "stream",
     "text": [
      "s1_4_6_ene_2\n",
      "1 * Cs u0 {8,S} {9,S}\n",
      "2   Cs u0 {4,S} {8,S}\n",
      "3   Cd u0 {6,S} {9,D}\n",
      "4   Cs u0 {2,S} {7,S}\n",
      "5   Cs u0 {6,S} {8,S}\n",
      "6   Cs u0 {3,S} {5,S}\n",
      "7   Cs u0 {4,S} {8,S}\n",
      "8   Cs u0 {1,S} {2,S} {5,S} {7,S}\n",
      "9   Cd u0 {1,S} {3,D}\n",
      "\n",
      "**********************\n"
     ]
    },
    {
     "data": {
      "image/png": "[encoded data removed]",
      "text/plain": [
       "Species(index=27, label=\"s1_4_6_ene_7\", molecule=[Molecule(SMILES=\"C1=CC2(C1)CCCCC2\")], molecularWeight=(122.207,'amu'), energyTransferModel=SingleExponentialDown(alpha0=(3.5886,'kJ/mol'), T0=(300,'K'), n=0.85))"
      ]
     },
     "metadata": {},
     "output_type": "display_data"
    },
    {
     "name": "stdout",
     "output_type": "stream",
     "text": [
      "s1_4_6_ene_7\n",
      "1 * Cs u0 {5,S} {9,S}\n",
      "2   Cd u0 {5,D} {9,S}\n",
      "3   Cs u0 {6,S} {8,S}\n",
      "4   Cs u0 {7,S} {9,S}\n",
      "5   Cd u0 {1,S} {2,D}\n",
      "6   Cs u0 {3,S} {9,S}\n",
      "7   Cs u0 {4,S} {8,S}\n",
      "8   Cs u0 {3,S} {7,S}\n",
      "9   Cs u0 {1,S} {2,S} {4,S} {6,S}\n",
      "\n",
      "**********************\n"
     ]
    },
    {
     "data": {
      "image/png": "[encoded data removed]",
      "text/plain": [
       "Species(index=28, label=\"s1_4_6_diene_1_3\", molecule=[Molecule(SMILES=\"C1C=CC2(CC=1)CCC2\")], molecularWeight=(120.192,'amu'), energyTransferModel=SingleExponentialDown(alpha0=(3.5886,'kJ/mol'), T0=(300,'K'), n=0.85))"
      ]
     },
     "metadata": {},
     "output_type": "display_data"
    },
    {
     "name": "stdout",
     "output_type": "stream",
     "text": [
      "s1_4_6_diene_1_3\n",
      "1 * Cs u0 {2,S} {3,S} {5,S} {7,S}\n",
      "2   Cd u0 {1,S} {6,D}\n",
      "3   Cs u0 {1,S} {8,S}\n",
      "4   Cd u0 {5,S} {9,D}\n",
      "5   Cs u0 {1,S} {4,S}\n",
      "6   Cd u0 {2,D} {9,S}\n",
      "7   Cs u0 {1,S} {8,S}\n",
      "8   Cs u0 {3,S} {7,S}\n",
      "9   Cd u0 {4,D} {6,S}\n",
      "\n",
      "**********************\n"
     ]
    },
    {
     "data": {
      "image/png": "[encoded data removed]",
      "text/plain": [
       "Species(index=29, label=\"s1_4_6_diene_1_4\", molecule=[Molecule(SMILES=\"C1=CC2(C=CC1)CCC2\")], molecularWeight=(120.192,'amu'), energyTransferModel=SingleExponentialDown(alpha0=(3.5886,'kJ/mol'), T0=(300,'K'), n=0.85))"
      ]
     },
     "metadata": {},
     "output_type": "display_data"
    },
    {
     "name": "stdout",
     "output_type": "stream",
     "text": [
      "s1_4_6_diene_1_4\n",
      "1 * Cs u0 {8,S} {9,S}\n",
      "2   Cd u0 {3,D} {7,S}\n",
      "3   Cd u0 {2,D} {9,S}\n",
      "4   Cd u0 {6,D} {7,S}\n",
      "5   Cs u0 {8,S} {9,S}\n",
      "6   Cd u0 {4,D} {9,S}\n",
      "7   Cs u0 {2,S} {4,S}\n",
      "8   Cs u0 {1,S} {5,S}\n",
      "9   Cs u0 {1,S} {3,S} {5,S} {6,S}\n",
      "\n",
      "**********************\n"
     ]
    },
    {
     "data": {
      "image/png": "[encoded data removed]",
      "text/plain": [
       "Species(index=30, label=\"s1_4_6_diene_1_7\", molecule=[Molecule(SMILES=\"C1=CC2(C=CC2)CCC1\")], molecularWeight=(120.192,'amu'), energyTransferModel=SingleExponentialDown(alpha0=(3.5886,'kJ/mol'), T0=(300,'K'), n=0.85))"
      ]
     },
     "metadata": {},
     "output_type": "display_data"
    },
    {
     "name": "stdout",
     "output_type": "stream",
     "text": [
      "s1_4_6_diene_1_7\n",
      "1 * Cd u0 {2,D} {7,S}\n",
      "2   Cd u0 {1,D} {5,S}\n",
      "3   Cd u0 {7,S} {9,D}\n",
      "4   Cs u0 {6,S} {7,S}\n",
      "5   Cs u0 {2,S} {7,S}\n",
      "6   Cs u0 {4,S} {8,S}\n",
      "7   Cs u0 {1,S} {3,S} {4,S} {5,S}\n",
      "8   Cs u0 {6,S} {9,S}\n",
      "9   Cd u0 {3,D} {8,S}\n",
      "\n",
      "**********************\n"
     ]
    },
    {
     "data": {
      "image/png": "[encoded data removed]",
      "text/plain": [
       "Species(index=31, label=\"s1_4_6_diene_2_7\", molecule=[Molecule(SMILES=\"C1=CCC2(C=CC2)CC1\")], molecularWeight=(120.192,'amu'), energyTransferModel=SingleExponentialDown(alpha0=(3.5886,'kJ/mol'), T0=(300,'K'), n=0.85))"
      ]
     },
     "metadata": {},
     "output_type": "display_data"
    },
    {
     "name": "stdout",
     "output_type": "stream",
     "text": [
      "s1_4_6_diene_2_7\n",
      "1 * Cd u0 {4,D} {8,S}\n",
      "2   Cs u0 {7,S} {9,S}\n",
      "3   Cs u0 {5,S} {6,S}\n",
      "4   Cd u0 {1,D} {6,S}\n",
      "5   Cd u0 {3,S} {7,D}\n",
      "6   Cs u0 {3,S} {4,S} {8,S} {9,S}\n",
      "7   Cd u0 {2,S} {5,D}\n",
      "8   Cs u0 {1,S} {6,S}\n",
      "9   Cs u0 {2,S} {6,S}\n",
      "\n",
      "**********************\n"
     ]
    },
    {
     "data": {
      "image/png": "[encoded data removed]",
      "text/plain": [
       "Species(index=32, label=\"s1_5_5_ane\", molecule=[Molecule(SMILES=\"C1CCC2(C1)CCCC2\")], molecularWeight=(124.223,'amu'), energyTransferModel=SingleExponentialDown(alpha0=(3.5886,'kJ/mol'), T0=(300,'K'), n=0.85))"
      ]
     },
     "metadata": {},
     "output_type": "display_data"
    },
    {
     "name": "stdout",
     "output_type": "stream",
     "text": [
      "s1_5_5_ane\n",
      "1 * Cs u0 {4,S} {9,S}\n",
      "2   Cs u0 {4,S} {8,S}\n",
      "3   Cs u0 {7,S} {9,S}\n",
      "4   Cs u0 {1,S} {2,S} {6,S} {7,S}\n",
      "5   Cs u0 {6,S} {8,S}\n",
      "6   Cs u0 {4,S} {5,S}\n",
      "7   Cs u0 {3,S} {4,S}\n",
      "8   Cs u0 {2,S} {5,S}\n",
      "9   Cs u0 {1,S} {3,S}\n",
      "\n",
      "**********************\n"
     ]
    },
    {
     "data": {
      "image/png": "[encoded data removed]",
      "text/plain": [
       "Species(index=33, label=\"s1_5_5_ene_1\", molecule=[Molecule(SMILES=\"C1=CC2(CC1)CCCC2\")], molecularWeight=(122.207,'amu'), energyTransferModel=SingleExponentialDown(alpha0=(3.5886,'kJ/mol'), T0=(300,'K'), n=0.85))"
      ]
     },
     "metadata": {},
     "output_type": "display_data"
    },
    {
     "name": "stdout",
     "output_type": "stream",
     "text": [
      "s1_5_5_ene_1\n",
      "1 * Cs u0 {2,S} {9,S}\n",
      "2   Cs u0 {1,S} {8,S}\n",
      "3   Cd u0 {4,S} {6,D}\n",
      "4   Cs u0 {3,S} {7,S}\n",
      "5   Cs u0 {6,S} {7,S} {8,S} {9,S}\n",
      "6   Cd u0 {3,D} {5,S}\n",
      "7   Cs u0 {4,S} {5,S}\n",
      "8   Cs u0 {2,S} {5,S}\n",
      "9   Cs u0 {1,S} {5,S}\n",
      "\n",
      "**********************\n"
     ]
    },
    {
     "data": {
      "image/png": "[encoded data removed]",
      "text/plain": [
       "Species(index=34, label=\"s1_5_5_ene_2\", molecule=[Molecule(SMILES=\"C1=CCC2(C1)CCCC2\")], molecularWeight=(122.207,'amu'), energyTransferModel=SingleExponentialDown(alpha0=(3.5886,'kJ/mol'), T0=(300,'K'), n=0.85))"
      ]
     },
     "metadata": {},
     "output_type": "display_data"
    },
    {
     "name": "stdout",
     "output_type": "stream",
     "text": [
      "s1_5_5_ene_2\n",
      "1 * Cs u0 {5,S} {6,S} {7,S} {9,S}\n",
      "2   Cs u0 {4,S} {9,S}\n",
      "3   Cd u0 {6,S} {8,D}\n",
      "4   Cs u0 {2,S} {7,S}\n",
      "5   Cs u0 {1,S} {8,S}\n",
      "6   Cs u0 {1,S} {3,S}\n",
      "7   Cs u0 {1,S} {4,S}\n",
      "8   Cd u0 {3,D} {5,S}\n",
      "9   Cs u0 {1,S} {2,S}\n",
      "\n",
      "**********************\n"
     ]
    },
    {
     "data": {
      "image/png": "[encoded data removed]",
      "text/plain": [
       "Species(index=35, label=\"s1_5_5_diene_1_3\", molecule=[Molecule(SMILES=\"C1C=CC2(C=1)CCCC2\")], molecularWeight=(120.192,'amu'), energyTransferModel=SingleExponentialDown(alpha0=(3.5886,'kJ/mol'), T0=(300,'K'), n=0.85))"
      ]
     },
     "metadata": {},
     "output_type": "display_data"
    },
    {
     "name": "stdout",
     "output_type": "stream",
     "text": [
      "s1_5_5_diene_1_3\n",
      "1 * Cs u0 {2,S} {3,S}\n",
      "2   Cs u0 {1,S} {9,S}\n",
      "3   Cs u0 {1,S} {5,S} {7,S} {8,S}\n",
      "4   Cd u0 {6,S} {8,D}\n",
      "5   Cs u0 {3,S} {9,S}\n",
      "6   Cd u0 {4,S} {7,D}\n",
      "7   Cd u0 {3,S} {6,D}\n",
      "8   Cd u0 {3,S} {4,D}\n",
      "9   Cs u0 {2,S} {5,S}\n",
      "\n",
      "**********************\n"
     ]
    },
    {
     "data": {
      "image/png": "[encoded data removed]",
      "text/plain": [
       "Species(index=36, label=\"s1_5_5_diene_1_6\", molecule=[Molecule(SMILES=\"C1=CC2(C=CCC2)CC1\")], molecularWeight=(120.192,'amu'), energyTransferModel=SingleExponentialDown(alpha0=(3.5886,'kJ/mol'), T0=(300,'K'), n=0.85))"
      ]
     },
     "metadata": {},
     "output_type": "display_data"
    },
    {
     "name": "stdout",
     "output_type": "stream",
     "text": [
      "s1_5_5_diene_1_6\n",
      "1 * Cs u0 {3,S} {5,S}\n",
      "2   Cs u0 {4,S} {9,S}\n",
      "3   Cs u0 {1,S} {4,S}\n",
      "4   Cs u0 {2,S} {3,S} {7,S} {8,S}\n",
      "5   Cd u0 {1,S} {7,D}\n",
      "6   Cd u0 {8,D} {9,S}\n",
      "7   Cd u0 {4,S} {5,D}\n",
      "8   Cd u0 {4,S} {6,D}\n",
      "9   Cs u0 {2,S} {6,S}\n",
      "\n",
      "**********************\n"
     ]
    },
    {
     "data": {
      "image/png": "[encoded data removed]",
      "text/plain": [
       "Species(index=37, label=\"s1_5_5_diene_1_7\", molecule=[Molecule(SMILES=\"C1=CC2(CC=CC2)CC1\")], molecularWeight=(120.192,'amu'), energyTransferModel=SingleExponentialDown(alpha0=(3.5886,'kJ/mol'), T0=(300,'K'), n=0.85))"
      ]
     },
     "metadata": {},
     "output_type": "display_data"
    },
    {
     "name": "stdout",
     "output_type": "stream",
     "text": [
      "s1_5_5_diene_1_7\n",
      "1 * Cs u0 {3,S} {6,S}\n",
      "2   Cd u0 {3,D} {5,S}\n",
      "3   Cd u0 {1,S} {2,D}\n",
      "4   Cd u0 {7,S} {9,D}\n",
      "5   Cs u0 {2,S} {6,S}\n",
      "6   Cs u0 {1,S} {5,S} {8,S} {9,S}\n",
      "7   Cs u0 {4,S} {8,S}\n",
      "8   Cs u0 {6,S} {7,S}\n",
      "9   Cd u0 {4,D} {6,S}\n",
      "\n",
      "**********************\n"
     ]
    },
    {
     "data": {
      "image/png": "[encoded data removed]",
      "text/plain": [
       "Species(index=38, label=\"s1_5_5_diene_2_7\", molecule=[Molecule(SMILES=\"C1=CCC2(C1)CC=CC2\")], molecularWeight=(120.192,'amu'), energyTransferModel=SingleExponentialDown(alpha0=(3.5886,'kJ/mol'), T0=(300,'K'), n=0.85))"
      ]
     },
     "metadata": {},
     "output_type": "display_data"
    },
    {
     "name": "stdout",
     "output_type": "stream",
     "text": [
      "s1_5_5_diene_2_7\n",
      "1 * Cd u0 {7,S} {9,D}\n",
      "2   Cd u0 {4,D} {5,S}\n",
      "3   Cs u0 {6,S} {9,S}\n",
      "4   Cd u0 {2,D} {8,S}\n",
      "5   Cs u0 {2,S} {6,S}\n",
      "6   Cs u0 {3,S} {5,S} {7,S} {8,S}\n",
      "7   Cs u0 {1,S} {6,S}\n",
      "8   Cs u0 {4,S} {6,S}\n",
      "9   Cd u0 {1,D} {3,S}\n",
      "\n",
      "**********************\n"
     ]
    },
    {
     "data": {
      "image/png": "[encoded data removed]",
      "text/plain": [
       "Species(index=39, label=\"s1_5_6_ane\", molecule=[Molecule(SMILES=\"C1CCC2(CC1)CCCC2\")], molecularWeight=(138.25,'amu'), energyTransferModel=SingleExponentialDown(alpha0=(3.5886,'kJ/mol'), T0=(300,'K'), n=0.85))"
      ]
     },
     "metadata": {},
     "output_type": "display_data"
    },
    {
     "name": "stdout",
     "output_type": "stream",
     "text": [
      "s1_5_6_ane\n",
      "1  * Cs u0 {7,S} {9,S}\n",
      "2    Cs u0 {4,S} {5,S}\n",
      "3    Cs u0 {6,S} {10,S}\n",
      "4    Cs u0 {2,S} {6,S} {8,S} {9,S}\n",
      "5    Cs u0 {2,S} {10,S}\n",
      "6    Cs u0 {3,S} {4,S}\n",
      "7    Cs u0 {1,S} {8,S}\n",
      "8    Cs u0 {4,S} {7,S}\n",
      "9    Cs u0 {1,S} {4,S}\n",
      "10   Cs u0 {3,S} {5,S}\n",
      "\n",
      "**********************\n"
     ]
    },
    {
     "data": {
      "image/png": "[encoded data removed]",
      "text/plain": [
       "Species(index=40, label=\"s1_5_6_ene_1\", molecule=[Molecule(SMILES=\"C1=CC2(CCC1)CCCC2\")], molecularWeight=(136.234,'amu'), energyTransferModel=SingleExponentialDown(alpha0=(3.5886,'kJ/mol'), T0=(300,'K'), n=0.85))"
      ]
     },
     "metadata": {},
     "output_type": "display_data"
    },
    {
     "name": "stdout",
     "output_type": "stream",
     "text": [
      "s1_5_6_ene_1\n",
      "1  * Cs u0 {5,S} {9,S}\n",
      "2    Cs u0 {3,S} {5,S} {6,S} {8,S}\n",
      "3    Cs u0 {2,S} {9,S}\n",
      "4    Cd u0 {6,D} {7,S}\n",
      "5    Cs u0 {1,S} {2,S}\n",
      "6    Cd u0 {2,S} {4,D}\n",
      "7    Cs u0 {4,S} {10,S}\n",
      "8    Cs u0 {2,S} {10,S}\n",
      "9    Cs u0 {1,S} {3,S}\n",
      "10   Cs u0 {7,S} {8,S}\n",
      "\n",
      "**********************\n"
     ]
    },
    {
     "data": {
      "image/png": "[encoded data removed]",
      "text/plain": [
       "Species(index=41, label=\"s1_5_6_ene_2\", molecule=[Molecule(SMILES=\"C1=CCC2(CC1)CCCC2\")], molecularWeight=(136.234,'amu'), energyTransferModel=SingleExponentialDown(alpha0=(3.5886,'kJ/mol'), T0=(300,'K'), n=0.85))"
      ]
     },
     "metadata": {},
     "output_type": "display_data"
    },
    {
     "name": "stdout",
     "output_type": "stream",
     "text": [
      "s1_5_6_ene_2\n",
      "1    Cs u0 {5,S} {8,S}\n",
      "2  * Cs u0 {5,S} {9,S}\n",
      "3    Cs u0 {5,S} {6,S}\n",
      "4    Cs u0 {5,S} {7,S}\n",
      "5    Cs u0 {1,S} {2,S} {3,S} {4,S}\n",
      "6    Cd u0 {3,S} {10,D}\n",
      "7    Cs u0 {4,S} {9,S}\n",
      "8    Cs u0 {1,S} {10,S}\n",
      "9    Cs u0 {2,S} {7,S}\n",
      "10   Cd u0 {6,D} {8,S}\n",
      "\n",
      "**********************\n"
     ]
    },
    {
     "data": {
      "image/png": "[encoded data removed]",
      "text/plain": [
       "Species(index=42, label=\"s1_5_6_ene_7\", molecule=[Molecule(SMILES=\"C1=CC2(CC1)CCCCC2\")], molecularWeight=(136.234,'amu'), energyTransferModel=SingleExponentialDown(alpha0=(3.5886,'kJ/mol'), T0=(300,'K'), n=0.85))"
      ]
     },
     "metadata": {},
     "output_type": "display_data"
    },
    {
     "name": "stdout",
     "output_type": "stream",
     "text": [
      "s1_5_6_ene_7\n",
      "1  * Cd u0 {4,D} {5,S}\n",
      "2    Cs u0 {3,S} {10,S}\n",
      "3    Cs u0 {2,S} {5,S}\n",
      "4    Cd u0 {1,D} {8,S}\n",
      "5    Cs u0 {1,S} {3,S} {6,S} {9,S}\n",
      "6    Cs u0 {5,S} {8,S}\n",
      "7    Cs u0 {9,S} {10,S}\n",
      "8    Cs u0 {4,S} {6,S}\n",
      "9    Cs u0 {5,S} {7,S}\n",
      "10   Cs u0 {2,S} {7,S}\n",
      "\n",
      "**********************\n"
     ]
    },
    {
     "data": {
      "image/png": "[encoded data removed]",
      "text/plain": [
       "Species(index=43, label=\"s1_5_6_ene_8\", molecule=[Molecule(SMILES=\"C1=CCC2(C1)CCCCC2\")], molecularWeight=(136.234,'amu'), energyTransferModel=SingleExponentialDown(alpha0=(3.5886,'kJ/mol'), T0=(300,'K'), n=0.85))"
      ]
     },
     "metadata": {},
     "output_type": "display_data"
    },
    {
     "name": "stdout",
     "output_type": "stream",
     "text": [
      "s1_5_6_ene_8\n",
      "1  * Cs u0 {7,S} {10,S}\n",
      "2    Cs u0 {3,S} {5,S}\n",
      "3    Cs u0 {2,S} {10,S}\n",
      "4    Cs u0 {8,S} {10,S}\n",
      "5    Cs u0 {2,S} {7,S}\n",
      "6    Cd u0 {8,D} {9,S}\n",
      "7    Cs u0 {1,S} {5,S}\n",
      "8    Cd u0 {4,S} {6,D}\n",
      "9    Cs u0 {6,S} {10,S}\n",
      "10   Cs u0 {1,S} {3,S} {4,S} {9,S}\n",
      "\n",
      "**********************\n"
     ]
    },
    {
     "data": {
      "image/png": "[encoded data removed]",
      "text/plain": [
       "Species(index=44, label=\"s1_5_6_diene_1_3\", molecule=[Molecule(SMILES=\"C1C=CC2(CC=1)CCCC2\")], molecularWeight=(134.218,'amu'), energyTransferModel=SingleExponentialDown(alpha0=(3.5886,'kJ/mol'), T0=(300,'K'), n=0.85))"
      ]
     },
     "metadata": {},
     "output_type": "display_data"
    },
    {
     "name": "stdout",
     "output_type": "stream",
     "text": [
      "s1_5_6_diene_1_3\n",
      "1  * Cd u0 {6,S} {10,D}\n",
      "2    Cs u0 {8,S} {9,S}\n",
      "3    Cs u0 {5,S} {6,S}\n",
      "4    Cd u0 {5,D} {10,S}\n",
      "5    Cd u0 {3,S} {4,D}\n",
      "6    Cs u0 {1,S} {3,S} {7,S} {9,S}\n",
      "7    Cs u0 {6,S} {8,S}\n",
      "8    Cs u0 {2,S} {7,S}\n",
      "9    Cs u0 {2,S} {6,S}\n",
      "10   Cd u0 {1,D} {4,S}\n",
      "\n",
      "**********************\n"
     ]
    },
    {
     "data": {
      "image/png": "[encoded data removed]",
      "text/plain": [
       "Species(index=45, label=\"s1_5_6_diene_1_4\", molecule=[Molecule(SMILES=\"C1=CC2(C=CC1)CCCC2\")], molecularWeight=(134.218,'amu'), energyTransferModel=SingleExponentialDown(alpha0=(3.5886,'kJ/mol'), T0=(300,'K'), n=0.85))"
      ]
     },
     "metadata": {},
     "output_type": "display_data"
    },
    {
     "name": "stdout",
     "output_type": "stream",
     "text": [
      "s1_5_6_diene_1_4\n",
      "1  * Cd u0 {7,S} {8,D}\n",
      "2    Cd u0 {9,D} {10,S}\n",
      "3    Cs u0 {4,S} {7,S}\n",
      "4    Cs u0 {3,S} {6,S}\n",
      "5    Cs u0 {6,S} {7,S}\n",
      "6    Cs u0 {4,S} {5,S}\n",
      "7    Cs u0 {1,S} {3,S} {5,S} {9,S}\n",
      "8    Cd u0 {1,D} {10,S}\n",
      "9    Cd u0 {2,D} {7,S}\n",
      "10   Cs u0 {2,S} {8,S}\n",
      "\n",
      "**********************\n"
     ]
    },
    {
     "data": {
      "image/png": "[encoded data removed]",
      "text/plain": [
       "Species(index=46, label=\"s1_5_6_diene_1_7\", molecule=[Molecule(SMILES=\"C1=CC2(C=CCC2)CCC1\")], molecularWeight=(134.218,'amu'), energyTransferModel=SingleExponentialDown(alpha0=(3.5886,'kJ/mol'), T0=(300,'K'), n=0.85))"
      ]
     },
     "metadata": {},
     "output_type": "display_data"
    },
    {
     "name": "stdout",
     "output_type": "stream",
     "text": [
      "s1_5_6_diene_1_7\n",
      "1  * Cd u0 {7,D} {9,S}\n",
      "2    Cs u0 {8,S} {9,S}\n",
      "3    Cs u0 {8,S} {10,S}\n",
      "4    Cd u0 {5,D} {6,S}\n",
      "5    Cd u0 {4,D} {8,S}\n",
      "6    Cs u0 {4,S} {10,S}\n",
      "7    Cd u0 {1,D} {8,S}\n",
      "8    Cs u0 {2,S} {3,S} {5,S} {7,S}\n",
      "9    Cs u0 {1,S} {2,S}\n",
      "10   Cs u0 {3,S} {6,S}\n",
      "\n",
      "**********************\n"
     ]
    },
    {
     "data": {
      "image/png": "[encoded data removed]",
      "text/plain": [
       "Species(index=47, label=\"s1_5_6_diene_1_8\", molecule=[Molecule(SMILES=\"C1=CC2(CC=CC2)CCC1\")], molecularWeight=(134.218,'amu'), energyTransferModel=SingleExponentialDown(alpha0=(3.5886,'kJ/mol'), T0=(300,'K'), n=0.85))"
      ]
     },
     "metadata": {},
     "output_type": "display_data"
    },
    {
     "name": "stdout",
     "output_type": "stream",
     "text": [
      "s1_5_6_diene_1_8\n",
      "1  * Cd u0 {2,S} {4,D}\n",
      "2    Cs u0 {1,S} {7,S}\n",
      "3    Cs u0 {6,S} {10,S}\n",
      "4    Cd u0 {1,D} {6,S}\n",
      "5    Cd u0 {9,S} {10,D}\n",
      "6    Cs u0 {3,S} {4,S} {8,S} {9,S}\n",
      "7    Cs u0 {2,S} {8,S}\n",
      "8    Cs u0 {6,S} {7,S}\n",
      "9    Cs u0 {5,S} {6,S}\n",
      "10   Cd u0 {3,S} {5,D}\n",
      "\n",
      "**********************\n"
     ]
    },
    {
     "data": {
      "image/png": "[encoded data removed]",
      "text/plain": [
       "Species(index=48, label=\"s1_5_6_diene_2_7\", molecule=[Molecule(SMILES=\"C1=CCC2(C=CCC2)CC1\")], molecularWeight=(134.218,'amu'), energyTransferModel=SingleExponentialDown(alpha0=(3.5886,'kJ/mol'), T0=(300,'K'), n=0.85))"
      ]
     },
     "metadata": {},
     "output_type": "display_data"
    },
    {
     "name": "stdout",
     "output_type": "stream",
     "text": [
      "s1_5_6_diene_2_7\n",
      "1  * Cs u0 {2,S} {3,S} {4,S} {5,S}\n",
      "2    Cs u0 {1,S} {10,S}\n",
      "3    Cd u0 {1,S} {7,D}\n",
      "4    Cs u0 {1,S} {9,S}\n",
      "5    Cs u0 {1,S} {6,S}\n",
      "6    Cd u0 {5,S} {8,D}\n",
      "7    Cd u0 {3,D} {9,S}\n",
      "8    Cd u0 {6,D} {10,S}\n",
      "9    Cs u0 {4,S} {7,S}\n",
      "10   Cs u0 {2,S} {8,S}\n",
      "\n",
      "**********************\n"
     ]
    },
    {
     "data": {
      "image/png": "[encoded data removed]",
      "text/plain": [
       "Species(index=49, label=\"s1_5_6_diene_2_8\", molecule=[Molecule(SMILES=\"C1=CCC2(CC=CC2)CC1\")], molecularWeight=(134.218,'amu'), energyTransferModel=SingleExponentialDown(alpha0=(3.5886,'kJ/mol'), T0=(300,'K'), n=0.85))"
      ]
     },
     "metadata": {},
     "output_type": "display_data"
    },
    {
     "name": "stdout",
     "output_type": "stream",
     "text": [
      "s1_5_6_diene_2_8\n",
      "1  * Cs u0 {2,S} {4,S}\n",
      "2    Cd u0 {1,S} {8,D}\n",
      "3    Cd u0 {9,S} {10,D}\n",
      "4    Cs u0 {1,S} {5,S} {7,S} {9,S}\n",
      "5    Cs u0 {4,S} {6,S}\n",
      "6    Cs u0 {5,S} {10,S}\n",
      "7    Cs u0 {4,S} {8,S}\n",
      "8    Cd u0 {2,D} {7,S}\n",
      "9    Cs u0 {3,S} {4,S}\n",
      "10   Cd u0 {3,D} {6,S}\n",
      "\n",
      "**********************\n"
     ]
    },
    {
     "data": {
      "image/png": "[encoded data removed]",
      "text/plain": [
       "Species(index=50, label=\"s1_5_6_diene_7_9\", molecule=[Molecule(SMILES=\"C1C=CC2(C=1)CCCCC2\")], molecularWeight=(134.218,'amu'), energyTransferModel=SingleExponentialDown(alpha0=(3.5886,'kJ/mol'), T0=(300,'K'), n=0.85))"
      ]
     },
     "metadata": {},
     "output_type": "display_data"
    },
    {
     "name": "stdout",
     "output_type": "stream",
     "text": [
      "s1_5_6_diene_7_9\n",
      "1  * Cs u0 {8,S} {9,S}\n",
      "2    Cs u0 {5,S} {6,S} {7,S} {8,S}\n",
      "3    Cd u0 {4,S} {6,D}\n",
      "4    Cd u0 {3,S} {7,D}\n",
      "5    Cs u0 {2,S} {10,S}\n",
      "6    Cd u0 {2,S} {3,D}\n",
      "7    Cd u0 {2,S} {4,D}\n",
      "8    Cs u0 {1,S} {2,S}\n",
      "9    Cs u0 {1,S} {10,S}\n",
      "10   Cs u0 {5,S} {9,S}\n",
      "\n",
      "**********************\n"
     ]
    },
    {
     "data": {
      "image/png": "[encoded data removed]",
      "text/plain": [
       "Species(index=51, label=\"s1_6_6_ane\", molecule=[Molecule(SMILES=\"C1CCC2(CC1)CCCCC2\")], molecularWeight=(152.277,'amu'), energyTransferModel=SingleExponentialDown(alpha0=(3.5886,'kJ/mol'), T0=(300,'K'), n=0.85))"
      ]
     },
     "metadata": {},
     "output_type": "display_data"
    },
    {
     "name": "stdout",
     "output_type": "stream",
     "text": [
      "s1_6_6_ane\n",
      "1  * Cs u0 {2,S} {9,S}\n",
      "2    Cs u0 {1,S} {4,S} {5,S} {6,S}\n",
      "3    Cs u0 {8,S} {10,S}\n",
      "4    Cs u0 {2,S} {11,S}\n",
      "5    Cs u0 {2,S} {10,S}\n",
      "6    Cs u0 {2,S} {8,S}\n",
      "7    Cs u0 {9,S} {11,S}\n",
      "8    Cs u0 {3,S} {6,S}\n",
      "9    Cs u0 {1,S} {7,S}\n",
      "10   Cs u0 {3,S} {5,S}\n",
      "11   Cs u0 {4,S} {7,S}\n",
      "\n",
      "**********************\n"
     ]
    },
    {
     "data": {
      "image/png": "[encoded data removed]",
      "text/plain": [
       "Species(index=52, label=\"s1_6_6_ene_1\", molecule=[Molecule(SMILES=\"C1=CC2(CCC1)CCCCC2\")], molecularWeight=(150.261,'amu'), energyTransferModel=SingleExponentialDown(alpha0=(3.5886,'kJ/mol'), T0=(300,'K'), n=0.85))"
      ]
     },
     "metadata": {},
     "output_type": "display_data"
    },
    {
     "name": "stdout",
     "output_type": "stream",
     "text": [
      "s1_6_6_ene_1\n",
      "1  * Cs u0 {2,S} {8,S}\n",
      "2    Cs u0 {1,S} {5,S}\n",
      "3    Cs u0 {5,S} {9,S}\n",
      "4    Cd u0 {8,S} {10,D}\n",
      "5    Cs u0 {2,S} {3,S}\n",
      "6    Cs u0 {7,S} {11,S}\n",
      "7    Cs u0 {6,S} {8,S}\n",
      "8    Cs u0 {1,S} {4,S} {7,S} {9,S}\n",
      "9    Cs u0 {3,S} {8,S}\n",
      "10   Cd u0 {4,D} {11,S}\n",
      "11   Cs u0 {6,S} {10,S}\n",
      "\n",
      "**********************\n"
     ]
    },
    {
     "data": {
      "image/png": "[encoded data removed]",
      "text/plain": [
       "Species(index=53, label=\"s1_6_6_ene_2\", molecule=[Molecule(SMILES=\"C1=CCC2(CC1)CCCCC2\")], molecularWeight=(150.261,'amu'), energyTransferModel=SingleExponentialDown(alpha0=(3.5886,'kJ/mol'), T0=(300,'K'), n=0.85))"
      ]
     },
     "metadata": {},
     "output_type": "display_data"
    },
    {
     "name": "stdout",
     "output_type": "stream",
     "text": [
      "s1_6_6_ene_2\n",
      "1  * Cs u0 {4,S} {5,S}\n",
      "2    Cs u0 {10,S} {11,S}\n",
      "3    Cs u0 {4,S} {7,S} {9,S} {11,S}\n",
      "4    Cs u0 {1,S} {3,S}\n",
      "5    Cd u0 {1,S} {8,D}\n",
      "6    Cs u0 {7,S} {10,S}\n",
      "7    Cs u0 {3,S} {6,S}\n",
      "8    Cd u0 {5,D} {9,S}\n",
      "9    Cs u0 {3,S} {8,S}\n",
      "10   Cs u0 {2,S} {6,S}\n",
      "11   Cs u0 {2,S} {3,S}\n",
      "\n",
      "**********************\n"
     ]
    },
    {
     "data": {
      "image/png": "[encoded data removed]",
      "text/plain": [
       "Species(index=54, label=\"s1_6_6_diene_1_3\", molecule=[Molecule(SMILES=\"C1C=CC2(CC=1)CCCCC2\")], molecularWeight=(148.245,'amu'), energyTransferModel=SingleExponentialDown(alpha0=(3.5886,'kJ/mol'), T0=(300,'K'), n=0.85))"
      ]
     },
     "metadata": {},
     "output_type": "display_data"
    },
    {
     "name": "stdout",
     "output_type": "stream",
     "text": [
      "s1_6_6_diene_1_3\n",
      "1  * Cd u0 {9,S} {10,D}\n",
      "2    Cd u0 {6,D} {11,S}\n",
      "3    Cs u0 {7,S} {8,S}\n",
      "4    Cs u0 {5,S} {7,S}\n",
      "5    Cs u0 {4,S} {11,S}\n",
      "6    Cd u0 {2,D} {10,S}\n",
      "7    Cs u0 {3,S} {4,S}\n",
      "8    Cs u0 {3,S} {11,S}\n",
      "9    Cs u0 {1,S} {11,S}\n",
      "10   Cd u0 {1,D} {6,S}\n",
      "11   Cs u0 {2,S} {5,S} {8,S} {9,S}\n",
      "\n",
      "**********************\n"
     ]
    },
    {
     "data": {
      "image/png": "[encoded data removed]",
      "text/plain": [
       "Species(index=55, label=\"s1_6_6_diene_1_4\", molecule=[Molecule(SMILES=\"C1=CC2(C=CC1)CCCCC2\")], molecularWeight=(148.245,'amu'), energyTransferModel=SingleExponentialDown(alpha0=(3.5886,'kJ/mol'), T0=(300,'K'), n=0.85))"
      ]
     },
     "metadata": {},
     "output_type": "display_data"
    },
    {
     "name": "stdout",
     "output_type": "stream",
     "text": [
      "s1_6_6_diene_1_4\n",
      "1  * Cd u0 {5,S} {6,D}\n",
      "2    Cs u0 {4,S} {7,S}\n",
      "3    Cs u0 {6,S} {10,S}\n",
      "4    Cs u0 {2,S} {5,S}\n",
      "5    Cs u0 {1,S} {4,S} {8,S} {9,S}\n",
      "6    Cd u0 {1,D} {3,S}\n",
      "7    Cs u0 {2,S} {11,S}\n",
      "8    Cs u0 {5,S} {11,S}\n",
      "9    Cd u0 {5,S} {10,D}\n",
      "10   Cd u0 {3,S} {9,D}\n",
      "11   Cs u0 {7,S} {8,S}\n",
      "\n",
      "**********************\n"
     ]
    },
    {
     "data": {
      "image/png": "[encoded data removed]",
      "text/plain": [
       "Species(index=56, label=\"s1_6_6_diene_1_7\", molecule=[Molecule(SMILES=\"C1=CC2(C=CCCC2)CCC1\")], molecularWeight=(148.245,'amu'), energyTransferModel=SingleExponentialDown(alpha0=(3.5886,'kJ/mol'), T0=(300,'K'), n=0.85))"
      ]
     },
     "metadata": {},
     "output_type": "display_data"
    },
    {
     "name": "stdout",
     "output_type": "stream",
     "text": [
      "s1_6_6_diene_1_7\n",
      "1  * Cs u0 {3,S} {6,S}\n",
      "2    Cd u0 {10,S} {11,D}\n",
      "3    Cs u0 {1,S} {10,S}\n",
      "4    Cd u0 {6,S} {9,D}\n",
      "5    Cs u0 {8,S} {9,S}\n",
      "6    Cs u0 {1,S} {4,S} {7,S} {11,S}\n",
      "7    Cs u0 {6,S} {8,S}\n",
      "8    Cs u0 {5,S} {7,S}\n",
      "9    Cd u0 {4,D} {5,S}\n",
      "10   Cs u0 {2,S} {3,S}\n",
      "11   Cd u0 {2,D} {6,S}\n",
      "\n",
      "**********************\n"
     ]
    },
    {
     "data": {
      "image/png": "[encoded data removed]",
      "text/plain": [
       "Species(index=57, label=\"s1_6_6_diene_1_8\", molecule=[Molecule(SMILES=\"C1=CC2(CC=CCC2)CCC1\")], molecularWeight=(148.245,'amu'), energyTransferModel=SingleExponentialDown(alpha0=(3.5886,'kJ/mol'), T0=(300,'K'), n=0.85))"
      ]
     },
     "metadata": {},
     "output_type": "display_data"
    },
    {
     "name": "stdout",
     "output_type": "stream",
     "text": [
      "s1_6_6_diene_1_8\n",
      "1  * Cs u0 {6,S} {11,S}\n",
      "2    Cs u0 {5,S} {7,S} {10,S} {11,S}\n",
      "3    Cd u0 {6,S} {10,D}\n",
      "4    Cs u0 {7,S} {8,S}\n",
      "5    Cs u0 {2,S} {9,S}\n",
      "6    Cs u0 {1,S} {3,S}\n",
      "7    Cs u0 {2,S} {4,S}\n",
      "8    Cd u0 {4,S} {9,D}\n",
      "9    Cd u0 {5,S} {8,D}\n",
      "10   Cd u0 {2,S} {3,D}\n",
      "11   Cs u0 {1,S} {2,S}\n",
      "\n",
      "**********************\n"
     ]
    },
    {
     "data": {
      "image/png": "[encoded data removed]",
      "text/plain": [
       "Species(index=58, label=\"s1_6_6_diene_2_8\", molecule=[Molecule(SMILES=\"C1=CCC2(CC=CCC2)CC1\")], molecularWeight=(148.245,'amu'), energyTransferModel=SingleExponentialDown(alpha0=(3.5886,'kJ/mol'), T0=(300,'K'), n=0.85))"
      ]
     },
     "metadata": {},
     "output_type": "display_data"
    },
    {
     "name": "stdout",
     "output_type": "stream",
     "text": [
      "s1_6_6_diene_2_8\n",
      "1  * Cd u0 {7,D} {9,S}\n",
      "2    Cd u0 {3,D} {4,S}\n",
      "3    Cd u0 {2,D} {6,S}\n",
      "4    Cs u0 {2,S} {10,S}\n",
      "5    Cs u0 {6,S} {9,S} {10,S} {11,S}\n",
      "6    Cs u0 {3,S} {5,S}\n",
      "7    Cd u0 {1,D} {8,S}\n",
      "8    Cs u0 {7,S} {11,S}\n",
      "9    Cs u0 {1,S} {5,S}\n",
      "10   Cs u0 {4,S} {5,S}\n",
      "11   Cs u0 {5,S} {8,S}\n",
      "\n",
      "**********************\n"
     ]
    },
    {
     "data": {
      "image/png": "[encoded data removed]",
      "text/plain": [
       "Species(index=59, label=\"s2_3_3_ane\", molecule=[Molecule(SMILES=\"C1C2CC12\")], molecularWeight=(54.0904,'amu'), energyTransferModel=SingleExponentialDown(alpha0=(3.5886,'kJ/mol'), T0=(300,'K'), n=0.85))"
      ]
     },
     "metadata": {},
     "output_type": "display_data"
    },
    {
     "name": "stdout",
     "output_type": "stream",
     "text": [
      "s2_3_3_ane\n",
      "1 * Cs u0 {2,S} {3,S} {4,S}\n",
      "2   Cs u0 {1,S} {3,S} {4,S}\n",
      "3   Cs u0 {1,S} {2,S}\n",
      "4   Cs u0 {1,S} {2,S}\n",
      "\n",
      "**********************\n"
     ]
    },
    {
     "data": {
      "image/png": "[encoded data removed]",
      "text/plain": [
       "Species(index=60, label=\"s2_3_3_ene\", molecule=[Molecule(SMILES=\"C1=C2CC12\")], molecularWeight=(52.0746,'amu'), energyTransferModel=SingleExponentialDown(alpha0=(3.5886,'kJ/mol'), T0=(300,'K'), n=0.85))"
      ]
     },
     "metadata": {},
     "output_type": "display_data"
    },
    {
     "name": "stdout",
     "output_type": "stream",
     "text": [
      "s2_3_3_ene\n",
      "1 * Cd u0 {2,S} {3,D} {4,S}\n",
      "2   Cs u0 {1,S} {4,S}\n",
      "3   Cd u0 {1,D} {4,S}\n",
      "4   Cs u0 {1,S} {2,S} {3,S}\n",
      "\n",
      "**********************\n"
     ]
    },
    {
     "data": {
      "image/png": "[encoded data removed]",
      "text/plain": [
       "Species(index=61, label=\"s2_3_4_ane\", molecule=[Molecule(SMILES=\"C1CC2CC12\")], molecularWeight=(68.117,'amu'), energyTransferModel=SingleExponentialDown(alpha0=(3.5886,'kJ/mol'), T0=(300,'K'), n=0.85))"
      ]
     },
     "metadata": {},
     "output_type": "display_data"
    },
    {
     "name": "stdout",
     "output_type": "stream",
     "text": [
      "s2_3_4_ane\n",
      "1 * Cs u0 {2,S} {3,S}\n",
      "2   Cs u0 {1,S} {3,S} {5,S}\n",
      "3   Cs u0 {1,S} {2,S} {4,S}\n",
      "4   Cs u0 {3,S} {5,S}\n",
      "5   Cs u0 {2,S} {4,S}\n",
      "\n",
      "**********************\n"
     ]
    },
    {
     "data": {
      "image/png": "[encoded data removed]",
      "text/plain": [
       "Species(index=62, label=\"s2_3_4_ene_1\", molecule=[Molecule(SMILES=\"C1=CC2CC12\")], molecularWeight=(66.1011,'amu'), energyTransferModel=SingleExponentialDown(alpha0=(3.5886,'kJ/mol'), T0=(300,'K'), n=0.85))"
      ]
     },
     "metadata": {},
     "output_type": "display_data"
    },
    {
     "name": "stdout",
     "output_type": "stream",
     "text": [
      "s2_3_4_ene_1\n",
      "1 * Cs u0 {2,S} {3,S} {4,S}\n",
      "2   Cs u0 {1,S} {4,S}\n",
      "3   Cd u0 {1,S} {5,D}\n",
      "4   Cs u0 {1,S} {2,S} {5,S}\n",
      "5   Cd u0 {3,D} {4,S}\n",
      "\n",
      "**********************\n"
     ]
    },
    {
     "data": {
      "image/png": "[encoded data removed]",
      "text/plain": [
       "Species(index=63, label=\"s2_3_5_ane\", molecule=[Molecule(SMILES=\"C1CC2CC2C1\")], molecularWeight=(82.1436,'amu'), energyTransferModel=SingleExponentialDown(alpha0=(3.5886,'kJ/mol'), T0=(300,'K'), n=0.85))"
      ]
     },
     "metadata": {},
     "output_type": "display_data"
    },
    {
     "name": "stdout",
     "output_type": "stream",
     "text": [
      "s2_3_5_ane\n",
      "1 * Cs u0 {2,S} {5,S}\n",
      "2   Cs u0 {1,S} {5,S} {6,S}\n",
      "3   Cs u0 {4,S} {5,S}\n",
      "4   Cs u0 {3,S} {6,S}\n",
      "5   Cs u0 {1,S} {2,S} {3,S}\n",
      "6   Cs u0 {2,S} {4,S}\n",
      "\n",
      "**********************\n"
     ]
    },
    {
     "data": {
      "image/png": "[encoded data removed]",
      "text/plain": [
       "Species(index=64, label=\"s2_3_5_ene_1\", molecule=[Molecule(SMILES=\"C1=CC2CC2C1\")], molecularWeight=(80.1277,'amu'), energyTransferModel=SingleExponentialDown(alpha0=(3.5886,'kJ/mol'), T0=(300,'K'), n=0.85))"
      ]
     },
     "metadata": {},
     "output_type": "display_data"
    },
    {
     "name": "stdout",
     "output_type": "stream",
     "text": [
      "s2_3_5_ene_1\n",
      "1 * Cs u0 {3,S} {4,S} {5,S}\n",
      "2   Cd u0 {5,D} {6,S}\n",
      "3   Cs u0 {1,S} {4,S}\n",
      "4   Cs u0 {1,S} {3,S} {6,S}\n",
      "5   Cd u0 {1,S} {2,D}\n",
      "6   Cs u0 {2,S} {4,S}\n",
      "\n",
      "**********************\n"
     ]
    },
    {
     "data": {
      "image/png": "[encoded data removed]",
      "text/plain": [
       "Species(index=65, label=\"s2_3_6_ane\", molecule=[Molecule(SMILES=\"C1CCC2CC2C1\")], molecularWeight=(96.1702,'amu'), energyTransferModel=SingleExponentialDown(alpha0=(3.5886,'kJ/mol'), T0=(300,'K'), n=0.85))"
      ]
     },
     "metadata": {},
     "output_type": "display_data"
    },
    {
     "name": "stdout",
     "output_type": "stream",
     "text": [
      "s2_3_6_ane\n",
      "1 * Cs u0 {4,S} {6,S}\n",
      "2   Cs u0 {5,S} {6,S} {7,S}\n",
      "3   Cs u0 {4,S} {7,S}\n",
      "4   Cs u0 {1,S} {3,S}\n",
      "5   Cs u0 {2,S} {7,S}\n",
      "6   Cs u0 {1,S} {2,S}\n",
      "7   Cs u0 {2,S} {3,S} {5,S}\n",
      "\n",
      "**********************\n"
     ]
    },
    {
     "data": {
      "image/png": "[encoded data removed]",
      "text/plain": [
       "Species(index=66, label=\"s2_3_6_ene_1\", molecule=[Molecule(SMILES=\"C1=CC2CC2CC1\")], molecularWeight=(94.1543,'amu'), energyTransferModel=SingleExponentialDown(alpha0=(3.5886,'kJ/mol'), T0=(300,'K'), n=0.85))"
      ]
     },
     "metadata": {},
     "output_type": "display_data"
    },
    {
     "name": "stdout",
     "output_type": "stream",
     "text": [
      "s2_3_6_ene_1\n",
      "1 * Cs u0 {2,S} {4,S} {7,S}\n",
      "2   Cs u0 {1,S} {4,S} {5,S}\n",
      "3   Cd u0 {6,S} {7,D}\n",
      "4   Cs u0 {1,S} {2,S}\n",
      "5   Cs u0 {2,S} {6,S}\n",
      "6   Cs u0 {3,S} {5,S}\n",
      "7   Cd u0 {1,S} {3,D}\n",
      "\n",
      "**********************\n"
     ]
    },
    {
     "data": {
      "image/png": "[encoded data removed]",
      "text/plain": [
       "Species(index=67, label=\"s2_3_6_ene_2\", molecule=[Molecule(SMILES=\"C1=CCC2CC2C1\")], molecularWeight=(94.1543,'amu'), energyTransferModel=SingleExponentialDown(alpha0=(3.5886,'kJ/mol'), T0=(300,'K'), n=0.85))"
      ]
     },
     "metadata": {},
     "output_type": "display_data"
    },
    {
     "name": "stdout",
     "output_type": "stream",
     "text": [
      "s2_3_6_ene_2\n",
      "1 * Cs u0 {2,S} {7,S}\n",
      "2   Cd u0 {1,S} {6,D}\n",
      "3   Cs u0 {4,S} {7,S}\n",
      "4   Cs u0 {3,S} {5,S} {7,S}\n",
      "5   Cs u0 {4,S} {6,S}\n",
      "6   Cd u0 {2,D} {5,S}\n",
      "7   Cs u0 {1,S} {3,S} {4,S}\n",
      "\n",
      "**********************\n"
     ]
    },
    {
     "data": {
      "image/png": "[encoded data removed]",
      "text/plain": [
       "Species(index=68, label=\"s2_3_6_diene_1_3\", molecule=[Molecule(SMILES=\"C1C=CC2CC2C=1\")], molecularWeight=(92.1384,'amu'), energyTransferModel=SingleExponentialDown(alpha0=(3.5886,'kJ/mol'), T0=(300,'K'), n=0.85))"
      ]
     },
     "metadata": {},
     "output_type": "display_data"
    },
    {
     "name": "stdout",
     "output_type": "stream",
     "text": [
      "s2_3_6_diene_1_3\n",
      "1 * Cd u0 {5,D} {6,S}\n",
      "2   Cs u0 {3,S} {4,S} {5,S}\n",
      "3   Cs u0 {2,S} {4,S} {7,S}\n",
      "4   Cs u0 {2,S} {3,S}\n",
      "5   Cd u0 {1,D} {2,S}\n",
      "6   Cd u0 {1,S} {7,D}\n",
      "7   Cd u0 {3,S} {6,D}\n",
      "\n",
      "**********************\n"
     ]
    },
    {
     "data": {
      "image/png": "[encoded data removed]",
      "text/plain": [
       "Species(index=69, label=\"s2_4_4_ane\", molecule=[Molecule(SMILES=\"C1CC2CCC12\")], molecularWeight=(82.1436,'amu'), energyTransferModel=SingleExponentialDown(alpha0=(3.5886,'kJ/mol'), T0=(300,'K'), n=0.85))"
      ]
     },
     "metadata": {},
     "output_type": "display_data"
    },
    {
     "name": "stdout",
     "output_type": "stream",
     "text": [
      "s2_4_4_ane\n",
      "1 * Cs u0 {3,S} {4,S} {5,S}\n",
      "2   Cs u0 {3,S} {5,S}\n",
      "3   Cs u0 {1,S} {2,S} {6,S}\n",
      "4   Cs u0 {1,S} {6,S}\n",
      "5   Cs u0 {1,S} {2,S}\n",
      "6   Cs u0 {3,S} {4,S}\n",
      "\n",
      "**********************\n"
     ]
    },
    {
     "data": {
      "image/png": "[encoded data removed]",
      "text/plain": [
       "Species(index=70, label=\"s2_4_4_ene_1\", molecule=[Molecule(SMILES=\"C1=CC2CCC12\")], molecularWeight=(80.1277,'amu'), energyTransferModel=SingleExponentialDown(alpha0=(3.5886,'kJ/mol'), T0=(300,'K'), n=0.85))"
      ]
     },
     "metadata": {},
     "output_type": "display_data"
    },
    {
     "name": "stdout",
     "output_type": "stream",
     "text": [
      "s2_4_4_ene_1\n",
      "1 * Cs u0 {2,S} {3,S} {5,S}\n",
      "2   Cs u0 {1,S} {4,S} {6,S}\n",
      "3   Cs u0 {1,S} {4,S}\n",
      "4   Cs u0 {2,S} {3,S}\n",
      "5   Cd u0 {1,S} {6,D}\n",
      "6   Cd u0 {2,S} {5,D}\n",
      "\n",
      "**********************\n"
     ]
    },
    {
     "data": {
      "image/png": "[encoded data removed]",
      "text/plain": [
       "Species(index=71, label=\"s2_4_5_ane\", molecule=[Molecule(SMILES=\"C1CC2CCC2C1\")], molecularWeight=(96.1702,'amu'), energyTransferModel=SingleExponentialDown(alpha0=(3.5886,'kJ/mol'), T0=(300,'K'), n=0.85))"
      ]
     },
     "metadata": {},
     "output_type": "display_data"
    },
    {
     "name": "stdout",
     "output_type": "stream",
     "text": [
      "s2_4_5_ane\n",
      "1 * Cs u0 {3,S} {4,S}\n",
      "2   Cs u0 {6,S} {7,S}\n",
      "3   Cs u0 {1,S} {5,S} {7,S}\n",
      "4   Cs u0 {1,S} {7,S}\n",
      "5   Cs u0 {3,S} {6,S}\n",
      "6   Cs u0 {2,S} {5,S}\n",
      "7   Cs u0 {2,S} {3,S} {4,S}\n",
      "\n",
      "**********************\n"
     ]
    },
    {
     "data": {
      "image/png": "[encoded data removed]",
      "text/plain": [
       "Species(index=72, label=\"s2_4_5_ene_1\", molecule=[Molecule(SMILES=\"C1=CC2CCC2C1\")], molecularWeight=(94.1543,'amu'), energyTransferModel=SingleExponentialDown(alpha0=(3.5886,'kJ/mol'), T0=(300,'K'), n=0.85))"
      ]
     },
     "metadata": {},
     "output_type": "display_data"
    },
    {
     "name": "stdout",
     "output_type": "stream",
     "text": [
      "s2_4_5_ene_1\n",
      "1 * Cd u0 {3,D} {4,S}\n",
      "2   Cs u0 {6,S} {7,S}\n",
      "3   Cd u0 {1,D} {5,S}\n",
      "4   Cs u0 {1,S} {7,S}\n",
      "5   Cs u0 {3,S} {6,S} {7,S}\n",
      "6   Cs u0 {2,S} {5,S}\n",
      "7   Cs u0 {2,S} {4,S} {5,S}\n",
      "\n",
      "**********************\n"
     ]
    },
    {
     "data": {
      "image/png": "[encoded data removed]",
      "text/plain": [
       "Species(index=73, label=\"s2_4_6_ane\", molecule=[Molecule(SMILES=\"C1CCC2CCC2C1\")], molecularWeight=(110.197,'amu'), energyTransferModel=SingleExponentialDown(alpha0=(3.5886,'kJ/mol'), T0=(300,'K'), n=0.85))"
      ]
     },
     "metadata": {},
     "output_type": "display_data"
    },
    {
     "name": "stdout",
     "output_type": "stream",
     "text": [
      "s2_4_6_ane\n",
      "1 * Cs u0 {5,S} {8,S}\n",
      "2   Cs u0 {5,S} {7,S} {8,S}\n",
      "3   Cs u0 {4,S} {6,S}\n",
      "4   Cs u0 {3,S} {5,S}\n",
      "5   Cs u0 {1,S} {2,S} {4,S}\n",
      "6   Cs u0 {3,S} {7,S}\n",
      "7   Cs u0 {2,S} {6,S}\n",
      "8   Cs u0 {1,S} {2,S}\n",
      "\n",
      "**********************\n"
     ]
    },
    {
     "data": {
      "image/png": "[encoded data removed]",
      "text/plain": [
       "Species(index=74, label=\"s2_4_6_ene_1\", molecule=[Molecule(SMILES=\"C1=CC2CCC2CC1\")], molecularWeight=(108.181,'amu'), energyTransferModel=SingleExponentialDown(alpha0=(3.5886,'kJ/mol'), T0=(300,'K'), n=0.85))"
      ]
     },
     "metadata": {},
     "output_type": "display_data"
    },
    {
     "name": "stdout",
     "output_type": "stream",
     "text": [
      "s2_4_6_ene_1\n",
      "1 * Cs u0 {5,S} {7,S}\n",
      "2   Cd u0 {5,S} {8,D}\n",
      "3   Cs u0 {4,S} {6,S}\n",
      "4   Cs u0 {3,S} {7,S} {8,S}\n",
      "5   Cs u0 {1,S} {2,S}\n",
      "6   Cs u0 {3,S} {7,S}\n",
      "7   Cs u0 {1,S} {4,S} {6,S}\n",
      "8   Cd u0 {2,D} {4,S}\n",
      "\n",
      "**********************\n"
     ]
    },
    {
     "data": {
      "image/png": "[encoded data removed]",
      "text/plain": [
       "Species(index=75, label=\"s2_4_6_ene_2\", molecule=[Molecule(SMILES=\"C1=CCC2CCC2C1\")], molecularWeight=(108.181,'amu'), energyTransferModel=SingleExponentialDown(alpha0=(3.5886,'kJ/mol'), T0=(300,'K'), n=0.85))"
      ]
     },
     "metadata": {},
     "output_type": "display_data"
    },
    {
     "name": "stdout",
     "output_type": "stream",
     "text": [
      "s2_4_6_ene_2\n",
      "1 * Cs u0 {2,S} {4,S}\n",
      "2   Cs u0 {1,S} {7,S} {8,S}\n",
      "3   Cd u0 {4,D} {6,S}\n",
      "4   Cd u0 {1,S} {3,D}\n",
      "5   Cs u0 {7,S} {8,S}\n",
      "6   Cs u0 {3,S} {7,S}\n",
      "7   Cs u0 {2,S} {5,S} {6,S}\n",
      "8   Cs u0 {2,S} {5,S}\n",
      "\n",
      "**********************\n"
     ]
    },
    {
     "data": {
      "image/png": "[encoded data removed]",
      "text/plain": [
       "Species(index=76, label=\"s2_5_5_ane\", molecule=[Molecule(SMILES=\"C1CC2CCCC2C1\")], molecularWeight=(110.197,'amu'), energyTransferModel=SingleExponentialDown(alpha0=(3.5886,'kJ/mol'), T0=(300,'K'), n=0.85))"
      ]
     },
     "metadata": {},
     "output_type": "display_data"
    },
    {
     "name": "stdout",
     "output_type": "stream",
     "text": [
      "s2_5_5_ane\n",
      "1 * Cs u0 {4,S} {8,S}\n",
      "2   Cs u0 {4,S} {7,S}\n",
      "3   Cs u0 {4,S} {5,S} {6,S}\n",
      "4   Cs u0 {1,S} {2,S} {3,S}\n",
      "5   Cs u0 {3,S} {8,S}\n",
      "6   Cs u0 {3,S} {7,S}\n",
      "7   Cs u0 {2,S} {6,S}\n",
      "8   Cs u0 {1,S} {5,S}\n",
      "\n",
      "**********************\n"
     ]
    },
    {
     "data": {
      "image/png": "[encoded data removed]",
      "text/plain": [
       "Species(index=77, label=\"s2_5_5_ene_0\", molecule=[Molecule(SMILES=\"C1CCC2CCCC=12\")], molecularWeight=(108.181,'amu'), energyTransferModel=SingleExponentialDown(alpha0=(3.5886,'kJ/mol'), T0=(300,'K'), n=0.85))"
      ]
     },
     "metadata": {},
     "output_type": "display_data"
    },
    {
     "name": "stdout",
     "output_type": "stream",
     "text": [
      "s2_5_5_ene_0\n",
      "1 * Cs u0 {3,S} {4,S}\n",
      "2   Cs u0 {5,S} {6,S}\n",
      "3   Cs u0 {1,S} {6,S} {7,S}\n",
      "4   Cs u0 {1,S} {8,S}\n",
      "5   Cs u0 {2,S} {7,S}\n",
      "6   Cd u0 {2,S} {3,S} {8,D}\n",
      "7   Cs u0 {3,S} {5,S}\n",
      "8   Cd u0 {4,S} {6,D}\n",
      "\n",
      "**********************\n"
     ]
    },
    {
     "data": {
      "image/png": "[encoded data removed]",
      "text/plain": [
       "Species(index=78, label=\"s2_5_5_ene_1\", molecule=[Molecule(SMILES=\"C1=CC2CCCC2C1\")], molecularWeight=(108.181,'amu'), energyTransferModel=SingleExponentialDown(alpha0=(3.5886,'kJ/mol'), T0=(300,'K'), n=0.85))"
      ]
     },
     "metadata": {},
     "output_type": "display_data"
    },
    {
     "name": "stdout",
     "output_type": "stream",
     "text": [
      "s2_5_5_ene_1\n",
      "1 * Cd u0 {4,S} {7,D}\n",
      "2   Cs u0 {5,S} {7,S}\n",
      "3   Cs u0 {5,S} {8,S}\n",
      "4   Cs u0 {1,S} {5,S} {6,S}\n",
      "5   Cs u0 {2,S} {3,S} {4,S}\n",
      "6   Cs u0 {4,S} {8,S}\n",
      "7   Cd u0 {1,D} {2,S}\n",
      "8   Cs u0 {3,S} {6,S}\n",
      "\n",
      "**********************\n"
     ]
    },
    {
     "data": {
      "image/png": "[encoded data removed]",
      "text/plain": [
       "Species(index=79, label=\"s2_5_5_ene_m\", molecule=[Molecule(SMILES=\"C1CC2CCCC=2C1\")], molecularWeight=(108.181,'amu'), energyTransferModel=SingleExponentialDown(alpha0=(3.5886,'kJ/mol'), T0=(300,'K'), n=0.85))"
      ]
     },
     "metadata": {},
     "output_type": "display_data"
    },
    {
     "name": "stdout",
     "output_type": "stream",
     "text": [
      "s2_5_5_ene_m\n",
      "1   Cd u0 {3,S} {5,S} {6,D}\n",
      "2 * Cs u0 {6,S} {7,S}\n",
      "3   Cs u0 {1,S} {7,S}\n",
      "4   Cs u0 {5,S} {8,S}\n",
      "5   Cs u0 {1,S} {4,S}\n",
      "6   Cd u0 {1,D} {2,S} {8,S}\n",
      "7   Cs u0 {2,S} {3,S}\n",
      "8   Cs u0 {4,S} {6,S}\n",
      "\n",
      "**********************\n"
     ]
    },
    {
     "data": {
      "image/png": "[encoded data removed]",
      "text/plain": [
       "Species(index=80, label=\"s2_5_5_diene_0_2\", molecule=[Molecule(SMILES=\"C1=CC2CCCC2=C1\")], molecularWeight=(106.165,'amu'), energyTransferModel=SingleExponentialDown(alpha0=(3.5886,'kJ/mol'), T0=(300,'K'), n=0.85))"
      ]
     },
     "metadata": {},
     "output_type": "display_data"
    },
    {
     "name": "stdout",
     "output_type": "stream",
     "text": [
      "s2_5_5_diene_0_2\n",
      "1 * Cs u0 {5,S} {6,S}\n",
      "2   Cd u0 {4,D} {6,S} {8,S}\n",
      "3   Cd u0 {4,S} {7,D}\n",
      "4   Cd u0 {2,D} {3,S}\n",
      "5   Cs u0 {1,S} {8,S}\n",
      "6   Cs u0 {1,S} {2,S}\n",
      "7   Cd u0 {3,D} {8,S}\n",
      "8   Cs u0 {2,S} {5,S} {7,S}\n",
      "\n",
      "**********************\n"
     ]
    },
    {
     "data": {
      "image/png": "[encoded data removed]",
      "text/plain": [
       "Species(index=81, label=\"s2_5_5_diene_0_3\", molecule=[Molecule(SMILES=\"C1CC=C2CCCC=12\")], molecularWeight=(106.165,'amu'), energyTransferModel=SingleExponentialDown(alpha0=(3.5886,'kJ/mol'), T0=(300,'K'), n=0.85))"
      ]
     },
     "metadata": {},
     "output_type": "display_data"
    },
    {
     "name": "stdout",
     "output_type": "stream",
     "text": [
      "s2_5_5_diene_0_3\n",
      "1 * Cd u0 {3,S} {4,D} {8,S}\n",
      "2   Cs u0 {4,S} {5,S}\n",
      "3   Cd u0 {1,S} {5,D} {6,S}\n",
      "4   Cd u0 {1,D} {2,S}\n",
      "5   Cd u0 {2,S} {3,D}\n",
      "6   Cs u0 {3,S} {7,S}\n",
      "7   Cs u0 {6,S} {8,S}\n",
      "8   Cs u0 {1,S} {7,S}\n",
      "\n",
      "**********************\n"
     ]
    },
    {
     "data": {
      "image/png": "[encoded data removed]",
      "text/plain": [
       "Species(index=82, label=\"s2_5_5_diene_m_2\", molecule=[Molecule(SMILES=\"C1=CC2CCCC=2C1\")], molecularWeight=(106.165,'amu'), energyTransferModel=SingleExponentialDown(alpha0=(3.5886,'kJ/mol'), T0=(300,'K'), n=0.85))"
      ]
     },
     "metadata": {},
     "output_type": "display_data"
    },
    {
     "name": "stdout",
     "output_type": "stream",
     "text": [
      "s2_5_5_diene_m_2\n",
      "1 * Cs u0 {7,S} {8,S}\n",
      "2   Cd u0 {4,D} {6,S}\n",
      "3   Cd u0 {5,D} {6,S} {7,S}\n",
      "4   Cd u0 {2,D} {5,S}\n",
      "5   Cd u0 {3,D} {4,S} {8,S}\n",
      "6   Cs u0 {2,S} {3,S}\n",
      "7   Cs u0 {1,S} {3,S}\n",
      "8   Cs u0 {1,S} {5,S}\n",
      "\n",
      "**********************\n"
     ]
    },
    {
     "data": {
      "image/png": "[encoded data removed]",
      "text/plain": [
       "Species(index=83, label=\"s2_5_5_diene_0_4\", molecule=[Molecule(SMILES=\"C1CCC2=CCCC=12\")], molecularWeight=(106.165,'amu'), energyTransferModel=SingleExponentialDown(alpha0=(3.5886,'kJ/mol'), T0=(300,'K'), n=0.85))"
      ]
     },
     "metadata": {},
     "output_type": "display_data"
    },
    {
     "name": "stdout",
     "output_type": "stream",
     "text": [
      "s2_5_5_diene_0_4\n",
      "1 * Cd u0 {4,S} {5,D} {7,S}\n",
      "2   Cs u0 {5,S} {6,S}\n",
      "3   Cd u0 {4,D} {8,S}\n",
      "4   Cd u0 {1,S} {3,D} {6,S}\n",
      "5   Cd u0 {1,D} {2,S}\n",
      "6   Cs u0 {2,S} {4,S}\n",
      "7   Cs u0 {1,S} {8,S}\n",
      "8   Cs u0 {3,S} {7,S}\n",
      "\n",
      "**********************\n"
     ]
    },
    {
     "data": {
      "image/png": "[encoded data removed]",
      "text/plain": [
       "Species(index=84, label=\"s2_5_5_diene_0_5\", molecule=[Molecule(SMILES=\"C1=CC2CCC=C2C1\")], molecularWeight=(106.165,'amu'), energyTransferModel=SingleExponentialDown(alpha0=(3.5886,'kJ/mol'), T0=(300,'K'), n=0.85))"
      ]
     },
     "metadata": {},
     "output_type": "display_data"
    },
    {
     "name": "stdout",
     "output_type": "stream",
     "text": [
      "s2_5_5_diene_0_5\n",
      "1 * Cd u0 {2,S} {7,D}\n",
      "2   Cs u0 {1,S} {6,S} {8,S}\n",
      "3   Cs u0 {5,S} {8,S}\n",
      "4   Cs u0 {6,S} {7,S}\n",
      "5   Cd u0 {3,S} {6,D}\n",
      "6   Cd u0 {2,S} {4,S} {5,D}\n",
      "7   Cd u0 {1,D} {4,S}\n",
      "8   Cs u0 {2,S} {3,S}\n",
      "\n",
      "**********************\n"
     ]
    },
    {
     "data": {
      "image/png": "[encoded data removed]",
      "text/plain": [
       "Species(index=85, label=\"s2_5_5_diene_0_6\", molecule=[Molecule(SMILES=\"C1=CC2=CCCC2C1\")], molecularWeight=(106.165,'amu'), energyTransferModel=SingleExponentialDown(alpha0=(3.5886,'kJ/mol'), T0=(300,'K'), n=0.85))"
      ]
     },
     "metadata": {},
     "output_type": "display_data"
    },
    {
     "name": "stdout",
     "output_type": "stream",
     "text": [
      "s2_5_5_diene_0_6\n",
      "1 * Cs u0 {2,S} {3,S} {6,S}\n",
      "2   Cd u0 {1,S} {5,S} {8,D}\n",
      "3   Cs u0 {1,S} {4,S}\n",
      "4   Cd u0 {3,S} {5,D}\n",
      "5   Cd u0 {2,S} {4,D}\n",
      "6   Cs u0 {1,S} {7,S}\n",
      "7   Cs u0 {6,S} {8,S}\n",
      "8   Cd u0 {2,D} {7,S}\n",
      "\n",
      "**********************\n"
     ]
    },
    {
     "data": {
      "image/png": "[encoded data removed]",
      "text/plain": [
       "Species(index=86, label=\"s2_5_5_diene_1_5\", molecule=[Molecule(SMILES=\"C1=CC2CC=CC2C1\")], molecularWeight=(106.165,'amu'), energyTransferModel=SingleExponentialDown(alpha0=(3.5886,'kJ/mol'), T0=(300,'K'), n=0.85))"
      ]
     },
     "metadata": {},
     "output_type": "display_data"
    },
    {
     "name": "stdout",
     "output_type": "stream",
     "text": [
      "s2_5_5_diene_1_5\n",
      "1 * Cd u0 {5,S} {7,D}\n",
      "2   Cs u0 {3,S} {7,S}\n",
      "3   Cs u0 {2,S} {5,S} {6,S}\n",
      "4   Cd u0 {6,D} {8,S}\n",
      "5   Cs u0 {1,S} {3,S} {8,S}\n",
      "6   Cd u0 {3,S} {4,D}\n",
      "7   Cd u0 {1,D} {2,S}\n",
      "8   Cs u0 {4,S} {5,S}\n",
      "\n",
      "**********************\n"
     ]
    },
    {
     "data": {
      "image/png": "[encoded data removed]",
      "text/plain": [
       "Species(index=87, label=\"s2_5_5_diene_1_6\", molecule=[Molecule(SMILES=\"C1=CC2C=CCC2C1\")], molecularWeight=(106.165,'amu'), energyTransferModel=SingleExponentialDown(alpha0=(3.5886,'kJ/mol'), T0=(300,'K'), n=0.85))"
      ]
     },
     "metadata": {},
     "output_type": "display_data"
    },
    {
     "name": "stdout",
     "output_type": "stream",
     "text": [
      "s2_5_5_diene_1_6\n",
      "1 * Cd u0 {2,D} {5,S}\n",
      "2   Cd u0 {1,D} {8,S}\n",
      "3   Cs u0 {4,S} {7,S}\n",
      "4   Cs u0 {3,S} {5,S} {8,S}\n",
      "5   Cs u0 {1,S} {4,S} {6,S}\n",
      "6   Cd u0 {5,S} {7,D}\n",
      "7   Cd u0 {3,S} {6,D}\n",
      "8   Cs u0 {2,S} {4,S}\n",
      "\n",
      "**********************\n"
     ]
    },
    {
     "data": {
      "image/png": "[encoded data removed]",
      "text/plain": [
       "Species(index=88, label=\"s2_5_6_ane\", molecule=[Molecule(SMILES=\"C1CCC2CCCC2C1\")], molecularWeight=(124.223,'amu'), energyTransferModel=SingleExponentialDown(alpha0=(3.5886,'kJ/mol'), T0=(300,'K'), n=0.85))"
      ]
     },
     "metadata": {},
     "output_type": "display_data"
    },
    {
     "name": "stdout",
     "output_type": "stream",
     "text": [
      "s2_5_6_ane\n",
      "1 * Cs u0 {4,S} {6,S}\n",
      "2   Cs u0 {3,S} {8,S}\n",
      "3   Cs u0 {2,S} {9,S}\n",
      "4   Cs u0 {1,S} {7,S} {8,S}\n",
      "5   Cs u0 {6,S} {8,S}\n",
      "6   Cs u0 {1,S} {5,S}\n",
      "7   Cs u0 {4,S} {9,S}\n",
      "8   Cs u0 {2,S} {4,S} {5,S}\n",
      "9   Cs u0 {3,S} {7,S}\n",
      "\n",
      "**********************\n"
     ]
    },
    {
     "data": {
      "image/png": "[encoded data removed]",
      "text/plain": [
       "Species(index=89, label=\"s2_5_6_ene_0\", molecule=[Molecule(SMILES=\"C1CCCC2CCCC=12\")], molecularWeight=(122.207,'amu'), energyTransferModel=SingleExponentialDown(alpha0=(3.5886,'kJ/mol'), T0=(300,'K'), n=0.85))"
      ]
     },
     "metadata": {},
     "output_type": "display_data"
    },
    {
     "name": "stdout",
     "output_type": "stream",
     "text": [
      "s2_5_6_ene_0\n",
      "1 * Cs u0 {2,S} {4,S}\n",
      "2   Cs u0 {1,S} {9,S}\n",
      "3   Cs u0 {5,S} {8,S}\n",
      "4   Cs u0 {1,S} {6,S} {8,S}\n",
      "5   Cs u0 {3,S} {7,S}\n",
      "6   Cd u0 {4,S} {7,D} {9,S}\n",
      "7   Cd u0 {5,S} {6,D}\n",
      "8   Cs u0 {3,S} {4,S}\n",
      "9   Cs u0 {2,S} {6,S}\n",
      "\n",
      "**********************\n"
     ]
    },
    {
     "data": {
      "image/png": "[encoded data removed]",
      "text/plain": [
       "Species(index=90, label=\"s2_5_6_ene_1\", molecule=[Molecule(SMILES=\"C1=CC2CCCC2CC1\")], molecularWeight=(122.207,'amu'), energyTransferModel=SingleExponentialDown(alpha0=(3.5886,'kJ/mol'), T0=(300,'K'), n=0.85))"
      ]
     },
     "metadata": {},
     "output_type": "display_data"
    },
    {
     "name": "stdout",
     "output_type": "stream",
     "text": [
      "s2_5_6_ene_1\n",
      "1 * Cd u0 {2,S} {5,D}\n",
      "2   Cs u0 {1,S} {6,S} {9,S}\n",
      "3   Cs u0 {4,S} {9,S}\n",
      "4   Cs u0 {3,S} {6,S}\n",
      "5   Cd u0 {1,D} {8,S}\n",
      "6   Cs u0 {2,S} {4,S} {7,S}\n",
      "7   Cs u0 {6,S} {8,S}\n",
      "8   Cs u0 {5,S} {7,S}\n",
      "9   Cs u0 {2,S} {3,S}\n",
      "\n",
      "**********************\n"
     ]
    },
    {
     "data": {
      "image/png": "[encoded data removed]",
      "text/plain": [
       "Species(index=91, label=\"s2_5_6_ene_m\", molecule=[Molecule(SMILES=\"C1CCC2CCCC=2C1\")], molecularWeight=(122.207,'amu'), energyTransferModel=SingleExponentialDown(alpha0=(3.5886,'kJ/mol'), T0=(300,'K'), n=0.85))"
      ]
     },
     "metadata": {},
     "output_type": "display_data"
    },
    {
     "name": "stdout",
     "output_type": "stream",
     "text": [
      "s2_5_6_ene_m\n",
      "1 * Cs u0 {4,S} {5,S}\n",
      "2   Cs u0 {4,S} {7,S}\n",
      "3   Cs u0 {5,S} {8,S}\n",
      "4   Cd u0 {1,S} {2,S} {9,D}\n",
      "5   Cs u0 {1,S} {3,S}\n",
      "6   Cs u0 {7,S} {9,S}\n",
      "7   Cs u0 {2,S} {6,S}\n",
      "8   Cs u0 {3,S} {9,S}\n",
      "9   Cd u0 {4,D} {6,S} {8,S}\n",
      "\n",
      "**********************\n"
     ]
    },
    {
     "data": {
      "image/png": "[encoded data removed]",
      "text/plain": [
       "Species(index=92, label=\"s2_5_6_ene_2\", molecule=[Molecule(SMILES=\"C1=CCC2CCCC2C1\")], molecularWeight=(122.207,'amu'), energyTransferModel=SingleExponentialDown(alpha0=(3.5886,'kJ/mol'), T0=(300,'K'), n=0.85))"
      ]
     },
     "metadata": {},
     "output_type": "display_data"
    },
    {
     "name": "stdout",
     "output_type": "stream",
     "text": [
      "s2_5_6_ene_2\n",
      "1 * Cs u0 {3,S} {6,S}\n",
      "2   Cs u0 {5,S} {8,S}\n",
      "3   Cs u0 {1,S} {5,S} {7,S}\n",
      "4   Cs u0 {5,S} {9,S}\n",
      "5   Cs u0 {2,S} {3,S} {4,S}\n",
      "6   Cd u0 {1,S} {9,D}\n",
      "7   Cs u0 {3,S} {8,S}\n",
      "8   Cs u0 {2,S} {7,S}\n",
      "9   Cd u0 {4,S} {6,D}\n",
      "\n",
      "**********************\n"
     ]
    },
    {
     "data": {
      "image/png": "[encoded data removed]",
      "text/plain": [
       "Species(index=93, label=\"s2_5_6_ene_5\", molecule=[Molecule(SMILES=\"C1CCC2CCCCC=12\")], molecularWeight=(122.207,'amu'), energyTransferModel=SingleExponentialDown(alpha0=(3.5886,'kJ/mol'), T0=(300,'K'), n=0.85))"
      ]
     },
     "metadata": {},
     "output_type": "display_data"
    },
    {
     "name": "stdout",
     "output_type": "stream",
     "text": [
      "s2_5_6_ene_5\n",
      "1 * Cs u0 {6,S} {8,S}\n",
      "2   Cs u0 {3,S} {7,S}\n",
      "3   Cs u0 {2,S} {4,S}\n",
      "4   Cs u0 {3,S} {9,S}\n",
      "5   Cs u0 {6,S} {7,S} {9,S}\n",
      "6   Cs u0 {1,S} {5,S}\n",
      "7   Cd u0 {2,S} {5,S} {8,D}\n",
      "8   Cd u0 {1,S} {7,D}\n",
      "9   Cs u0 {4,S} {5,S}\n",
      "\n",
      "**********************\n"
     ]
    },
    {
     "data": {
      "image/png": "[encoded data removed]",
      "text/plain": [
       "Species(index=94, label=\"s2_5_6_ene_6\", molecule=[Molecule(SMILES=\"C1=CC2CCCCC2C1\")], molecularWeight=(122.207,'amu'), energyTransferModel=SingleExponentialDown(alpha0=(3.5886,'kJ/mol'), T0=(300,'K'), n=0.85))"
      ]
     },
     "metadata": {},
     "output_type": "display_data"
    },
    {
     "name": "stdout",
     "output_type": "stream",
     "text": [
      "s2_5_6_ene_6\n",
      "1 * Cd u0 {3,S} {8,D}\n",
      "2   Cs u0 {5,S} {6,S}\n",
      "3   Cs u0 {1,S} {4,S} {9,S}\n",
      "4   Cs u0 {3,S} {5,S}\n",
      "5   Cs u0 {2,S} {4,S}\n",
      "6   Cs u0 {2,S} {9,S}\n",
      "7   Cs u0 {8,S} {9,S}\n",
      "8   Cd u0 {1,D} {7,S}\n",
      "9   Cs u0 {3,S} {6,S} {7,S}\n",
      "\n",
      "**********************\n"
     ]
    },
    {
     "data": {
      "image/png": "[encoded data removed]",
      "text/plain": [
       "Species(index=95, label=\"s2_5_6_diene_m_1\", molecule=[Molecule(SMILES=\"C1=CC2CCCC=2CC1\")], molecularWeight=(120.192,'amu'), energyTransferModel=SingleExponentialDown(alpha0=(3.5886,'kJ/mol'), T0=(300,'K'), n=0.85))"
      ]
     },
     "metadata": {},
     "output_type": "display_data"
    },
    {
     "name": "stdout",
     "output_type": "stream",
     "text": [
      "s2_5_6_diene_m_1\n",
      "1 * Cs u0 {2,S} {8,S}\n",
      "2   Cs u0 {1,S} {9,S}\n",
      "3   Cs u0 {4,S} {7,S}\n",
      "4   Cs u0 {3,S} {5,S}\n",
      "5   Cd u0 {4,S} {8,D} {9,S}\n",
      "6   Cd u0 {7,D} {8,S}\n",
      "7   Cd u0 {3,S} {6,D}\n",
      "8   Cd u0 {1,S} {5,D} {6,S}\n",
      "9   Cs u0 {2,S} {5,S}\n",
      "\n",
      "**********************\n"
     ]
    },
    {
     "data": {
      "image/png": "[encoded data removed]",
      "text/plain": [
       "Species(index=96, label=\"s2_5_6_diene_m_2\", molecule=[Molecule(SMILES=\"C1=CCC2CCCC=2C1\")], molecularWeight=(120.192,'amu'), energyTransferModel=SingleExponentialDown(alpha0=(3.5886,'kJ/mol'), T0=(300,'K'), n=0.85))"
      ]
     },
     "metadata": {},
     "output_type": "display_data"
    },
    {
     "name": "stdout",
     "output_type": "stream",
     "text": [
      "s2_5_6_diene_m_2\n",
      "1 * Cs u0 {5,S} {7,S}\n",
      "2   Cd u0 {3,S} {6,D}\n",
      "3   Cs u0 {2,S} {4,S}\n",
      "4   Cd u0 {3,S} {5,D} {8,S}\n",
      "5   Cd u0 {1,S} {4,D} {9,S}\n",
      "6   Cd u0 {2,D} {9,S}\n",
      "7   Cs u0 {1,S} {8,S}\n",
      "8   Cs u0 {4,S} {7,S}\n",
      "9   Cs u0 {5,S} {6,S}\n",
      "\n",
      "**********************\n"
     ]
    },
    {
     "data": {
      "image/png": "[encoded data removed]",
      "text/plain": [
       "Species(index=97, label=\"s2_5_6_diene_m_7\", molecule=[Molecule(SMILES=\"C1=CC2CCCCC=2C1\")], molecularWeight=(120.192,'amu'), energyTransferModel=SingleExponentialDown(alpha0=(3.5886,'kJ/mol'), T0=(300,'K'), n=0.85))"
      ]
     },
     "metadata": {},
     "output_type": "display_data"
    },
    {
     "name": "stdout",
     "output_type": "stream",
     "text": [
      "s2_5_6_diene_m_7\n",
      "1 * Cs u0 {4,S} {7,S}\n",
      "2   Cd u0 {5,D} {6,S} {7,S}\n",
      "3   Cd u0 {6,S} {9,D}\n",
      "4   Cs u0 {1,S} {8,S}\n",
      "5   Cd u0 {2,D} {8,S} {9,S}\n",
      "6   Cs u0 {2,S} {3,S}\n",
      "7   Cs u0 {1,S} {2,S}\n",
      "8   Cs u0 {4,S} {5,S}\n",
      "9   Cd u0 {3,D} {5,S}\n",
      "\n",
      "**********************\n"
     ]
    },
    {
     "data": {
      "image/png": "[encoded data removed]",
      "text/plain": [
       "Species(index=98, label=\"s2_5_6_diene_0_2\", molecule=[Molecule(SMILES=\"C1=CCC2CCCC2=C1\")], molecularWeight=(120.192,'amu'), energyTransferModel=SingleExponentialDown(alpha0=(3.5886,'kJ/mol'), T0=(300,'K'), n=0.85))"
      ]
     },
     "metadata": {},
     "output_type": "display_data"
    },
    {
     "name": "stdout",
     "output_type": "stream",
     "text": [
      "s2_5_6_diene_0_2\n",
      "1 * Cd u0 {6,S} {7,D} {9,S}\n",
      "2   Cs u0 {4,S} {9,S}\n",
      "3   Cd u0 {5,S} {8,D}\n",
      "4   Cs u0 {2,S} {6,S}\n",
      "5   Cs u0 {3,S} {6,S}\n",
      "6   Cs u0 {1,S} {4,S} {5,S}\n",
      "7   Cd u0 {1,D} {8,S}\n",
      "8   Cd u0 {3,D} {7,S}\n",
      "9   Cs u0 {1,S} {2,S}\n",
      "\n",
      "**********************\n"
     ]
    },
    {
     "data": {
      "image/png": "[encoded data removed]",
      "text/plain": [
       "Species(index=99, label=\"s2_5_6_diene_0_3\", molecule=[Molecule(SMILES=\"C1=CC2CCCC2=CC1\")], molecularWeight=(120.192,'amu'), energyTransferModel=SingleExponentialDown(alpha0=(3.5886,'kJ/mol'), T0=(300,'K'), n=0.85))"
      ]
     },
     "metadata": {},
     "output_type": "display_data"
    },
    {
     "name": "stdout",
     "output_type": "stream",
     "text": [
      "s2_5_6_diene_0_3\n",
      "1 * Cs u0 {2,S} {4,S}\n",
      "2   Cs u0 {1,S} {7,S}\n",
      "3   Cs u0 {8,S} {9,S}\n",
      "4   Cs u0 {1,S} {5,S} {6,S}\n",
      "5   Cd u0 {4,S} {7,S} {9,D}\n",
      "6   Cd u0 {4,S} {8,D}\n",
      "7   Cs u0 {2,S} {5,S}\n",
      "8   Cd u0 {3,S} {6,D}\n",
      "9   Cd u0 {3,S} {5,D}\n",
      "\n",
      "**********************\n"
     ]
    },
    {
     "data": {
      "image/png": "[encoded data removed]",
      "text/plain": [
       "Species(index=100, label=\"s2_5_6_diene_0_4\", molecule=[Molecule(SMILES=\"C1CCC=C2CCCC=12\")], molecularWeight=(120.192,'amu'), energyTransferModel=SingleExponentialDown(alpha0=(3.5886,'kJ/mol'), T0=(300,'K'), n=0.85))"
      ]
     },
     "metadata": {},
     "output_type": "display_data"
    },
    {
     "name": "stdout",
     "output_type": "stream",
     "text": [
      "s2_5_6_diene_0_4\n",
      "1 * Cd u0 {5,D} {6,S} {7,S}\n",
      "2   Cs u0 {5,S} {9,S}\n",
      "3   Cd u0 {7,D} {9,S}\n",
      "4   Cs u0 {6,S} {8,S}\n",
      "5   Cd u0 {1,D} {2,S}\n",
      "6   Cs u0 {1,S} {4,S}\n",
      "7   Cd u0 {1,S} {3,D} {8,S}\n",
      "8   Cs u0 {4,S} {7,S}\n",
      "9   Cs u0 {2,S} {3,S}\n",
      "\n",
      "**********************\n"
     ]
    },
    {
     "data": {
      "image/png": "[encoded data removed]",
      "text/plain": [
       "Species(index=101, label=\"s2_5_6_diene_0_5\", molecule=[Molecule(SMILES=\"C1CCCC2=CCCC=12\")], molecularWeight=(120.192,'amu'), energyTransferModel=SingleExponentialDown(alpha0=(3.5886,'kJ/mol'), T0=(300,'K'), n=0.85))"
      ]
     },
     "metadata": {},
     "output_type": "display_data"
    },
    {
     "name": "stdout",
     "output_type": "stream",
     "text": [
      "s2_5_6_diene_0_5\n",
      "1 * Cs u0 {6,S} {8,S}\n",
      "2   Cs u0 {3,S} {5,S}\n",
      "3   Cs u0 {2,S} {7,S}\n",
      "4   Cd u0 {7,S} {8,D} {9,S}\n",
      "5   Cd u0 {2,S} {9,D}\n",
      "6   Cs u0 {1,S} {9,S}\n",
      "7   Cs u0 {3,S} {4,S}\n",
      "8   Cd u0 {1,S} {4,D}\n",
      "9   Cd u0 {4,S} {5,D} {6,S}\n",
      "\n",
      "**********************\n"
     ]
    },
    {
     "data": {
      "image/png": "[encoded data removed]",
      "text/plain": [
       "Species(index=102, label=\"s2_5_6_diene_0_6\", molecule=[Molecule(SMILES=\"C1=CC2CCCC=C2C1\")], molecularWeight=(120.192,'amu'), energyTransferModel=SingleExponentialDown(alpha0=(3.5886,'kJ/mol'), T0=(300,'K'), n=0.85))"
      ]
     },
     "metadata": {},
     "output_type": "display_data"
    },
    {
     "name": "stdout",
     "output_type": "stream",
     "text": [
      "s2_5_6_diene_0_6\n",
      "1 * Cs u0 {3,S} {7,S}\n",
      "2   Cs u0 {3,S} {9,S}\n",
      "3   Cs u0 {1,S} {2,S}\n",
      "4   Cs u0 {5,S} {6,S}\n",
      "5   Cd u0 {4,S} {7,D} {9,S}\n",
      "6   Cd u0 {4,S} {8,D}\n",
      "7   Cd u0 {1,S} {5,D}\n",
      "8   Cd u0 {6,D} {9,S}\n",
      "9   Cs u0 {2,S} {5,S} {8,S}\n",
      "\n",
      "**********************\n"
     ]
    },
    {
     "data": {
      "image/png": "[encoded data removed]",
      "text/plain": [
       "Species(index=103, label=\"s2_5_6_diene_0_7\", molecule=[Molecule(SMILES=\"C1=CC2=CCCCC2C1\")], molecularWeight=(120.192,'amu'), energyTransferModel=SingleExponentialDown(alpha0=(3.5886,'kJ/mol'), T0=(300,'K'), n=0.85))"
      ]
     },
     "metadata": {},
     "output_type": "display_data"
    },
    {
     "name": "stdout",
     "output_type": "stream",
     "text": [
      "s2_5_6_diene_0_7\n",
      "1 * Cd u0 {2,S} {3,D} {4,S}\n",
      "2   Cs u0 {1,S} {5,S} {6,S}\n",
      "3   Cd u0 {1,D} {8,S}\n",
      "4   Cd u0 {1,S} {7,D}\n",
      "5   Cs u0 {2,S} {9,S}\n",
      "6   Cs u0 {2,S} {7,S}\n",
      "7   Cd u0 {4,D} {6,S}\n",
      "8   Cs u0 {3,S} {9,S}\n",
      "9   Cs u0 {5,S} {8,S}\n",
      "\n",
      "**********************\n"
     ]
    },
    {
     "data": {
      "image/png": "[encoded data removed]",
      "text/plain": [
       "Species(index=104, label=\"s2_5_6_diene_1_3\", molecule=[Molecule(SMILES=\"C1C=CC2CCCC2C=1\")], molecularWeight=(120.192,'amu'), energyTransferModel=SingleExponentialDown(alpha0=(3.5886,'kJ/mol'), T0=(300,'K'), n=0.85))"
      ]
     },
     "metadata": {},
     "output_type": "display_data"
    },
    {
     "name": "stdout",
     "output_type": "stream",
     "text": [
      "s2_5_6_diene_1_3\n",
      "1 * Cs u0 {5,S} {6,S} {7,S}\n",
      "2   Cd u0 {4,D} {7,S}\n",
      "3   Cs u0 {7,S} {9,S}\n",
      "4   Cd u0 {2,D} {8,S}\n",
      "5   Cs u0 {1,S} {9,S}\n",
      "6   Cd u0 {1,S} {8,D}\n",
      "7   Cs u0 {1,S} {2,S} {3,S}\n",
      "8   Cd u0 {4,S} {6,D}\n",
      "9   Cs u0 {3,S} {5,S}\n",
      "\n",
      "**********************\n"
     ]
    },
    {
     "data": {
      "image/png": "[encoded data removed]",
      "text/plain": [
       "Species(index=105, label=\"s2_5_6_diene_1_5\", molecule=[Molecule(SMILES=\"C1=CC2CCC=C2CC1\")], molecularWeight=(120.192,'amu'), energyTransferModel=SingleExponentialDown(alpha0=(3.5886,'kJ/mol'), T0=(300,'K'), n=0.85))"
      ]
     },
     "metadata": {},
     "output_type": "display_data"
    },
    {
     "name": "stdout",
     "output_type": "stream",
     "text": [
      "s2_5_6_diene_1_5\n",
      "1 * Cs u0 {4,S} {6,S}\n",
      "2   Cd u0 {5,D} {6,S} {9,S}\n",
      "3   Cs u0 {8,S} {9,S}\n",
      "4   Cs u0 {1,S} {5,S}\n",
      "5   Cd u0 {2,D} {4,S}\n",
      "6   Cs u0 {1,S} {2,S} {7,S}\n",
      "7   Cd u0 {6,S} {8,D}\n",
      "8   Cd u0 {3,S} {7,D}\n",
      "9   Cs u0 {2,S} {3,S}\n",
      "\n",
      "**********************\n"
     ]
    },
    {
     "data": {
      "image/png": "[encoded data removed]",
      "text/plain": [
       "Species(index=106, label=\"s2_5_6_diene_1_6\", molecule=[Molecule(SMILES=\"C1=CC2CC=CC2CC1\")], molecularWeight=(120.192,'amu'), energyTransferModel=SingleExponentialDown(alpha0=(3.5886,'kJ/mol'), T0=(300,'K'), n=0.85))"
      ]
     },
     "metadata": {},
     "output_type": "display_data"
    },
    {
     "name": "stdout",
     "output_type": "stream",
     "text": [
      "s2_5_6_diene_1_6\n",
      "1 * Cs u0 {2,S} {5,S}\n",
      "2   Cs u0 {1,S} {7,S} {9,S}\n",
      "3   Cd u0 {7,D} {8,S}\n",
      "4   Cd u0 {6,D} {9,S}\n",
      "5   Cs u0 {1,S} {6,S}\n",
      "6   Cd u0 {4,D} {5,S}\n",
      "7   Cd u0 {2,S} {3,D}\n",
      "8   Cs u0 {3,S} {9,S}\n",
      "9   Cs u0 {2,S} {4,S} {8,S}\n",
      "\n",
      "**********************\n"
     ]
    },
    {
     "data": {
      "image/png": "[encoded data removed]",
      "text/plain": [
       "Species(index=107, label=\"s2_5_6_diene_1_7\", molecule=[Molecule(SMILES=\"C1=CC2C=CCC2CC1\")], molecularWeight=(120.192,'amu'), energyTransferModel=SingleExponentialDown(alpha0=(3.5886,'kJ/mol'), T0=(300,'K'), n=0.85))"
      ]
     },
     "metadata": {},
     "output_type": "display_data"
    },
    {
     "name": "stdout",
     "output_type": "stream",
     "text": [
      "s2_5_6_diene_1_7\n",
      "1 * Cd u0 {2,S} {7,D}\n",
      "2   Cs u0 {1,S} {4,S}\n",
      "3   Cs u0 {5,S} {9,S}\n",
      "4   Cs u0 {2,S} {5,S}\n",
      "5   Cs u0 {3,S} {4,S} {6,S}\n",
      "6   Cs u0 {5,S} {7,S} {8,S}\n",
      "7   Cd u0 {1,D} {6,S}\n",
      "8   Cd u0 {6,S} {9,D}\n",
      "9   Cd u0 {3,S} {8,D}\n",
      "\n",
      "**********************\n"
     ]
    },
    {
     "data": {
      "image/png": "[encoded data removed]",
      "text/plain": [
       "Species(index=108, label=\"s2_5_6_diene_2_5\", molecule=[Molecule(SMILES=\"C1=CCC2CCC=C2C1\")], molecularWeight=(120.192,'amu'), energyTransferModel=SingleExponentialDown(alpha0=(3.5886,'kJ/mol'), T0=(300,'K'), n=0.85))"
      ]
     },
     "metadata": {},
     "output_type": "display_data"
    },
    {
     "name": "stdout",
     "output_type": "stream",
     "text": [
      "s2_5_6_diene_2_5\n",
      "1 * Cs u0 {3,S} {5,S}\n",
      "2   Cs u0 {3,S} {6,S} {7,S}\n",
      "3   Cd u0 {1,S} {2,S} {8,D}\n",
      "4   Cs u0 {7,S} {8,S}\n",
      "5   Cd u0 {1,S} {9,D}\n",
      "6   Cs u0 {2,S} {9,S}\n",
      "7   Cs u0 {2,S} {4,S}\n",
      "8   Cd u0 {3,D} {4,S}\n",
      "9   Cd u0 {5,D} {6,S}\n",
      "\n",
      "**********************\n"
     ]
    },
    {
     "data": {
      "image/png": "[encoded data removed]",
      "text/plain": [
       "Species(index=109, label=\"s2_5_6_diene_2_6\", molecule=[Molecule(SMILES=\"C1=CCC2CC=CC2C1\")], molecularWeight=(120.192,'amu'), energyTransferModel=SingleExponentialDown(alpha0=(3.5886,'kJ/mol'), T0=(300,'K'), n=0.85))"
      ]
     },
     "metadata": {},
     "output_type": "display_data"
    },
    {
     "name": "stdout",
     "output_type": "stream",
     "text": [
      "s2_5_6_diene_2_6\n",
      "1 * Cd u0 {2,D} {3,S}\n",
      "2   Cd u0 {1,D} {4,S}\n",
      "3   Cs u0 {1,S} {5,S}\n",
      "4   Cs u0 {2,S} {5,S} {7,S}\n",
      "5   Cs u0 {3,S} {4,S} {8,S}\n",
      "6   Cd u0 {8,S} {9,D}\n",
      "7   Cs u0 {4,S} {9,S}\n",
      "8   Cs u0 {5,S} {6,S}\n",
      "9   Cd u0 {6,D} {7,S}\n",
      "\n",
      "**********************\n"
     ]
    },
    {
     "data": {
      "image/png": "[encoded data removed]",
      "text/plain": [
       "Species(index=110, label=\"s2_5_6_diene_5_7\", molecule=[Molecule(SMILES=\"C1=CC2CCCCC2=C1\")], molecularWeight=(120.192,'amu'), energyTransferModel=SingleExponentialDown(alpha0=(3.5886,'kJ/mol'), T0=(300,'K'), n=0.85))"
      ]
     },
     "metadata": {},
     "output_type": "display_data"
    },
    {
     "name": "stdout",
     "output_type": "stream",
     "text": [
      "s2_5_6_diene_5_7\n",
      "1 * Cs u0 {5,S} {6,S}\n",
      "2   Cd u0 {3,D} {9,S}\n",
      "3   Cd u0 {2,D} {6,S} {8,S}\n",
      "4   Cs u0 {5,S} {8,S}\n",
      "5   Cs u0 {1,S} {4,S}\n",
      "6   Cs u0 {1,S} {3,S}\n",
      "7   Cd u0 {8,S} {9,D}\n",
      "8   Cs u0 {3,S} {4,S} {7,S}\n",
      "9   Cd u0 {2,S} {7,D}\n",
      "\n",
      "**********************\n"
     ]
    },
    {
     "data": {
      "image/png": "[encoded data removed]",
      "text/plain": [
       "Species(index=111, label=\"s2_5_6_diene_5_8\", molecule=[Molecule(SMILES=\"C1CC=C2CCCCC=12\")], molecularWeight=(120.192,'amu'), energyTransferModel=SingleExponentialDown(alpha0=(3.5886,'kJ/mol'), T0=(300,'K'), n=0.85))"
      ]
     },
     "metadata": {},
     "output_type": "display_data"
    },
    {
     "name": "stdout",
     "output_type": "stream",
     "text": [
      "s2_5_6_diene_5_8\n",
      "1 * Cs u0 {3,S} {8,S}\n",
      "2   Cd u0 {5,S} {8,D}\n",
      "3   Cs u0 {1,S} {4,S}\n",
      "4   Cs u0 {3,S} {6,S}\n",
      "5   Cs u0 {2,S} {7,S}\n",
      "6   Cs u0 {4,S} {9,S}\n",
      "7   Cd u0 {5,S} {9,D}\n",
      "8   Cd u0 {1,S} {2,D} {9,S}\n",
      "9   Cd u0 {6,S} {7,D} {8,S}\n",
      "\n",
      "**********************\n"
     ]
    },
    {
     "data": {
      "image/png": "[encoded data removed]",
      "text/plain": [
       "Species(index=112, label=\"s2_6_6_ane\", molecule=[Molecule(SMILES=\"C1CCC2CCCCC2C1\")], molecularWeight=(138.25,'amu'), energyTransferModel=SingleExponentialDown(alpha0=(3.5886,'kJ/mol'), T0=(300,'K'), n=0.85))"
      ]
     },
     "metadata": {},
     "output_type": "display_data"
    },
    {
     "name": "stdout",
     "output_type": "stream",
     "text": [
      "s2_6_6_ane\n",
      "1  * Cs u0 {2,S} {4,S}\n",
      "2    Cs u0 {1,S} {5,S} {10,S}\n",
      "3    Cs u0 {5,S} {8,S}\n",
      "4    Cs u0 {1,S} {8,S}\n",
      "5    Cs u0 {2,S} {3,S} {6,S}\n",
      "6    Cs u0 {5,S} {7,S}\n",
      "7    Cs u0 {6,S} {9,S}\n",
      "8    Cs u0 {3,S} {4,S}\n",
      "9    Cs u0 {7,S} {10,S}\n",
      "10   Cs u0 {2,S} {9,S}\n",
      "\n",
      "**********************\n"
     ]
    },
    {
     "data": {
      "image/png": "[encoded data removed]",
      "text/plain": [
       "Species(index=113, label=\"s2_6_6_ene_0\", molecule=[Molecule(SMILES=\"C1CCCC2CCCCC=12\")], molecularWeight=(136.234,'amu'), energyTransferModel=SingleExponentialDown(alpha0=(3.5886,'kJ/mol'), T0=(300,'K'), n=0.85))"
      ]
     },
     "metadata": {},
     "output_type": "display_data"
    },
    {
     "name": "stdout",
     "output_type": "stream",
     "text": [
      "s2_6_6_ene_0\n",
      "1    Cs u0 {6,S} {9,S} {10,S}\n",
      "2    Cs u0 {4,S} {8,S}\n",
      "3    Cs u0 {5,S} {10,S}\n",
      "4    Cs u0 {2,S} {6,S}\n",
      "5    Cs u0 {3,S} {7,S}\n",
      "6    Cs u0 {1,S} {4,S}\n",
      "7    Cs u0 {5,S} {9,S}\n",
      "8  * Cd u0 {2,S} {10,D}\n",
      "9    Cs u0 {1,S} {7,S}\n",
      "10   Cd u0 {1,S} {3,S} {8,D}\n",
      "\n",
      "**********************\n"
     ]
    },
    {
     "data": {
      "image/png": "[encoded data removed]",
      "text/plain": [
       "Species(index=114, label=\"s2_6_6_ene_1\", molecule=[Molecule(SMILES=\"C1=CC2CCCCC2CC1\")], molecularWeight=(136.234,'amu'), energyTransferModel=SingleExponentialDown(alpha0=(3.5886,'kJ/mol'), T0=(300,'K'), n=0.85))"
      ]
     },
     "metadata": {},
     "output_type": "display_data"
    },
    {
     "name": "stdout",
     "output_type": "stream",
     "text": [
      "s2_6_6_ene_1\n",
      "1  * Cs u0 {9,S} {10,S}\n",
      "2    Cd u0 {4,S} {9,D}\n",
      "3    Cs u0 {4,S} {5,S}\n",
      "4    Cs u0 {2,S} {3,S} {6,S}\n",
      "5    Cs u0 {3,S} {8,S}\n",
      "6    Cs u0 {4,S} {7,S} {10,S}\n",
      "7    Cs u0 {6,S} {8,S}\n",
      "8    Cs u0 {5,S} {7,S}\n",
      "9    Cd u0 {1,S} {2,D}\n",
      "10   Cs u0 {1,S} {6,S}\n",
      "\n",
      "**********************\n"
     ]
    },
    {
     "data": {
      "image/png": "[encoded data removed]",
      "text/plain": [
       "Species(index=115, label=\"s2_6_6_ene_2\", molecule=[Molecule(SMILES=\"C1=CCC2CCCCC2C1\")], molecularWeight=(136.234,'amu'), energyTransferModel=SingleExponentialDown(alpha0=(3.5886,'kJ/mol'), T0=(300,'K'), n=0.85))"
      ]
     },
     "metadata": {},
     "output_type": "display_data"
    },
    {
     "name": "stdout",
     "output_type": "stream",
     "text": [
      "s2_6_6_ene_2\n",
      "1    Cs u0 {6,S} {10,S}\n",
      "2    Cs u0 {3,S} {10,S}\n",
      "3    Cs u0 {2,S} {8,S}\n",
      "4  * Cd u0 {5,D} {7,S}\n",
      "5    Cd u0 {4,D} {9,S}\n",
      "6    Cs u0 {1,S} {7,S} {8,S}\n",
      "7    Cs u0 {4,S} {6,S}\n",
      "8    Cs u0 {3,S} {6,S} {9,S}\n",
      "9    Cs u0 {5,S} {8,S}\n",
      "10   Cs u0 {1,S} {2,S}\n",
      "\n",
      "**********************\n"
     ]
    },
    {
     "data": {
      "image/png": "[encoded data removed]",
      "text/plain": [
       "Species(index=116, label=\"s2_6_6_ene_m\", molecule=[Molecule(SMILES=\"C1CCC2CCCCC=2C1\")], molecularWeight=(136.234,'amu'), energyTransferModel=SingleExponentialDown(alpha0=(3.5886,'kJ/mol'), T0=(300,'K'), n=0.85))"
      ]
     },
     "metadata": {},
     "output_type": "display_data"
    },
    {
     "name": "stdout",
     "output_type": "stream",
     "text": [
      "s2_6_6_ene_m\n",
      "1  * Cs u0 {3,S} {10,S}\n",
      "2    Cs u0 {5,S} {8,S}\n",
      "3    Cd u0 {1,S} {4,S} {8,D}\n",
      "4    Cs u0 {3,S} {7,S}\n",
      "5    Cs u0 {2,S} {7,S}\n",
      "6    Cs u0 {9,S} {10,S}\n",
      "7    Cs u0 {4,S} {5,S}\n",
      "8    Cd u0 {2,S} {3,D} {9,S}\n",
      "9    Cs u0 {6,S} {8,S}\n",
      "10   Cs u0 {1,S} {6,S}\n",
      "\n",
      "**********************\n"
     ]
    },
    {
     "data": {
      "image/png": "[encoded data removed]",
      "text/plain": [
       "Species(index=117, label=\"s2_6_6_diene_m_1\", molecule=[Molecule(SMILES=\"C1=CC2CCCCC=2CC1\")], molecularWeight=(134.218,'amu'), energyTransferModel=SingleExponentialDown(alpha0=(3.5886,'kJ/mol'), T0=(300,'K'), n=0.85))"
      ]
     },
     "metadata": {},
     "output_type": "display_data"
    },
    {
     "name": "stdout",
     "output_type": "stream",
     "text": [
      "s2_6_6_diene_m_1\n",
      "1  * Cs u0 {2,S} {3,S}\n",
      "2    Cs u0 {1,S} {4,S}\n",
      "3    Cs u0 {1,S} {6,S}\n",
      "4    Cd u0 {2,S} {7,S} {10,D}\n",
      "5    Cs u0 {8,S} {9,S}\n",
      "6    Cs u0 {3,S} {10,S}\n",
      "7    Cd u0 {4,S} {9,D}\n",
      "8    Cs u0 {5,S} {10,S}\n",
      "9    Cd u0 {5,S} {7,D}\n",
      "10   Cd u0 {4,D} {6,S} {8,S}\n",
      "\n",
      "**********************\n"
     ]
    },
    {
     "data": {
      "image/png": "[encoded data removed]",
      "text/plain": [
       "Species(index=118, label=\"s2_6_6_diene_m_2\", molecule=[Molecule(SMILES=\"C1=CCC2CCCCC=2C1\")], molecularWeight=(134.218,'amu'), energyTransferModel=SingleExponentialDown(alpha0=(3.5886,'kJ/mol'), T0=(300,'K'), n=0.85))"
      ]
     },
     "metadata": {},
     "output_type": "display_data"
    },
    {
     "name": "stdout",
     "output_type": "stream",
     "text": [
      "s2_6_6_diene_m_2\n",
      "1  * Cd u0 {2,D} {3,S} {9,S}\n",
      "2    Cd u0 {1,D} {8,S} {10,S}\n",
      "3    Cs u0 {1,S} {4,S}\n",
      "4    Cs u0 {3,S} {6,S}\n",
      "5    Cd u0 {7,D} {9,S}\n",
      "6    Cs u0 {4,S} {10,S}\n",
      "7    Cd u0 {5,D} {8,S}\n",
      "8    Cs u0 {2,S} {7,S}\n",
      "9    Cs u0 {1,S} {5,S}\n",
      "10   Cs u0 {2,S} {6,S}\n",
      "\n",
      "**********************\n"
     ]
    },
    {
     "data": {
      "image/png": "[encoded data removed]",
      "text/plain": [
       "Species(index=119, label=\"s2_6_6_diene_0_2\", molecule=[Molecule(SMILES=\"C1=CCC2CCCCC2=C1\")], molecularWeight=(134.218,'amu'), energyTransferModel=SingleExponentialDown(alpha0=(3.5886,'kJ/mol'), T0=(300,'K'), n=0.85))"
      ]
     },
     "metadata": {},
     "output_type": "display_data"
    },
    {
     "name": "stdout",
     "output_type": "stream",
     "text": [
      "s2_6_6_diene_0_2\n",
      "1  * Cd u0 {6,S} {8,D}\n",
      "2    Cd u0 {3,S} {5,S} {6,D}\n",
      "3    Cs u0 {2,S} {7,S} {10,S}\n",
      "4    Cs u0 {7,S} {9,S}\n",
      "5    Cs u0 {2,S} {9,S}\n",
      "6    Cd u0 {1,S} {2,D}\n",
      "7    Cs u0 {3,S} {4,S}\n",
      "8    Cd u0 {1,D} {10,S}\n",
      "9    Cs u0 {4,S} {5,S}\n",
      "10   Cs u0 {3,S} {8,S}\n",
      "\n",
      "**********************\n"
     ]
    },
    {
     "data": {
      "image/png": "[encoded data removed]",
      "text/plain": [
       "Species(index=120, label=\"s2_6_6_diene_0_3\", molecule=[Molecule(SMILES=\"C1=CC2CCCCC2=CC1\")], molecularWeight=(134.218,'amu'), energyTransferModel=SingleExponentialDown(alpha0=(3.5886,'kJ/mol'), T0=(300,'K'), n=0.85))"
      ]
     },
     "metadata": {},
     "output_type": "display_data"
    },
    {
     "name": "stdout",
     "output_type": "stream",
     "text": [
      "s2_6_6_diene_0_3\n",
      "1  * Cs u0 {3,S} {4,S}\n",
      "2    Cs u0 {3,S} {5,S}\n",
      "3    Cs u0 {1,S} {2,S}\n",
      "4    Cs u0 {1,S} {8,S}\n",
      "5    Cd u0 {2,S} {7,D} {8,S}\n",
      "6    Cd u0 {8,S} {9,D}\n",
      "7    Cd u0 {5,D} {10,S}\n",
      "8    Cs u0 {4,S} {5,S} {6,S}\n",
      "9    Cd u0 {6,D} {10,S}\n",
      "10   Cs u0 {7,S} {9,S}\n",
      "\n",
      "**********************\n"
     ]
    },
    {
     "data": {
      "image/png": "[encoded data removed]",
      "text/plain": [
       "Species(index=121, label=\"s2_6_6_diene_0_4\", molecule=[Molecule(SMILES=\"C1CCC=C2CCCCC=12\")], molecularWeight=(134.218,'amu'), energyTransferModel=SingleExponentialDown(alpha0=(3.5886,'kJ/mol'), T0=(300,'K'), n=0.85))"
      ]
     },
     "metadata": {},
     "output_type": "display_data"
    },
    {
     "name": "stdout",
     "output_type": "stream",
     "text": [
      "s2_6_6_diene_0_4\n",
      "1  * Cs u0 {2,S} {8,S}\n",
      "2    Cd u0 {1,S} {7,D}\n",
      "3    Cs u0 {6,S} {10,S}\n",
      "4    Cs u0 {6,S} {7,S}\n",
      "5    Cd u0 {8,S} {9,D}\n",
      "6    Cs u0 {3,S} {4,S}\n",
      "7    Cd u0 {2,D} {4,S} {9,S}\n",
      "8    Cs u0 {1,S} {5,S}\n",
      "9    Cd u0 {5,D} {7,S} {10,S}\n",
      "10   Cs u0 {3,S} {9,S}\n",
      "\n",
      "**********************\n"
     ]
    },
    {
     "data": {
      "image/png": "[encoded data removed]",
      "text/plain": [
       "Species(index=122, label=\"s2_6_6_diene_0_5\", molecule=[Molecule(SMILES=\"C1CCCC2=CCCCC=12\")], molecularWeight=(134.218,'amu'), energyTransferModel=SingleExponentialDown(alpha0=(3.5886,'kJ/mol'), T0=(300,'K'), n=0.85))"
      ]
     },
     "metadata": {},
     "output_type": "display_data"
    },
    {
     "name": "stdout",
     "output_type": "stream",
     "text": [
      "s2_6_6_diene_0_5\n",
      "1  * Cs u0 {3,S} {7,S}\n",
      "2    Cs u0 {5,S} {10,S}\n",
      "3    Cs u0 {1,S} {8,S}\n",
      "4    Cd u0 {5,S} {6,D} {8,S}\n",
      "5    Cs u0 {2,S} {4,S}\n",
      "6    Cd u0 {4,D} {7,S}\n",
      "7    Cs u0 {1,S} {6,S}\n",
      "8    Cd u0 {3,S} {4,S} {9,D}\n",
      "9    Cd u0 {8,D} {10,S}\n",
      "10   Cs u0 {2,S} {9,S}\n",
      "\n",
      "**********************\n"
     ]
    },
    {
     "data": {
      "image/png": "[encoded data removed]",
      "text/plain": [
       "Species(index=123, label=\"s2_6_6_diene_0_6\", molecule=[Molecule(SMILES=\"C1=CC2CCCC=C2CC1\")], molecularWeight=(134.218,'amu'), energyTransferModel=SingleExponentialDown(alpha0=(3.5886,'kJ/mol'), T0=(300,'K'), n=0.85))"
      ]
     },
     "metadata": {},
     "output_type": "display_data"
    },
    {
     "name": "stdout",
     "output_type": "stream",
     "text": [
      "s2_6_6_diene_0_6\n",
      "1  * Cs u0 {4,S} {5,S}\n",
      "2    Cs u0 {6,S} {9,S}\n",
      "3    Cs u0 {5,S} {7,S} {8,S}\n",
      "4    Cs u0 {1,S} {10,S}\n",
      "5    Cd u0 {1,S} {3,S} {6,D}\n",
      "6    Cd u0 {2,S} {5,D}\n",
      "7    Cd u0 {3,S} {10,D}\n",
      "8    Cs u0 {3,S} {9,S}\n",
      "9    Cs u0 {2,S} {8,S}\n",
      "10   Cd u0 {4,S} {7,D}\n",
      "\n",
      "**********************\n"
     ]
    },
    {
     "data": {
      "image/png": "[encoded data removed]",
      "text/plain": [
       "Species(index=124, label=\"s2_6_6_diene_0_7\", molecule=[Molecule(SMILES=\"C1=CCC2CCCC=C2C1\")], molecularWeight=(134.218,'amu'), energyTransferModel=SingleExponentialDown(alpha0=(3.5886,'kJ/mol'), T0=(300,'K'), n=0.85))"
      ]
     },
     "metadata": {},
     "output_type": "display_data"
    },
    {
     "name": "stdout",
     "output_type": "stream",
     "text": [
      "s2_6_6_diene_0_7\n",
      "1  * Cs u0 {5,S} {10,S}\n",
      "2    Cs u0 {3,S} {9,S}\n",
      "3    Cd u0 {2,S} {4,D} {10,S}\n",
      "4    Cd u0 {3,D} {8,S}\n",
      "5    Cd u0 {1,S} {9,D}\n",
      "6    Cs u0 {7,S} {8,S}\n",
      "7    Cs u0 {6,S} {10,S}\n",
      "8    Cs u0 {4,S} {6,S}\n",
      "9    Cd u0 {2,S} {5,D}\n",
      "10   Cs u0 {1,S} {3,S} {7,S}\n",
      "\n",
      "**********************\n"
     ]
    },
    {
     "data": {
      "image/png": "[encoded data removed]",
      "text/plain": [
       "Species(index=125, label=\"s2_6_6_diene_0_8\", molecule=[Molecule(SMILES=\"C1=CC2=CCCCC2CC1\")], molecularWeight=(134.218,'amu'), energyTransferModel=SingleExponentialDown(alpha0=(3.5886,'kJ/mol'), T0=(300,'K'), n=0.85))"
      ]
     },
     "metadata": {},
     "output_type": "display_data"
    },
    {
     "name": "stdout",
     "output_type": "stream",
     "text": [
      "s2_6_6_diene_0_8\n",
      "1  * Cs u0 {4,S} {6,S} {10,S}\n",
      "2    Cs u0 {5,S} {6,S}\n",
      "3    Cd u0 {8,S} {9,D}\n",
      "4    Cd u0 {1,S} {7,D} {9,S}\n",
      "5    Cs u0 {2,S} {7,S}\n",
      "6    Cs u0 {1,S} {2,S}\n",
      "7    Cd u0 {4,D} {5,S}\n",
      "8    Cs u0 {3,S} {10,S}\n",
      "9    Cd u0 {3,D} {4,S}\n",
      "10   Cs u0 {1,S} {8,S}\n",
      "\n",
      "**********************\n"
     ]
    },
    {
     "data": {
      "image/png": "[encoded data removed]",
      "text/plain": [
       "Species(index=126, label=\"s2_6_6_diene_1_3\", molecule=[Molecule(SMILES=\"C1C=CC2CCCCC2C=1\")], molecularWeight=(134.218,'amu'), energyTransferModel=SingleExponentialDown(alpha0=(3.5886,'kJ/mol'), T0=(300,'K'), n=0.85))"
      ]
     },
     "metadata": {},
     "output_type": "display_data"
    },
    {
     "name": "stdout",
     "output_type": "stream",
     "text": [
      "s2_6_6_diene_1_3\n",
      "1  * Cs u0 {3,S} {9,S}\n",
      "2    Cd u0 {5,S} {6,D}\n",
      "3    Cs u0 {1,S} {4,S}\n",
      "4    Cs u0 {3,S} {8,S}\n",
      "5    Cd u0 {2,S} {10,D}\n",
      "6    Cd u0 {2,D} {8,S}\n",
      "7    Cs u0 {8,S} {9,S} {10,S}\n",
      "8    Cs u0 {4,S} {6,S} {7,S}\n",
      "9    Cs u0 {1,S} {7,S}\n",
      "10   Cd u0 {5,D} {7,S}\n",
      "\n",
      "**********************\n"
     ]
    },
    {
     "data": {
      "image/png": "[encoded data removed]",
      "text/plain": [
       "Species(index=127, label=\"s2_6_6_diene_1_6\", molecule=[Molecule(SMILES=\"C1=CC2CCC=CC2CC1\")], molecularWeight=(134.218,'amu'), energyTransferModel=SingleExponentialDown(alpha0=(3.5886,'kJ/mol'), T0=(300,'K'), n=0.85))"
      ]
     },
     "metadata": {},
     "output_type": "display_data"
    },
    {
     "name": "stdout",
     "output_type": "stream",
     "text": [
      "s2_6_6_diene_1_6\n",
      "1  * Cd u0 {5,S} {6,D}\n",
      "2    Cs u0 {3,S} {5,S}\n",
      "3    Cs u0 {2,S} {4,S}\n",
      "4    Cd u0 {3,S} {7,D}\n",
      "5    Cs u0 {1,S} {2,S} {8,S}\n",
      "6    Cd u0 {1,D} {9,S}\n",
      "7    Cd u0 {4,D} {8,S}\n",
      "8    Cs u0 {5,S} {7,S} {10,S}\n",
      "9    Cs u0 {6,S} {10,S}\n",
      "10   Cs u0 {8,S} {9,S}\n",
      "\n",
      "**********************\n"
     ]
    },
    {
     "data": {
      "image/png": "[encoded data removed]",
      "text/plain": [
       "Species(index=128, label=\"s2_6_6_diene_1_7\", molecule=[Molecule(SMILES=\"C1=CC2CC=CCC2CC1\")], molecularWeight=(134.218,'amu'), energyTransferModel=SingleExponentialDown(alpha0=(3.5886,'kJ/mol'), T0=(300,'K'), n=0.85))"
      ]
     },
     "metadata": {},
     "output_type": "display_data"
    },
    {
     "name": "stdout",
     "output_type": "stream",
     "text": [
      "s2_6_6_diene_1_7\n",
      "1  * Cd u0 {4,D} {10,S}\n",
      "2    Cd u0 {7,D} {8,S}\n",
      "3    Cs u0 {5,S} {6,S} {9,S}\n",
      "4    Cd u0 {1,D} {9,S}\n",
      "5    Cs u0 {3,S} {8,S}\n",
      "6    Cs u0 {3,S} {7,S} {10,S}\n",
      "7    Cd u0 {2,D} {6,S}\n",
      "8    Cs u0 {2,S} {5,S}\n",
      "9    Cs u0 {3,S} {4,S}\n",
      "10   Cs u0 {1,S} {6,S}\n",
      "\n",
      "**********************\n"
     ]
    },
    {
     "data": {
      "image/png": "[encoded data removed]",
      "text/plain": [
       "Species(index=129, label=\"s2_6_6_diene_1_8\", molecule=[Molecule(SMILES=\"C1=CC2C=CCCC2CC1\")], molecularWeight=(134.218,'amu'), energyTransferModel=SingleExponentialDown(alpha0=(3.5886,'kJ/mol'), T0=(300,'K'), n=0.85))"
      ]
     },
     "metadata": {},
     "output_type": "display_data"
    },
    {
     "name": "stdout",
     "output_type": "stream",
     "text": [
      "s2_6_6_diene_1_8\n",
      "1  * Cd u0 {2,S} {7,D}\n",
      "2    Cs u0 {1,S} {4,S} {10,S}\n",
      "3    Cs u0 {4,S} {8,S}\n",
      "4    Cs u0 {2,S} {3,S} {6,S}\n",
      "5    Cd u0 {8,S} {10,D}\n",
      "6    Cs u0 {4,S} {9,S}\n",
      "7    Cd u0 {1,D} {9,S}\n",
      "8    Cs u0 {3,S} {5,S}\n",
      "9    Cs u0 {6,S} {7,S}\n",
      "10   Cd u0 {2,S} {5,D}\n",
      "\n",
      "**********************\n"
     ]
    },
    {
     "data": {
      "image/png": "[encoded data removed]",
      "text/plain": [
       "Species(index=130, label=\"s2_6_6_diene_2_7\", molecule=[Molecule(SMILES=\"C1=CCC2CC=CCC2C1\")], molecularWeight=(134.218,'amu'), energyTransferModel=SingleExponentialDown(alpha0=(3.5886,'kJ/mol'), T0=(300,'K'), n=0.85))"
      ]
     },
     "metadata": {},
     "output_type": "display_data"
    },
    {
     "name": "stdout",
     "output_type": "stream",
     "text": [
      "s2_6_6_diene_2_7\n",
      "1  * Cd u0 {4,D} {5,S}\n",
      "2    Cs u0 {3,S} {9,S}\n",
      "3    Cd u0 {2,S} {10,D}\n",
      "4    Cd u0 {1,D} {8,S}\n",
      "5    Cs u0 {1,S} {9,S}\n",
      "6    Cs u0 {7,S} {8,S} {9,S}\n",
      "7    Cs u0 {6,S} {10,S}\n",
      "8    Cs u0 {4,S} {6,S}\n",
      "9    Cs u0 {2,S} {5,S} {6,S}\n",
      "10   Cd u0 {3,D} {7,S}\n",
      "\n",
      "**********************\n"
     ]
    },
    {
     "data": {
      "image/png": "[encoded data removed]",
      "text/plain": [
       "Species(index=131, label=\"s3_4_4_ane\", molecule=[Molecule(SMILES=\"C1C2CC1C2\")], molecularWeight=(68.117,'amu'), energyTransferModel=SingleExponentialDown(alpha0=(3.5886,'kJ/mol'), T0=(300,'K'), n=0.85))"
      ]
     },
     "metadata": {},
     "output_type": "display_data"
    },
    {
     "name": "stdout",
     "output_type": "stream",
     "text": [
      "s3_4_4_ane\n",
      "1 * Cs u0 {2,S} {3,S}\n",
      "2   Cs u0 {1,S} {4,S} {5,S}\n",
      "3   Cs u0 {1,S} {4,S} {5,S}\n",
      "4   Cs u0 {2,S} {3,S}\n",
      "5   Cs u0 {2,S} {3,S}\n",
      "\n",
      "**********************\n"
     ]
    },
    {
     "data": {
      "image/png": "[encoded data removed]",
      "text/plain": [
       "Species(index=132, label=\"s3_4_4_ene_0\", molecule=[Molecule(SMILES=\"C1=C2CC1C2\")], molecularWeight=(66.1011,'amu'), energyTransferModel=SingleExponentialDown(alpha0=(3.5886,'kJ/mol'), T0=(300,'K'), n=0.85))"
      ]
     },
     "metadata": {},
     "output_type": "display_data"
    },
    {
     "name": "stdout",
     "output_type": "stream",
     "text": [
      "s3_4_4_ene_0\n",
      "1 * Cd u0 {2,S} {3,S} {5,D}\n",
      "2   Cs u0 {1,S} {4,S}\n",
      "3   Cs u0 {1,S} {4,S}\n",
      "4   Cs u0 {2,S} {3,S} {5,S}\n",
      "5   Cd u0 {1,D} {4,S}\n",
      "\n",
      "**********************\n"
     ]
    },
    {
     "data": {
      "image/png": "[encoded data removed]",
      "text/plain": [
       "Species(index=133, label=\"s3_4_4_diene_0_2\", molecule=[Molecule(SMILES=\"C1=C2C=C1C2\")], molecularWeight=(64.0853,'amu'), energyTransferModel=SingleExponentialDown(alpha0=(3.5886,'kJ/mol'), T0=(300,'K'), n=0.85))"
      ]
     },
     "metadata": {},
     "output_type": "display_data"
    },
    {
     "name": "stdout",
     "output_type": "stream",
     "text": [
      "s3_4_4_diene_0_2\n",
      "1 * Cd u0 {2,S} {3,S} {5,D}\n",
      "2   Cs u0 {1,S} {4,S}\n",
      "3   Cd u0 {1,S} {4,D}\n",
      "4   Cd u0 {2,S} {3,D} {5,S}\n",
      "5   Cd u0 {1,D} {4,S}\n",
      "\n",
      "**********************\n"
     ]
    },
    {
     "data": {
      "image/png": "[encoded data removed]",
      "text/plain": [
       "Species(index=134, label=\"s3_4_5_ane\", molecule=[Molecule(SMILES=\"C1CC2CC1C2\")], molecularWeight=(82.1436,'amu'), energyTransferModel=SingleExponentialDown(alpha0=(3.5886,'kJ/mol'), T0=(300,'K'), n=0.85))"
      ]
     },
     "metadata": {},
     "output_type": "display_data"
    },
    {
     "name": "stdout",
     "output_type": "stream",
     "text": [
      "s3_4_5_ane\n",
      "1 * Cs u0 {2,S} {3,S}\n",
      "2   Cs u0 {1,S} {6,S}\n",
      "3   Cs u0 {1,S} {4,S} {5,S}\n",
      "4   Cs u0 {3,S} {6,S}\n",
      "5   Cs u0 {3,S} {6,S}\n",
      "6   Cs u0 {2,S} {4,S} {5,S}\n",
      "\n",
      "**********************\n"
     ]
    },
    {
     "data": {
      "image/png": "[encoded data removed]",
      "text/plain": [
       "Species(index=135, label=\"s3_4_5_ene_0\", molecule=[Molecule(SMILES=\"C1CC2CC=1C2\")], molecularWeight=(80.1277,'amu'), energyTransferModel=SingleExponentialDown(alpha0=(3.5886,'kJ/mol'), T0=(300,'K'), n=0.85))"
      ]
     },
     "metadata": {},
     "output_type": "display_data"
    },
    {
     "name": "stdout",
     "output_type": "stream",
     "text": [
      "s3_4_5_ene_0\n",
      "1 * Cs u0 {3,S} {4,S}\n",
      "2   Cs u0 {3,S} {5,S}\n",
      "3   Cs u0 {1,S} {2,S} {6,S}\n",
      "4   Cd u0 {1,S} {5,D}\n",
      "5   Cd u0 {2,S} {4,D} {6,S}\n",
      "6   Cs u0 {3,S} {5,S}\n",
      "\n",
      "**********************\n"
     ]
    },
    {
     "data": {
      "image/png": "[encoded data removed]",
      "text/plain": [
       "Species(index=136, label=\"s3_4_5_ene_1\", molecule=[Molecule(SMILES=\"C1=CC2CC1C2\")], molecularWeight=(80.1277,'amu'), energyTransferModel=SingleExponentialDown(alpha0=(3.5886,'kJ/mol'), T0=(300,'K'), n=0.85))"
      ]
     },
     "metadata": {},
     "output_type": "display_data"
    },
    {
     "name": "stdout",
     "output_type": "stream",
     "text": [
      "s3_4_5_ene_1\n",
      "1 * Cd u0 {3,D} {4,S}\n",
      "2   Cs u0 {4,S} {5,S}\n",
      "3   Cd u0 {1,D} {5,S}\n",
      "4   Cs u0 {1,S} {2,S} {6,S}\n",
      "5   Cs u0 {2,S} {3,S} {6,S}\n",
      "6   Cs u0 {4,S} {5,S}\n",
      "\n",
      "**********************\n"
     ]
    },
    {
     "data": {
      "image/png": "[encoded data removed]",
      "text/plain": [
       "Species(index=137, label=\"s3_4_5_ene_3\", molecule=[Molecule(SMILES=\"C1=C2CCC1C2\")], molecularWeight=(80.1277,'amu'), energyTransferModel=SingleExponentialDown(alpha0=(3.5886,'kJ/mol'), T0=(300,'K'), n=0.85))"
      ]
     },
     "metadata": {},
     "output_type": "display_data"
    },
    {
     "name": "stdout",
     "output_type": "stream",
     "text": [
      "s3_4_5_ene_3\n",
      "1 * Cd u0 {2,D} {4,S} {5,S}\n",
      "2   Cd u0 {1,D} {3,S}\n",
      "3   Cs u0 {2,S} {5,S} {6,S}\n",
      "4   Cs u0 {1,S} {6,S}\n",
      "5   Cs u0 {1,S} {3,S}\n",
      "6   Cs u0 {3,S} {4,S}\n",
      "\n",
      "**********************\n"
     ]
    },
    {
     "data": {
      "image/png": "[encoded data removed]",
      "text/plain": [
       "Species(index=138, label=\"s3_4_5_diene_0_2\", molecule=[Molecule(SMILES=\"C1C=C2CC=1C2\")], molecularWeight=(78.1118,'amu'), energyTransferModel=SingleExponentialDown(alpha0=(3.5886,'kJ/mol'), T0=(300,'K'), n=0.85))"
      ]
     },
     "metadata": {},
     "output_type": "display_data"
    },
    {
     "name": "stdout",
     "output_type": "stream",
     "text": [
      "s3_4_5_diene_0_2\n",
      "1 * Cs u0 {3,S} {6,S}\n",
      "2   Cs u0 {3,S} {6,S}\n",
      "3   Cd u0 {1,S} {2,S} {5,D}\n",
      "4   Cd u0 {5,S} {6,D}\n",
      "5   Cd u0 {3,D} {4,S}\n",
      "6   Cd u0 {1,S} {2,S} {4,D}\n",
      "\n",
      "**********************\n"
     ]
    },
    {
     "data": {
      "image/png": "[encoded data removed]",
      "text/plain": [
       "Species(index=139, label=\"s3_4_5_diene_0_3\", molecule=[Molecule(SMILES=\"C1CC2=CC=1C2\")], molecularWeight=(78.1118,'amu'), energyTransferModel=SingleExponentialDown(alpha0=(3.5886,'kJ/mol'), T0=(300,'K'), n=0.85))"
      ]
     },
     "metadata": {},
     "output_type": "display_data"
    },
    {
     "name": "stdout",
     "output_type": "stream",
     "text": [
      "s3_4_5_diene_0_3\n",
      "1 * Cs u0 {2,S} {3,S}\n",
      "2   Cd u0 {1,S} {4,S} {5,D}\n",
      "3   Cd u0 {1,S} {5,S} {6,D}\n",
      "4   Cs u0 {2,S} {6,S}\n",
      "5   Cd u0 {2,D} {3,S}\n",
      "6   Cd u0 {3,D} {4,S}\n",
      "\n",
      "**********************\n"
     ]
    },
    {
     "data": {
      "image/png": "[encoded data removed]",
      "text/plain": [
       "Species(index=140, label=\"s3_4_5_diene_1_3\", molecule=[Molecule(SMILES=\"C1=CC2C=C1C2\")], molecularWeight=(78.1118,'amu'), energyTransferModel=SingleExponentialDown(alpha0=(3.5886,'kJ/mol'), T0=(300,'K'), n=0.85))"
      ]
     },
     "metadata": {},
     "output_type": "display_data"
    },
    {
     "name": "stdout",
     "output_type": "stream",
     "text": [
      "s3_4_5_diene_1_3\n",
      "1 * Cd u0 {3,S} {4,D}\n",
      "2   Cd u0 {4,S} {6,D}\n",
      "3   Cs u0 {1,S} {5,S} {6,S}\n",
      "4   Cd u0 {1,D} {2,S} {5,S}\n",
      "5   Cs u0 {3,S} {4,S}\n",
      "6   Cd u0 {2,D} {3,S}\n",
      "\n",
      "**********************\n"
     ]
    },
    {
     "data": {
      "image/png": "[encoded data removed]",
      "text/plain": [
       "Species(index=141, label=\"s3_4_5_diene_3_4\", molecule=[Molecule(SMILES=\"C1=C2C=C1CC2\")], molecularWeight=(78.1118,'amu'), energyTransferModel=SingleExponentialDown(alpha0=(3.5886,'kJ/mol'), T0=(300,'K'), n=0.85))"
      ]
     },
     "metadata": {},
     "output_type": "display_data"
    },
    {
     "name": "stdout",
     "output_type": "stream",
     "text": [
      "s3_4_5_diene_3_4\n",
      "1 * Cd u0 {3,S} {6,D}\n",
      "2   Cs u0 {5,S} {6,S}\n",
      "3   Cd u0 {1,S} {4,D} {5,S}\n",
      "4   Cd u0 {3,D} {6,S}\n",
      "5   Cs u0 {2,S} {3,S}\n",
      "6   Cd u0 {1,D} {2,S} {4,S}\n",
      "\n",
      "**********************\n"
     ]
    },
    {
     "data": {
      "image/png": "[encoded data removed]",
      "text/plain": [
       "Species(index=142, label=\"s3_4_6_ane\", molecule=[Molecule(SMILES=\"C1CC2CC(C1)C2\")], molecularWeight=(96.1702,'amu'), energyTransferModel=SingleExponentialDown(alpha0=(3.5886,'kJ/mol'), T0=(300,'K'), n=0.85))"
      ]
     },
     "metadata": {},
     "output_type": "display_data"
    },
    {
     "name": "stdout",
     "output_type": "stream",
     "text": [
      "s3_4_6_ane\n",
      "1 * Cs u0 {3,S} {7,S}\n",
      "2   Cs u0 {4,S} {5,S} {6,S}\n",
      "3   Cs u0 {1,S} {6,S}\n",
      "4   Cs u0 {2,S} {7,S}\n",
      "5   Cs u0 {2,S} {7,S}\n",
      "6   Cs u0 {2,S} {3,S}\n",
      "7   Cs u0 {1,S} {4,S} {5,S}\n",
      "\n",
      "**********************\n"
     ]
    },
    {
     "data": {
      "image/png": "[encoded data removed]",
      "text/plain": [
       "Species(index=143, label=\"s3_4_6_ene_0\", molecule=[Molecule(SMILES=\"C1CCC2CC=1C2\")], molecularWeight=(94.1543,'amu'), energyTransferModel=SingleExponentialDown(alpha0=(3.5886,'kJ/mol'), T0=(300,'K'), n=0.85))"
      ]
     },
     "metadata": {},
     "output_type": "display_data"
    },
    {
     "name": "stdout",
     "output_type": "stream",
     "text": [
      "s3_4_6_ene_0\n",
      "1 * Cd u0 {2,S} {4,D} {5,S}\n",
      "2   Cs u0 {1,S} {7,S}\n",
      "3   Cs u0 {6,S} {7,S}\n",
      "4   Cd u0 {1,D} {6,S}\n",
      "5   Cs u0 {1,S} {7,S}\n",
      "6   Cs u0 {3,S} {4,S}\n",
      "7   Cs u0 {2,S} {3,S} {5,S}\n",
      "\n",
      "**********************\n"
     ]
    },
    {
     "data": {
      "image/png": "[encoded data removed]",
      "text/plain": [
       "Species(index=144, label=\"s3_4_6_ene_1\", molecule=[Molecule(SMILES=\"C1=CC2CC(C1)C2\")], molecularWeight=(94.1543,'amu'), energyTransferModel=SingleExponentialDown(alpha0=(3.5886,'kJ/mol'), T0=(300,'K'), n=0.85))"
      ]
     },
     "metadata": {},
     "output_type": "display_data"
    },
    {
     "name": "stdout",
     "output_type": "stream",
     "text": [
      "s3_4_6_ene_1\n",
      "1 * Cd u0 {4,S} {7,D}\n",
      "2   Cs u0 {3,S} {6,S}\n",
      "3   Cs u0 {2,S} {4,S} {5,S}\n",
      "4   Cs u0 {1,S} {3,S}\n",
      "5   Cs u0 {3,S} {6,S}\n",
      "6   Cs u0 {2,S} {5,S} {7,S}\n",
      "7   Cd u0 {1,D} {6,S}\n",
      "\n",
      "**********************\n"
     ]
    },
    {
     "data": {
      "image/png": "[encoded data removed]",
      "text/plain": [
       "Species(index=145, label=\"s3_4_6_ene_4\", molecule=[Molecule(SMILES=\"C1=C2CCCC1C2\")], molecularWeight=(94.1543,'amu'), energyTransferModel=SingleExponentialDown(alpha0=(3.5886,'kJ/mol'), T0=(300,'K'), n=0.85))"
      ]
     },
     "metadata": {},
     "output_type": "display_data"
    },
    {
     "name": "stdout",
     "output_type": "stream",
     "text": [
      "s3_4_6_ene_4\n",
      "1 * Cs u0 {2,S} {5,S}\n",
      "2   Cs u0 {1,S} {6,S}\n",
      "3   Cd u0 {4,S} {6,S} {7,D}\n",
      "4   Cs u0 {3,S} {5,S}\n",
      "5   Cs u0 {1,S} {4,S} {7,S}\n",
      "6   Cs u0 {2,S} {3,S}\n",
      "7   Cd u0 {3,D} {5,S}\n",
      "\n",
      "**********************\n"
     ]
    },
    {
     "data": {
      "image/png": "[encoded data removed]",
      "text/plain": [
       "Species(index=146, label=\"s3_4_6_diene_0_2\", molecule=[Molecule(SMILES=\"C1=CC2CC(=C1)C2\")], molecularWeight=(92.1384,'amu'), energyTransferModel=SingleExponentialDown(alpha0=(3.5886,'kJ/mol'), T0=(300,'K'), n=0.85))"
      ]
     },
     "metadata": {},
     "output_type": "display_data"
    },
    {
     "name": "stdout",
     "output_type": "stream",
     "text": [
      "s3_4_6_diene_0_2\n",
      "1 * Cs u0 {4,S} {5,S} {7,S}\n",
      "2   Cd u0 {3,D} {5,S} {7,S}\n",
      "3   Cd u0 {2,D} {6,S}\n",
      "4   Cd u0 {1,S} {6,D}\n",
      "5   Cs u0 {1,S} {2,S}\n",
      "6   Cd u0 {3,S} {4,D}\n",
      "7   Cs u0 {1,S} {2,S}\n",
      "\n",
      "**********************\n"
     ]
    },
    {
     "data": {
      "image/png": "[encoded data removed]",
      "text/plain": [
       "Species(index=147, label=\"s3_4_6_diene_0_3\", molecule=[Molecule(SMILES=\"C1CC=C2CC=1C2\")], molecularWeight=(92.1384,'amu'), energyTransferModel=SingleExponentialDown(alpha0=(3.5886,'kJ/mol'), T0=(300,'K'), n=0.85))"
      ]
     },
     "metadata": {},
     "output_type": "display_data"
    },
    {
     "name": "stdout",
     "output_type": "stream",
     "text": [
      "s3_4_6_diene_0_3\n",
      "1 * Cd u0 {3,S} {5,D} {6,S}\n",
      "2   Cd u0 {3,S} {6,S} {7,D}\n",
      "3   Cs u0 {1,S} {2,S}\n",
      "4   Cs u0 {5,S} {7,S}\n",
      "5   Cd u0 {1,D} {4,S}\n",
      "6   Cs u0 {1,S} {2,S}\n",
      "7   Cd u0 {2,D} {4,S}\n",
      "\n",
      "**********************\n"
     ]
    },
    {
     "data": {
      "image/png": "[encoded data removed]",
      "text/plain": [
       "Species(index=148, label=\"s3_4_6_diene_0_4\", molecule=[Molecule(SMILES=\"C1CCC2=CC=1C2\")], molecularWeight=(92.1384,'amu'), energyTransferModel=SingleExponentialDown(alpha0=(3.5886,'kJ/mol'), T0=(300,'K'), n=0.85))"
      ]
     },
     "metadata": {},
     "output_type": "display_data"
    },
    {
     "name": "stdout",
     "output_type": "stream",
     "text": [
      "s3_4_6_diene_0_4\n",
      "1 * Cd u0 {4,S} {7,D}\n",
      "2   Cs u0 {3,S} {6,S}\n",
      "3   Cd u0 {2,S} {4,D}\n",
      "4   Cd u0 {1,S} {3,D} {5,S}\n",
      "5   Cs u0 {4,S} {7,S}\n",
      "6   Cs u0 {2,S} {7,S}\n",
      "7   Cd u0 {1,D} {5,S} {6,S}\n",
      "\n",
      "**********************\n"
     ]
    },
    {
     "data": {
      "image/png": "[encoded data removed]",
      "text/plain": [
       "Species(index=149, label=\"s3_4_6_diene_1_4\", molecule=[Molecule(SMILES=\"C1=CC2C=C(C1)C2\")], molecularWeight=(92.1384,'amu'), energyTransferModel=SingleExponentialDown(alpha0=(3.5886,'kJ/mol'), T0=(300,'K'), n=0.85))"
      ]
     },
     "metadata": {},
     "output_type": "display_data"
    },
    {
     "name": "stdout",
     "output_type": "stream",
     "text": [
      "s3_4_6_diene_1_4\n",
      "1 * Cd u0 {2,D} {6,S}\n",
      "2   Cd u0 {1,D} {7,S}\n",
      "3   Cd u0 {4,S} {5,D} {6,S}\n",
      "4   Cs u0 {3,S} {7,S}\n",
      "5   Cd u0 {3,D} {7,S}\n",
      "6   Cs u0 {1,S} {3,S}\n",
      "7   Cs u0 {2,S} {4,S} {5,S}\n",
      "\n",
      "**********************\n"
     ]
    },
    {
     "data": {
      "image/png": "[encoded data removed]",
      "text/plain": [
       "Species(index=150, label=\"s3_4_6_diene_1_5\", molecule=[Molecule(SMILES=\"C1=CC2=CC(C1)C2\")], molecularWeight=(92.1384,'amu'), energyTransferModel=SingleExponentialDown(alpha0=(3.5886,'kJ/mol'), T0=(300,'K'), n=0.85))"
      ]
     },
     "metadata": {},
     "output_type": "display_data"
    },
    {
     "name": "stdout",
     "output_type": "stream",
     "text": [
      "s3_4_6_diene_1_5\n",
      "1 * Cs u0 {2,S} {7,S}\n",
      "2   Cd u0 {1,S} {3,D}\n",
      "3   Cd u0 {2,D} {6,S}\n",
      "4   Cs u0 {6,S} {7,S}\n",
      "5   Cd u0 {6,D} {7,S}\n",
      "6   Cd u0 {3,S} {4,S} {5,D}\n",
      "7   Cs u0 {1,S} {4,S} {5,S}\n",
      "\n",
      "**********************\n"
     ]
    },
    {
     "data": {
      "image/png": "[encoded data removed]",
      "text/plain": [
       "Species(index=151, label=\"s3_5_5_ane\", molecule=[Molecule(SMILES=\"C1CC2CCC1C2\")], molecularWeight=(96.1702,'amu'), energyTransferModel=SingleExponentialDown(alpha0=(3.5886,'kJ/mol'), T0=(300,'K'), n=0.85))"
      ]
     },
     "metadata": {},
     "output_type": "display_data"
    },
    {
     "name": "stdout",
     "output_type": "stream",
     "text": [
      "s3_5_5_ane\n",
      "1 * Cs u0 {5,S} {6,S}\n",
      "2   Cs u0 {6,S} {7,S}\n",
      "3   Cs u0 {4,S} {6,S}\n",
      "4   Cs u0 {3,S} {5,S}\n",
      "5   Cs u0 {1,S} {4,S} {7,S}\n",
      "6   Cs u0 {1,S} {2,S} {3,S}\n",
      "7   Cs u0 {2,S} {5,S}\n",
      "\n",
      "**********************\n"
     ]
    },
    {
     "data": {
      "image/png": "[encoded data removed]",
      "text/plain": [
       "Species(index=152, label=\"s3_5_5_ene_1\", molecule=[Molecule(SMILES=\"C1=CC2CCC1C2\")], molecularWeight=(94.1543,'amu'), energyTransferModel=SingleExponentialDown(alpha0=(3.5886,'kJ/mol'), T0=(300,'K'), n=0.85))"
      ]
     },
     "metadata": {},
     "output_type": "display_data"
    },
    {
     "name": "stdout",
     "output_type": "stream",
     "text": [
      "s3_5_5_ene_1\n",
      "1 * Cd u0 {2,S} {3,D}\n",
      "2   Cs u0 {1,S} {4,S} {5,S}\n",
      "3   Cd u0 {1,D} {6,S}\n",
      "4   Cs u0 {2,S} {6,S}\n",
      "5   Cs u0 {2,S} {7,S}\n",
      "6   Cs u0 {3,S} {4,S} {7,S}\n",
      "7   Cs u0 {5,S} {6,S}\n",
      "\n",
      "**********************\n"
     ]
    },
    {
     "data": {
      "image/png": "[encoded data removed]",
      "text/plain": [
       "Species(index=153, label=\"s3_5_5_diene_1_4\", molecule=[Molecule(SMILES=\"C1=CC2C=CC1C2\")], molecularWeight=(92.1384,'amu'), energyTransferModel=SingleExponentialDown(alpha0=(3.5886,'kJ/mol'), T0=(300,'K'), n=0.85))"
      ]
     },
     "metadata": {},
     "output_type": "display_data"
    },
    {
     "name": "stdout",
     "output_type": "stream",
     "text": [
      "s3_5_5_diene_1_4\n",
      "1 * Cs u0 {5,S} {6,S} {7,S}\n",
      "2   Cd u0 {3,S} {6,D}\n",
      "3   Cs u0 {2,S} {4,S} {5,S}\n",
      "4   Cd u0 {3,S} {7,D}\n",
      "5   Cs u0 {1,S} {3,S}\n",
      "6   Cd u0 {1,S} {2,D}\n",
      "7   Cd u0 {1,S} {4,D}\n",
      "\n",
      "**********************\n"
     ]
    },
    {
     "data": {
      "image/png": "[encoded data removed]",
      "text/plain": [
       "Species(index=154, label=\"s3_5_6_ane\", molecule=[Molecule(SMILES=\"C1CC2CCC(C1)C2\")], molecularWeight=(110.197,'amu'), energyTransferModel=SingleExponentialDown(alpha0=(3.5886,'kJ/mol'), T0=(300,'K'), n=0.85))"
      ]
     },
     "metadata": {},
     "output_type": "display_data"
    },
    {
     "name": "stdout",
     "output_type": "stream",
     "text": [
      "s3_5_6_ane\n",
      "1 * Cs u0 {4,S} {5,S} {6,S}\n",
      "2   Cs u0 {7,S} {8,S}\n",
      "3   Cs u0 {5,S} {8,S}\n",
      "4   Cs u0 {1,S} {8,S}\n",
      "5   Cs u0 {1,S} {3,S}\n",
      "6   Cs u0 {1,S} {7,S}\n",
      "7   Cs u0 {2,S} {6,S}\n",
      "8   Cs u0 {2,S} {3,S} {4,S}\n",
      "\n",
      "**********************\n"
     ]
    },
    {
     "data": {
      "image/png": "[encoded data removed]",
      "text/plain": [
       "Species(index=155, label=\"s3_5_6_ene_1\", molecule=[Molecule(SMILES=\"C1=CC2CCC(C1)C2\")], molecularWeight=(108.181,'amu'), energyTransferModel=SingleExponentialDown(alpha0=(3.5886,'kJ/mol'), T0=(300,'K'), n=0.85))"
      ]
     },
     "metadata": {},
     "output_type": "display_data"
    },
    {
     "name": "stdout",
     "output_type": "stream",
     "text": [
      "s3_5_6_ene_1\n",
      "1 * Cs u0 {3,S} {4,S}\n",
      "2   Cd u0 {4,S} {7,D}\n",
      "3   Cs u0 {1,S} {5,S}\n",
      "4   Cs u0 {1,S} {2,S} {8,S}\n",
      "5   Cs u0 {3,S} {6,S} {8,S}\n",
      "6   Cs u0 {5,S} {7,S}\n",
      "7   Cd u0 {2,D} {6,S}\n",
      "8   Cs u0 {4,S} {5,S}\n",
      "\n",
      "**********************\n"
     ]
    },
    {
     "data": {
      "image/png": "[encoded data removed]",
      "text/plain": [
       "Species(index=156, label=\"s3_5_6_ene_5\", molecule=[Molecule(SMILES=\"C1=CC2CCCC1C2\")], molecularWeight=(108.181,'amu'), energyTransferModel=SingleExponentialDown(alpha0=(3.5886,'kJ/mol'), T0=(300,'K'), n=0.85))"
      ]
     },
     "metadata": {},
     "output_type": "display_data"
    },
    {
     "name": "stdout",
     "output_type": "stream",
     "text": [
      "s3_5_6_ene_5\n",
      "1 * Cs u0 {2,S} {6,S} {7,S}\n",
      "2   Cs u0 {1,S} {4,S}\n",
      "3   Cd u0 {4,S} {7,D}\n",
      "4   Cs u0 {2,S} {3,S} {5,S}\n",
      "5   Cs u0 {4,S} {8,S}\n",
      "6   Cs u0 {1,S} {8,S}\n",
      "7   Cd u0 {1,S} {3,D}\n",
      "8   Cs u0 {5,S} {6,S}\n",
      "\n",
      "**********************\n"
     ]
    },
    {
     "data": {
      "image/png": "[encoded data removed]",
      "text/plain": [
       "Species(index=157, label=\"s3_5_6_diene_1_5\", molecule=[Molecule(SMILES=\"C1=CC2C=CC(C1)C2\")], molecularWeight=(106.165,'amu'), energyTransferModel=SingleExponentialDown(alpha0=(3.5886,'kJ/mol'), T0=(300,'K'), n=0.85))"
      ]
     },
     "metadata": {},
     "output_type": "display_data"
    },
    {
     "name": "stdout",
     "output_type": "stream",
     "text": [
      "s3_5_6_diene_1_5\n",
      "1 * Cs u0 {5,S} {7,S}\n",
      "2   Cs u0 {5,S} {8,S}\n",
      "3   Cd u0 {7,D} {8,S}\n",
      "4   Cd u0 {5,S} {6,D}\n",
      "5   Cs u0 {1,S} {2,S} {4,S}\n",
      "6   Cd u0 {4,D} {8,S}\n",
      "7   Cd u0 {1,S} {3,D}\n",
      "8   Cs u0 {2,S} {3,S} {6,S}\n",
      "\n",
      "**********************\n"
     ]
    },
    {
     "data": {
      "image/png": "[encoded data removed]",
      "text/plain": [
       "Species(index=158, label=\"s3_6_6_ane\", molecule=[Molecule(SMILES=\"C1CC2CCCC(C1)C2\")], molecularWeight=(124.223,'amu'), energyTransferModel=SingleExponentialDown(alpha0=(3.5886,'kJ/mol'), T0=(300,'K'), n=0.85))"
      ]
     },
     "metadata": {},
     "output_type": "display_data"
    },
    {
     "name": "stdout",
     "output_type": "stream",
     "text": [
      "s3_6_6_ane\n",
      "1 * Cs u0 {2,S} {6,S}\n",
      "2   Cs u0 {1,S} {4,S} {5,S}\n",
      "3   Cs u0 {5,S} {9,S}\n",
      "4   Cs u0 {2,S} {8,S}\n",
      "5   Cs u0 {2,S} {3,S}\n",
      "6   Cs u0 {1,S} {7,S}\n",
      "7   Cs u0 {6,S} {8,S}\n",
      "8   Cs u0 {4,S} {7,S} {9,S}\n",
      "9   Cs u0 {3,S} {8,S}\n",
      "\n",
      "**********************\n"
     ]
    },
    {
     "data": {
      "image/png": "[encoded data removed]",
      "text/plain": [
       "Species(index=159, label=\"s3_6_6_ene_0\", molecule=[Molecule(SMILES=\"C1CCC2CCCC=1C2\")], molecularWeight=(122.207,'amu'), energyTransferModel=SingleExponentialDown(alpha0=(3.5886,'kJ/mol'), T0=(300,'K'), n=0.85))"
      ]
     },
     "metadata": {},
     "output_type": "display_data"
    },
    {
     "name": "stdout",
     "output_type": "stream",
     "text": [
      "s3_6_6_ene_0\n",
      "1 * Cd u0 {5,S} {7,D}\n",
      "2   Cs u0 {4,S} {5,S}\n",
      "3   Cs u0 {4,S} {9,S}\n",
      "4   Cs u0 {2,S} {3,S} {6,S}\n",
      "5   Cs u0 {1,S} {2,S}\n",
      "6   Cs u0 {4,S} {7,S}\n",
      "7   Cd u0 {1,D} {6,S} {8,S}\n",
      "8   Cs u0 {7,S} {9,S}\n",
      "9   Cs u0 {3,S} {8,S}\n",
      "\n",
      "**********************\n"
     ]
    },
    {
     "data": {
      "image/png": "[encoded data removed]",
      "text/plain": [
       "Species(index=160, label=\"s3_6_6_ene_1\", molecule=[Molecule(SMILES=\"C1=CC2CCCC(C1)C2\")], molecularWeight=(122.207,'amu'), energyTransferModel=SingleExponentialDown(alpha0=(3.5886,'kJ/mol'), T0=(300,'K'), n=0.85))"
      ]
     },
     "metadata": {},
     "output_type": "display_data"
    },
    {
     "name": "stdout",
     "output_type": "stream",
     "text": [
      "s3_6_6_ene_1\n",
      "1 * Cd u0 {3,S} {8,D}\n",
      "2   Cs u0 {4,S} {9,S}\n",
      "3   Cs u0 {1,S} {5,S} {6,S}\n",
      "4   Cs u0 {2,S} {6,S} {7,S}\n",
      "5   Cs u0 {3,S} {9,S}\n",
      "6   Cs u0 {3,S} {4,S}\n",
      "7   Cs u0 {4,S} {8,S}\n",
      "8   Cd u0 {1,D} {7,S}\n",
      "9   Cs u0 {2,S} {5,S}\n",
      "\n",
      "**********************\n"
     ]
    },
    {
     "data": {
      "image/png": "[encoded data removed]",
      "text/plain": [
       "Species(index=161, label=\"s3_6_6_ene_4\", molecule=[Molecule(SMILES=\"C1=C2CCCC1CCC2\")], molecularWeight=(122.207,'amu'), energyTransferModel=SingleExponentialDown(alpha0=(3.5886,'kJ/mol'), T0=(300,'K'), n=0.85))"
      ]
     },
     "metadata": {},
     "output_type": "display_data"
    },
    {
     "name": "stdout",
     "output_type": "stream",
     "text": [
      "s3_6_6_ene_4\n",
      "1 * Cs u0 {4,S} {7,S}\n",
      "2   Cd u0 {5,D} {7,S}\n",
      "3   Cs u0 {8,S} {9,S}\n",
      "4   Cs u0 {1,S} {6,S}\n",
      "5   Cd u0 {2,D} {6,S} {8,S}\n",
      "6   Cs u0 {4,S} {5,S}\n",
      "7   Cs u0 {1,S} {2,S} {9,S}\n",
      "8   Cs u0 {3,S} {5,S}\n",
      "9   Cs u0 {3,S} {7,S}\n",
      "\n",
      "**********************\n"
     ]
    },
    {
     "data": {
      "image/png": "[encoded data removed]",
      "text/plain": [
       "Species(index=162, label=\"s3_6_6_diene_0_m\", molecule=[Molecule(SMILES=\"C1CCC2=CC=1CCC2\")], molecularWeight=(120.192,'amu'), energyTransferModel=SingleExponentialDown(alpha0=(3.5886,'kJ/mol'), T0=(300,'K'), n=0.85))"
      ]
     },
     "metadata": {},
     "output_type": "display_data"
    },
    {
     "name": "stdout",
     "output_type": "stream",
     "text": [
      "s3_6_6_diene_0_m\n",
      "1 * Cd u0 {7,D} {8,S}\n",
      "2   Cs u0 {5,S} {6,S}\n",
      "3   Cd u0 {4,S} {5,S} {9,D}\n",
      "4   Cs u0 {3,S} {8,S}\n",
      "5   Cs u0 {2,S} {3,S}\n",
      "6   Cs u0 {2,S} {7,S}\n",
      "7   Cd u0 {1,D} {6,S} {9,S}\n",
      "8   Cs u0 {1,S} {4,S}\n",
      "9   Cd u0 {3,D} {7,S}\n",
      "\n",
      "**********************\n"
     ]
    },
    {
     "data": {
      "image/png": "[encoded data removed]",
      "text/plain": [
       "Species(index=163, label=\"s3_6_6_diene_0_2\", molecule=[Molecule(SMILES=\"C1=CC2CCCC(=C1)C2\")], molecularWeight=(120.192,'amu'), energyTransferModel=SingleExponentialDown(alpha0=(3.5886,'kJ/mol'), T0=(300,'K'), n=0.85))"
      ]
     },
     "metadata": {},
     "output_type": "display_data"
    },
    {
     "name": "stdout",
     "output_type": "stream",
     "text": [
      "s3_6_6_diene_0_2\n",
      "1 * Cd u0 {5,D} {8,S}\n",
      "2   Cs u0 {4,S} {6,S}\n",
      "3   Cs u0 {4,S} {8,S}\n",
      "4   Cd u0 {2,S} {3,S} {7,D}\n",
      "5   Cd u0 {1,D} {7,S}\n",
      "6   Cs u0 {2,S} {9,S}\n",
      "7   Cd u0 {4,D} {5,S}\n",
      "8   Cs u0 {1,S} {3,S} {9,S}\n",
      "9   Cs u0 {6,S} {8,S}\n",
      "\n",
      "**********************\n"
     ]
    },
    {
     "data": {
      "image/png": "[encoded data removed]",
      "text/plain": [
       "Species(index=164, label=\"s3_6_6_diene_0_3\", molecule=[Molecule(SMILES=\"C1CC=C2CCCC=1C2\")], molecularWeight=(120.192,'amu'), energyTransferModel=SingleExponentialDown(alpha0=(3.5886,'kJ/mol'), T0=(300,'K'), n=0.85))"
      ]
     },
     "metadata": {},
     "output_type": "display_data"
    },
    {
     "name": "stdout",
     "output_type": "stream",
     "text": [
      "s3_6_6_diene_0_3\n",
      "1 * Cs u0 {3,S} {5,S}\n",
      "2   Cd u0 {5,S} {6,S} {7,D}\n",
      "3   Cs u0 {1,S} {4,S}\n",
      "4   Cd u0 {3,S} {6,S} {9,D}\n",
      "5   Cs u0 {1,S} {2,S}\n",
      "6   Cs u0 {2,S} {4,S}\n",
      "7   Cd u0 {2,D} {8,S}\n",
      "8   Cs u0 {7,S} {9,S}\n",
      "9   Cd u0 {4,D} {8,S}\n",
      "\n",
      "**********************\n"
     ]
    },
    {
     "data": {
      "image/png": "[encoded data removed]",
      "text/plain": [
       "Species(index=165, label=\"s3_6_6_diene_0_4\", molecule=[Molecule(SMILES=\"C1CCC2=CCCC=1C2\")], molecularWeight=(120.192,'amu'), energyTransferModel=SingleExponentialDown(alpha0=(3.5886,'kJ/mol'), T0=(300,'K'), n=0.85))"
      ]
     },
     "metadata": {},
     "output_type": "display_data"
    },
    {
     "name": "stdout",
     "output_type": "stream",
     "text": [
      "s3_6_6_diene_0_4\n",
      "1 * Cd u0 {6,D} {8,S}\n",
      "2   Cs u0 {3,S} {6,S}\n",
      "3   Cd u0 {2,S} {4,D} {7,S}\n",
      "4   Cd u0 {3,D} {9,S}\n",
      "5   Cs u0 {6,S} {9,S}\n",
      "6   Cd u0 {1,D} {2,S} {5,S}\n",
      "7   Cs u0 {3,S} {8,S}\n",
      "8   Cs u0 {1,S} {7,S}\n",
      "9   Cs u0 {4,S} {5,S}\n",
      "\n",
      "**********************\n"
     ]
    },
    {
     "data": {
      "image/png": "[encoded data removed]",
      "text/plain": [
       "Species(index=166, label=\"s3_6_6_diene_0_5\", molecule=[Molecule(SMILES=\"C1=CC2CCC=C(C1)C2\")], molecularWeight=(120.192,'amu'), energyTransferModel=SingleExponentialDown(alpha0=(3.5886,'kJ/mol'), T0=(300,'K'), n=0.85))"
      ]
     },
     "metadata": {},
     "output_type": "display_data"
    },
    {
     "name": "stdout",
     "output_type": "stream",
     "text": [
      "s3_6_6_diene_0_5\n",
      "1 * Cs u0 {3,S} {4,S} {8,S}\n",
      "2   Cd u0 {4,D} {7,S}\n",
      "3   Cs u0 {1,S} {6,S}\n",
      "4   Cd u0 {1,S} {2,D}\n",
      "5   Cs u0 {8,S} {9,S}\n",
      "6   Cd u0 {3,S} {7,S} {9,D}\n",
      "7   Cs u0 {2,S} {6,S}\n",
      "8   Cs u0 {1,S} {5,S}\n",
      "9   Cd u0 {5,S} {6,D}\n",
      "\n",
      "**********************\n"
     ]
    },
    {
     "data": {
      "image/png": "[encoded data removed]",
      "text/plain": [
       "Species(index=167, label=\"s3_6_6_diene_0_6\", molecule=[Molecule(SMILES=\"C1=CC2=CCCC(C1)C2\")], molecularWeight=(120.192,'amu'), energyTransferModel=SingleExponentialDown(alpha0=(3.5886,'kJ/mol'), T0=(300,'K'), n=0.85))"
      ]
     },
     "metadata": {},
     "output_type": "display_data"
    },
    {
     "name": "stdout",
     "output_type": "stream",
     "text": [
      "s3_6_6_diene_0_6\n",
      "1 * Cd u0 {7,D} {8,S}\n",
      "2   Cs u0 {3,S} {9,S}\n",
      "3   Cs u0 {2,S} {5,S}\n",
      "4   Cs u0 {7,S} {9,S}\n",
      "5   Cd u0 {3,S} {8,D}\n",
      "6   Cs u0 {8,S} {9,S}\n",
      "7   Cd u0 {1,D} {4,S}\n",
      "8   Cd u0 {1,S} {5,D} {6,S}\n",
      "9   Cs u0 {2,S} {4,S} {6,S}\n",
      "\n",
      "**********************\n"
     ]
    },
    {
     "data": {
      "image/png": "[encoded data removed]",
      "text/plain": [
       "Species(index=168, label=\"s3_6_6_diene_1_m\", molecule=[Molecule(SMILES=\"C1=CC2C=C(C1)CCC2\")], molecularWeight=(120.192,'amu'), energyTransferModel=SingleExponentialDown(alpha0=(3.5886,'kJ/mol'), T0=(300,'K'), n=0.85))"
      ]
     },
     "metadata": {},
     "output_type": "display_data"
    },
    {
     "name": "stdout",
     "output_type": "stream",
     "text": [
      "s3_6_6_diene_1_m\n",
      "1 * Cs u0 {7,S} {8,S}\n",
      "2   Cd u0 {5,S} {7,D}\n",
      "3   Cs u0 {4,S} {9,S}\n",
      "4   Cs u0 {3,S} {5,S}\n",
      "5   Cs u0 {2,S} {4,S} {6,S}\n",
      "6   Cd u0 {5,S} {8,D}\n",
      "7   Cd u0 {1,S} {2,D}\n",
      "8   Cd u0 {1,S} {6,D} {9,S}\n",
      "9   Cs u0 {3,S} {8,S}\n",
      "\n",
      "**********************\n"
     ]
    },
    {
     "data": {
      "image/png": "[encoded data removed]",
      "text/plain": [
       "Species(index=169, label=\"s3_6_6_diene_1_5\", molecule=[Molecule(SMILES=\"C1=CC2CC=CC(C1)C2\")], molecularWeight=(120.192,'amu'), energyTransferModel=SingleExponentialDown(alpha0=(3.5886,'kJ/mol'), T0=(300,'K'), n=0.85))"
      ]
     },
     "metadata": {},
     "output_type": "display_data"
    },
    {
     "name": "stdout",
     "output_type": "stream",
     "text": [
      "s3_6_6_diene_1_5\n",
      "1 * Cs u0 {2,S} {5,S} {9,S}\n",
      "2   Cs u0 {1,S} {4,S}\n",
      "3   Cd u0 {7,D} {9,S}\n",
      "4   Cs u0 {2,S} {7,S} {8,S}\n",
      "5   Cd u0 {1,S} {6,D}\n",
      "6   Cd u0 {5,D} {8,S}\n",
      "7   Cd u0 {3,D} {4,S}\n",
      "8   Cs u0 {4,S} {6,S}\n",
      "9   Cs u0 {1,S} {3,S}\n",
      "\n",
      "**********************\n"
     ]
    },
    {
     "data": {
      "image/png": "[encoded data removed]",
      "text/plain": [
       "Species(index=170, label=\"s3_6_6_diene_1_6\", molecule=[Molecule(SMILES=\"C1=CC2C=CCC(C1)C2\")], molecularWeight=(120.192,'amu'), energyTransferModel=SingleExponentialDown(alpha0=(3.5886,'kJ/mol'), T0=(300,'K'), n=0.85))"
      ]
     },
     "metadata": {},
     "output_type": "display_data"
    },
    {
     "name": "stdout",
     "output_type": "stream",
     "text": [
      "s3_6_6_diene_1_6\n",
      "1 * Cs u0 {5,S} {6,S} {8,S}\n",
      "2   Cd u0 {3,S} {9,D}\n",
      "3   Cs u0 {2,S} {4,S} {6,S}\n",
      "4   Cd u0 {3,S} {7,D}\n",
      "5   Cs u0 {1,S} {7,S}\n",
      "6   Cs u0 {1,S} {3,S}\n",
      "7   Cd u0 {4,D} {5,S}\n",
      "8   Cs u0 {1,S} {9,S}\n",
      "9   Cd u0 {2,D} {8,S}\n",
      "\n",
      "**********************\n"
     ]
    },
    {
     "data": {
      "image/png": "[encoded data removed]",
      "text/plain": [
       "Species(index=171, label=\"s3_6_6_diene_1_8\", molecule=[Molecule(SMILES=\"C1=CC2=CC(C1)CCC2\")], molecularWeight=(120.192,'amu'), energyTransferModel=SingleExponentialDown(alpha0=(3.5886,'kJ/mol'), T0=(300,'K'), n=0.85))"
      ]
     },
     "metadata": {},
     "output_type": "display_data"
    },
    {
     "name": "stdout",
     "output_type": "stream",
     "text": [
      "s3_6_6_diene_1_8\n",
      "1 * Cs u0 {2,S} {7,S}\n",
      "2   Cs u0 {1,S} {5,S}\n",
      "3   Cd u0 {5,S} {6,D}\n",
      "4   Cd u0 {5,D} {9,S}\n",
      "5   Cd u0 {2,S} {3,S} {4,D}\n",
      "6   Cd u0 {3,D} {8,S}\n",
      "7   Cs u0 {1,S} {9,S}\n",
      "8   Cs u0 {6,S} {9,S}\n",
      "9   Cs u0 {4,S} {7,S} {8,S}\n",
      "\n",
      "**********************\n"
     ]
    }
   ],
   "source": [
    "for spec in rmg.initialSpecies:\n",
    "    display(spec)\n",
    "    print spec.label\n",
    "    polycyclic_group = extractPolycyclicGroups(spec.molecule[0])\n",
    "    assert len(polycyclic_group) == 1\n",
    "    print polycyclic_group[0].toAdjacencyList()\n",
    "    print '**********************'"
   ]
  },
  {
   "cell_type": "code",
   "execution_count": 6,
   "metadata": {
    "collapsed": false
   },
   "outputs": [],
   "source": [
    "from rmgpy.data.rmg import RMGDatabase\n",
    "from rmgpy import settings\n",
    "\n",
    "database = RMGDatabase()\n",
    "database.load(settings['database.directory'], thermoLibraries = 'none', kineticsFamilies='none', kineticsDepositories='none', reactionLibraries=[])\n",
    "\n",
    "thermoDatabase = database.thermo\n",
    "\n",
    "\n",
    "import copy\n",
    "thermoDatabase0 = copy.deepcopy(database.thermo)"
   ]
  },
  {
   "cell_type": "code",
   "execution_count": 7,
   "metadata": {
    "collapsed": false
   },
   "outputs": [],
   "source": [
    "from rmgpy.data.base import Entry\n",
    "polycyclicRingGroup = thermoDatabase.groups['polycyclic'].entries['PolycyclicRing']\n",
    "dummy_thermo_data = polycyclicRingGroup.data\n",
    "for spec in rmg.initialSpecies:\n",
    "    matched_groups = extractPolycyclicGroups(spec.molecule[0])\n",
    "    thermoDatabase.groups['polycyclic'].entries[spec.label] = Entry(index = len(thermoDatabase.groups['polycyclic'].entries)+1,\n",
    "                                                                                  label = spec.label,\n",
    "                                                                                   item = matched_groups[0],\n",
    "                                                                                   data = dummy_thermo_data, # Use dummy thermo here so other estimates can find this group\n",
    "                                                                                   parent = polycyclicRingGroup,\n",
    "                                                                                  )\n",
    "    polycyclicGroup = thermoDatabase.groups['polycyclic'].entries[spec.label] \n",
    "    thermoDatabase.groups['polycyclic'].entries['PolycyclicRing'].children.append(polycyclicGroup)"
   ]
  },
  {
   "cell_type": "code",
   "execution_count": 8,
   "metadata": {
    "collapsed": false
   },
   "outputs": [],
   "source": [
    "thermoDatabase.groups['polycyclic'].save('new_polycyclic.py')"
   ]
  },
  {
   "cell_type": "code",
   "execution_count": null,
   "metadata": {
    "collapsed": true
   },
   "outputs": [],
   "source": []
  }
 ],
 "metadata": {
  "kernelspec": {
   "display_name": "Python 2",
   "language": "python",
   "name": "python2"
  },
  "language_info": {
   "codemirror_mode": {
    "name": "ipython",
    "version": 2
   },
   "file_extension": ".py",
   "mimetype": "text/x-python",
   "name": "python",
   "nbconvert_exporter": "python",
   "pygments_lexer": "ipython2",
   "version": "2.7.11"
  }
 },
 "nbformat": 4,
 "nbformat_minor": 0
}
